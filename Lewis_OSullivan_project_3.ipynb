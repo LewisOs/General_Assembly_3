{
 "cells": [
  {
   "cell_type": "markdown",
   "metadata": {},
   "source": [
    "<img src=\"http://imgur.com/1ZcRyrc.png\" style=\"float: left; margin: 15px; height: 80px\">\n",
    "\n",
    "# Project 3\n",
    "\n",
    "### Regression and Classification with the Ames Housing Data\n",
    "\n",
    "---\n",
    "\n",
    "You have just joined a new \"full stack\" real estate company in Ames, Iowa. The strategy of the firm is two-fold:\n",
    "- Own the entire process from the purchase of the land all the way to sale of the house, and anything in between.\n",
    "- Use statistical analysis to optimize investment and maximize return.\n",
    "\n",
    "The company is still small, and though investment is substantial the short-term goals of the company are more oriented towards purchasing existing houses and flipping them as opposed to constructing entirely new houses. That being said, the company has access to a large construction workforce operating at rock-bottom prices.\n",
    "\n",
    "This project uses the [Ames housing data recently made available on kaggle](https://www.kaggle.com/c/house-prices-advanced-regression-techniques)."
   ]
  },
  {
   "cell_type": "code",
   "execution_count": 1,
   "metadata": {},
   "outputs": [],
   "source": [
    "import numpy as np\n",
    "import scipy.stats as stats\n",
    "import seaborn as sns\n",
    "import matplotlib.pyplot as plt\n",
    "import pandas as pd\n",
    "from sklearn.linear_model import LinearRegression, LassoCV, RidgeCV, ElasticNetCV\n",
    "\n",
    "\n",
    "plt.style.use('ggplot')\n",
    "\n",
    "%config InlineBackend.figure_format = 'retina'\n",
    "%matplotlib inline"
   ]
  },
  {
   "cell_type": "markdown",
   "metadata": {},
   "source": [
    "<img src=\"http://imgur.com/l5NasQj.png\" style=\"float: left; margin: 25px 15px 0px 0px; height: 25px\">\n",
    "\n",
    "## 1. Estimating the value of homes from fixed characteristics.\n",
    "\n",
    "---\n",
    "\n",
    "Your superiors have outlined this year's strategy for the company:\n",
    "1. Develop an algorithm to reliably estimate the value of residential houses based on *fixed* characteristics.\n",
    "2. Identify characteristics of houses that the company can cost-effectively change/renovate with their construction team.\n",
    "3. Evaluate the mean dollar value of different renovations.\n",
    "\n",
    "Then we can use that to buy houses that are likely to sell for more than the cost of the purchase plus renovations.\n",
    "\n",
    "Your first job is to tackle #1. You have a dataset of housing sale data with a huge amount of features identifying different aspects of the house. The full description of the data features can be found in a separate file:\n",
    "\n",
    "    housing.csv\n",
    "    data_description.txt\n",
    "    \n",
    "You need to build a reliable estimator for the price of the house given characteristics of the house that cannot be renovated. Some examples include:\n",
    "- The neighborhood\n",
    "- Square feet\n",
    "- Bedrooms, bathrooms\n",
    "- Basement and garage space\n",
    "\n",
    "and many more. \n",
    "\n",
    "Some examples of things that **ARE renovateable:**\n",
    "- Roof and exterior features\n",
    "- \"Quality\" metrics, such as kitchen quality\n",
    "- \"Condition\" metrics, such as condition of garage\n",
    "- Heating and electrical components\n",
    "\n",
    "and generally anything you deem can be modified without having to undergo major construction on the house.\n",
    "\n",
    "---\n",
    "\n",
    "**Your goals:**\n",
    "1. Perform any cleaning, feature engineering, and EDA you deem necessary.\n",
    "- Be sure to remove any houses that are not residential from the dataset.\n",
    "- Identify **fixed** features that can predict price.\n",
    "- Train a model on pre-2010 data and evaluate its performance on the 2010 houses.\n",
    "- Characterize your model. How well does it perform? What are the best estimates of price?\n",
    "\n",
    "> **Note:** The EDA and feature engineering component to this project is not trivial! Be sure to always think critically and creatively. Justify your actions! Use the data description file!"
   ]
  },
  {
   "cell_type": "code",
   "execution_count": 2,
   "metadata": {},
   "outputs": [],
   "source": [
    "# Load the data\n",
    "house = pd.read_csv('./housing.csv',na_filter=False)"
   ]
  },
  {
   "cell_type": "code",
   "execution_count": 3,
   "metadata": {},
   "outputs": [
    {
     "data": {
      "text/plain": [
       "(1460, 81)"
      ]
     },
     "execution_count": 3,
     "metadata": {},
     "output_type": "execute_result"
    }
   ],
   "source": [
    "# checking shape\n",
    "house.shape"
   ]
  },
  {
   "cell_type": "code",
   "execution_count": 4,
   "metadata": {},
   "outputs": [],
   "source": [
    "# building data dict\n",
    "house_data_dict = {'Id':['Row number','fixed/mutable','cat/cont'],\n",
    "                   'MSSubClass':['Identifies the type of dwelling involved in the sale', 'fixed', 'cat'],\n",
    "                   'MSZoning':['Identifies the general zoning classification of the sale', 'fixed', 'cat'],\n",
    "                   'LotFrontage':['Linear feet of street connected to property', 'fixed', 'cont'],\n",
    "                   'LotArea':['Lot size in square feet', 'fixed', 'cont'],\n",
    "                   'Street':['Type of road access to property', 'mutable', 'cat'],\n",
    "                   'Alley':['Type of alley access to property', 'mutable', 'cat'], \n",
    "                   'LotShape':['General shape of property', 'fixed', 'cat'], \n",
    "                   'LandContour':['Flatness of the property', 'fixed', 'cat'], \n",
    "                   'Utilities':['Type of utilities available', 'mutable', 'cat'], \n",
    "                   'LotConfig':['Lot configuration', 'fixed', 'cat'],\n",
    "                   'LandSlope':['Slope of property', 'fixed', 'cat'], \n",
    "                   'Neighborhood':['Physical locations within Ames city limits', 'fixed', 'cat'], \n",
    "                   'Condition1':['Proximity to various conditions', 'fixed', 'cat'], \n",
    "                   'Condition2':['Proximity to various conditions (if more than one is present)', 'fixed', 'cat'], \n",
    "                   'BldgType':['Type of dwelling', 'fixed', 'cat'],\n",
    "                   'HouseStyle':['Style of dwelling', 'fixed', 'cat'], \n",
    "                   'OverallQual':['Rates the overall material and finish of the house', 'mutable', 'cont'], \n",
    "                   'OverallCond':['Rates the overall condition of the house','mutable', 'cont'], \n",
    "                   'YearBuilt':['Original construction date', 'fixed', 'cont'], \n",
    "                   'YearRemodAdd':['Remodel date (same as construction date if no remodeling or additions)',\n",
    "                                   'fixed', 'cont'],\n",
    "                   'RoofStyle':['Type of roof', 'fixed', 'cat'], \n",
    "                   'RoofMatl':['Roof material', 'mutable', 'cat'], \n",
    "                   'Exterior1st':['Exterior covering on house', 'mutable', 'cat'], \n",
    "                   'Exterior2nd':['Exterior covering on house (if more than one material)', 'mutable', 'cat'], \n",
    "                   'MasVnrType':['Masonry veneer type', 'mutable', 'cat'],\n",
    "                   'MasVnrArea':['Masonry veneer area in square feet', 'mutable', 'cont'], \n",
    "                   'ExterQual':['Evaluates the quality of the material on the exterior', 'mutable', 'cat'], \n",
    "                   'ExterCond':['Evaluates the present condition of the material on the exterior', 'mutable', 'cat'], \n",
    "                   'Foundation':['Type of foundation', 'fixed', 'cat'], \n",
    "                   'BsmtQual':['Evaluates the height of the basement', 'mutable', 'cat'],\n",
    "                   'BsmtCond':['Evaluates the general condition of the basement', 'mutable', 'cat'], \n",
    "                   'BsmtExposure':['Refers to walkout or garden level walls', 'fixed', 'cat'], \n",
    "                   'BsmtFinType1':['Rating of basement finished area', 'mutable', 'cat'], \n",
    "                   'BsmtFinSF1':['Type 1 finished square feet', 'fixed', 'cont'],\n",
    "                   'BsmtFinType2':['Rating of basement finished area (if multiple types)', 'mutable', 'cat'], \n",
    "                   'BsmtFinSF2':['Type 2 finished square feet', 'fixed', 'cont'], \n",
    "                   'BsmtUnfSF':['Unfinished square feet of basement area', 'fixed', 'cont'], \n",
    "                   'TotalBsmtSF':['Total square feet of basement area', 'fixed', 'cont'], \n",
    "                   'Heating':['Type of heating', 'mutable', 'cat'],\n",
    "                   'HeatingQC':['Heating quality and condition', 'mutable', 'cat'], \n",
    "                   'CentralAir':['Central air conditioning', 'mutable', 'bin'], \n",
    "                   'Electrical':['Electrical system', 'mutable', 'cat'], \n",
    "                   '1stFlrSF':['First Floor square feet','fixed', 'cont'], \n",
    "                   '2ndFlrSF':['Second floor square feet','fixed', 'cont'],\n",
    "                   'LowQualFinSF':['Low quality finished square feet (all floors)', 'mutable', 'cont'], \n",
    "                   'GrLivArea':['Above grade (ground) living area square feet', 'fixed', 'cont'], \n",
    "                   'BsmtFullBath':['Basement full bathrooms', 'mutable', 'cont'], \n",
    "                   'BsmtHalfBath':['Basement half bathrooms', 'mutable', 'cont'], \n",
    "                   'FullBath':['Full bathrooms above grade', 'mutable', 'cont'],\n",
    "                   'HalfBath':['Half baths above grade', 'mutable', 'cont'], \n",
    "                   'BedroomAbvGr':['Bedrooms above grade (does NOT include basement bedrooms)', 'mutable', 'cont'], \n",
    "                   'KitchenAbvGr':['Kitchens above grade', 'mutable', 'cont'], \n",
    "                   'KitchenQual':['Kitchen quality', 'mutable', 'cat'],\n",
    "                   'TotRmsAbvGrd':['Total rooms above grade (does not include bathrooms)', 'fixed', 'cont'], \n",
    "                   'Functional':['Home functionality (Assume typical unless deductions are warranted)',\n",
    "                                 'mutable', 'cat'], \n",
    "                   'Fireplaces':['Number of fireplaces', 'fixed', 'cont'], \n",
    "                   'FireplaceQu':['Fireplace quality', 'mutable', 'cat'], \n",
    "                   'GarageType':['Garage location','fixed','cat'],\n",
    "                   'GarageYrBlt':['Year garage was built','fixed','cont'], \n",
    "                   'GarageFinish':['Interior finish of the garage','mutable','cat'], \n",
    "                   'GarageCars':['Size of garage in car capacity','fixed','cont'], \n",
    "                   'GarageArea':['Size of garage in square feet','fixed','cont'], \n",
    "                   'GarageQual':['Garage quality','mutable','cat'],\n",
    "                   'GarageCond':['Garage condition','mutable','cat'], \n",
    "                   'PavedDrive':['Paved driveway','mutable','cat'], \n",
    "                   'WoodDeckSF':['Wood deck area in square feet','fixed','cont'], \n",
    "                   'OpenPorchSF':['Open porch area in square feet','fixed','cont'],\n",
    "                   'EnclosedPorch':['Enclosed porch area in square feet','fixed','cont'], \n",
    "                   '3SsnPorch':['Three season porch area in square feet','fixed','cont'], \n",
    "                   'ScreenPorch':['Screen porch area in square feet','fixed','cont'], \n",
    "                   'PoolArea':['Pool area in square feet','fixed','cont'], \n",
    "                   'PoolQC':['Pool quality','mutable','cat'],\n",
    "                   'Fence':['Fence quality','mutable','cat'], \n",
    "                   'MiscFeature':['Miscellaneous feature not covered in other categories','fixed','cat'], \n",
    "                   'MiscVal':['$Value of miscellaneous feature','fixed','cont'], \n",
    "                   'MoSold':['Month Sold (MM)','fixed','cat'], \n",
    "                   'YrSold':['Year Sold (YYYY)','fixed','cont'], \n",
    "                   'SaleType':['Type of sale','fixed','cat'],\n",
    "                   'SaleCondition':['Condition of sale','fixed','cat'], \n",
    "                   'SalePrice':['Value of property at sale','fixed','cont']}"
   ]
  },
  {
   "cell_type": "markdown",
   "metadata": {},
   "source": [
    "## Cleaning data "
   ]
  },
  {
   "cell_type": "code",
   "execution_count": 5,
   "metadata": {},
   "outputs": [
    {
     "data": {
      "text/plain": [
       "0"
      ]
     },
     "execution_count": 5,
     "metadata": {},
     "output_type": "execute_result"
    }
   ],
   "source": [
    "# checking for duplicate rows, none found\n",
    "house.duplicated().sum()"
   ]
  },
  {
   "cell_type": "code",
   "execution_count": 6,
   "metadata": {},
   "outputs": [
    {
     "data": {
      "text/plain": [
       "(1385, 81)"
      ]
     },
     "execution_count": 6,
     "metadata": {},
     "output_type": "execute_result"
    }
   ],
   "source": [
    "# dropping rows with non residential properties\n",
    "house = house[house['MSZoning'] != 'C (all)']\n",
    "house = house[house['MSZoning'] !='FV']\n",
    "house.shape"
   ]
  },
  {
   "cell_type": "code",
   "execution_count": 7,
   "metadata": {},
   "outputs": [],
   "source": [
    "# splitting vars into continuous and catergoricals\n",
    "cont_vars = []\n",
    "cat_vars = []\n",
    "for k,v in house_data_dict.items():\n",
    "    if v[2] == 'cont':\n",
    "        cont_vars.append(k)\n",
    "    elif v[2] == 'cat':\n",
    "        cat_vars.append(k)"
   ]
  },
  {
   "cell_type": "markdown",
   "metadata": {},
   "source": [
    "### Continuous variables"
   ]
  },
  {
   "cell_type": "code",
   "execution_count": 8,
   "metadata": {},
   "outputs": [
    {
     "name": "stdout",
     "output_type": "stream",
     "text": [
      "['LotFrontage', 'LotArea', 'OverallQual', 'OverallCond', 'YearBuilt', 'YearRemodAdd', 'MasVnrArea', 'BsmtFinSF1', 'BsmtFinSF2', 'BsmtUnfSF', 'TotalBsmtSF', '1stFlrSF', '2ndFlrSF', 'LowQualFinSF', 'GrLivArea', 'BsmtFullBath', 'BsmtHalfBath', 'FullBath', 'HalfBath', 'BedroomAbvGr', 'KitchenAbvGr', 'TotRmsAbvGrd', 'Fireplaces', 'GarageYrBlt', 'GarageCars', 'GarageArea', 'WoodDeckSF', 'OpenPorchSF', 'EnclosedPorch', '3SsnPorch', 'ScreenPorch', 'PoolArea', 'MiscVal', 'YrSold', 'SalePrice']\n"
     ]
    }
   ],
   "source": [
    "print(cont_vars)"
   ]
  },
  {
   "cell_type": "markdown",
   "metadata": {},
   "source": [
    "**Datatypes & missing values**\n",
    "\n",
    "All continuous variables should be encoded as ints/floats. .dtypes shows LotFrontage, MasVnrArea, GarageYrBlt are all encoded as objects. This is because these columns contain missing values which are formatted as 'NA'. I've changed those missing values to np.nans and changed the column dtypes to floats. \n",
    "\n",
    "As so there are so many missing values for LotFrontage, I don't want to drop rows with missing values. It also seems too coarse to impute a single value for all 251 rows of LotFrontage. Instead, I'm going to impute all missing values in cont_vars using a multivariate imputer (KNNImputer). "
   ]
  },
  {
   "cell_type": "code",
   "execution_count": 9,
   "metadata": {},
   "outputs": [],
   "source": [
    "# checking continuous vars dtypes\n",
    "house[cont_vars].dtypes\n",
    "\n",
    "# LotFrontage, MasVnrArea, GarageYrBlt are all encoded as objects. All others are ints.\n",
    "# cols encoded as objects have missing values. Specificaly:\n",
    "\n",
    "# 251 rows have missing LotFrontage values ('NA')\n",
    "len(house[house['LotFrontage']=='NA'])\n",
    "# converting to float\n",
    "house.loc[house['LotFrontage'] == 'NA', 'LotFrontage'] = np.nan\n",
    "house['LotFrontage'] = house['LotFrontage'].astype(float)\n",
    "\n",
    "# 5 rows have missing MasVnrArea values ('NA')\n",
    "len(house[house['MasVnrArea']=='NA'])\n",
    "# converting to float\n",
    "house.loc[house['MasVnrArea'] == 'NA', 'MasVnrArea'] = np.nan\n",
    "house['MasVnrArea'] = house['MasVnrArea'].astype(float)\n",
    "\n",
    "# 79 rows have missing GarageYrBlt vales ('NA')\n",
    "len(house[house['GarageYrBlt']=='NA'])\n",
    "# converting to float\n",
    "house.loc[house['GarageYrBlt'] == 'NA', 'GarageYrBlt'] = np.nan\n",
    "house['GarageYrBlt'] = house['GarageYrBlt'].astype(float)"
   ]
  },
  {
   "cell_type": "code",
   "execution_count": 10,
   "metadata": {},
   "outputs": [
    {
     "data": {
      "text/html": [
       "<div>\n",
       "<style scoped>\n",
       "    .dataframe tbody tr th:only-of-type {\n",
       "        vertical-align: middle;\n",
       "    }\n",
       "\n",
       "    .dataframe tbody tr th {\n",
       "        vertical-align: top;\n",
       "    }\n",
       "\n",
       "    .dataframe thead th {\n",
       "        text-align: right;\n",
       "    }\n",
       "</style>\n",
       "<table border=\"1\" class=\"dataframe\">\n",
       "  <thead>\n",
       "    <tr style=\"text-align: right;\">\n",
       "      <th></th>\n",
       "      <th>LotFrontage</th>\n",
       "      <th>MasVnrArea</th>\n",
       "      <th>GarageYrBlt</th>\n",
       "    </tr>\n",
       "  </thead>\n",
       "  <tbody>\n",
       "    <tr>\n",
       "      <th>count</th>\n",
       "      <td>1134.000000</td>\n",
       "      <td>1380.000000</td>\n",
       "      <td>1306.000000</td>\n",
       "    </tr>\n",
       "    <tr>\n",
       "      <th>mean</th>\n",
       "      <td>70.583774</td>\n",
       "      <td>102.768841</td>\n",
       "      <td>1977.336141</td>\n",
       "    </tr>\n",
       "    <tr>\n",
       "      <th>std</th>\n",
       "      <td>24.251032</td>\n",
       "      <td>174.373232</td>\n",
       "      <td>24.477677</td>\n",
       "    </tr>\n",
       "    <tr>\n",
       "      <th>min</th>\n",
       "      <td>21.000000</td>\n",
       "      <td>0.000000</td>\n",
       "      <td>1906.000000</td>\n",
       "    </tr>\n",
       "    <tr>\n",
       "      <th>25%</th>\n",
       "      <td>60.000000</td>\n",
       "      <td>0.000000</td>\n",
       "      <td>1960.000000</td>\n",
       "    </tr>\n",
       "    <tr>\n",
       "      <th>50%</th>\n",
       "      <td>70.000000</td>\n",
       "      <td>0.000000</td>\n",
       "      <td>1978.000000</td>\n",
       "    </tr>\n",
       "    <tr>\n",
       "      <th>75%</th>\n",
       "      <td>80.000000</td>\n",
       "      <td>168.000000</td>\n",
       "      <td>2000.000000</td>\n",
       "    </tr>\n",
       "    <tr>\n",
       "      <th>max</th>\n",
       "      <td>313.000000</td>\n",
       "      <td>1378.000000</td>\n",
       "      <td>2010.000000</td>\n",
       "    </tr>\n",
       "  </tbody>\n",
       "</table>\n",
       "</div>"
      ],
      "text/plain": [
       "       LotFrontage   MasVnrArea  GarageYrBlt\n",
       "count  1134.000000  1380.000000  1306.000000\n",
       "mean     70.583774   102.768841  1977.336141\n",
       "std      24.251032   174.373232    24.477677\n",
       "min      21.000000     0.000000  1906.000000\n",
       "25%      60.000000     0.000000  1960.000000\n",
       "50%      70.000000     0.000000  1978.000000\n",
       "75%      80.000000   168.000000  2000.000000\n",
       "max     313.000000  1378.000000  2010.000000"
      ]
     },
     "execution_count": 10,
     "metadata": {},
     "output_type": "execute_result"
    }
   ],
   "source": [
    "# getting cont_vars without target for imputation \n",
    "X_cont_vars = cont_vars[:-1]\n",
    "\n",
    "# checking descriptives pre-imputation\n",
    "house[['LotFrontage','MasVnrArea','GarageYrBlt']].describe()"
   ]
  },
  {
   "cell_type": "code",
   "execution_count": 11,
   "metadata": {},
   "outputs": [
    {
     "data": {
      "text/html": [
       "<div>\n",
       "<style scoped>\n",
       "    .dataframe tbody tr th:only-of-type {\n",
       "        vertical-align: middle;\n",
       "    }\n",
       "\n",
       "    .dataframe tbody tr th {\n",
       "        vertical-align: top;\n",
       "    }\n",
       "\n",
       "    .dataframe thead th {\n",
       "        text-align: right;\n",
       "    }\n",
       "</style>\n",
       "<table border=\"1\" class=\"dataframe\">\n",
       "  <thead>\n",
       "    <tr style=\"text-align: right;\">\n",
       "      <th></th>\n",
       "      <th>LotFrontage</th>\n",
       "      <th>MasVnrArea</th>\n",
       "      <th>GarageYrBlt</th>\n",
       "    </tr>\n",
       "  </thead>\n",
       "  <tbody>\n",
       "    <tr>\n",
       "      <th>count</th>\n",
       "      <td>1385.000000</td>\n",
       "      <td>1385.000000</td>\n",
       "      <td>1385.000000</td>\n",
       "    </tr>\n",
       "    <tr>\n",
       "      <th>mean</th>\n",
       "      <td>71.569386</td>\n",
       "      <td>103.092996</td>\n",
       "      <td>1976.452996</td>\n",
       "    </tr>\n",
       "    <tr>\n",
       "      <th>std</th>\n",
       "      <td>23.591979</td>\n",
       "      <td>174.552362</td>\n",
       "      <td>24.326146</td>\n",
       "    </tr>\n",
       "    <tr>\n",
       "      <th>min</th>\n",
       "      <td>21.000000</td>\n",
       "      <td>0.000000</td>\n",
       "      <td>1906.000000</td>\n",
       "    </tr>\n",
       "    <tr>\n",
       "      <th>25%</th>\n",
       "      <td>60.000000</td>\n",
       "      <td>0.000000</td>\n",
       "      <td>1959.800000</td>\n",
       "    </tr>\n",
       "    <tr>\n",
       "      <th>50%</th>\n",
       "      <td>70.000000</td>\n",
       "      <td>0.000000</td>\n",
       "      <td>1977.000000</td>\n",
       "    </tr>\n",
       "    <tr>\n",
       "      <th>75%</th>\n",
       "      <td>81.800000</td>\n",
       "      <td>168.000000</td>\n",
       "      <td>2000.000000</td>\n",
       "    </tr>\n",
       "    <tr>\n",
       "      <th>max</th>\n",
       "      <td>313.000000</td>\n",
       "      <td>1378.000000</td>\n",
       "      <td>2010.000000</td>\n",
       "    </tr>\n",
       "  </tbody>\n",
       "</table>\n",
       "</div>"
      ],
      "text/plain": [
       "       LotFrontage   MasVnrArea  GarageYrBlt\n",
       "count  1385.000000  1385.000000  1385.000000\n",
       "mean     71.569386   103.092996  1976.452996\n",
       "std      23.591979   174.552362    24.326146\n",
       "min      21.000000     0.000000  1906.000000\n",
       "25%      60.000000     0.000000  1959.800000\n",
       "50%      70.000000     0.000000  1977.000000\n",
       "75%      81.800000   168.000000  2000.000000\n",
       "max     313.000000  1378.000000  2010.000000"
      ]
     },
     "execution_count": 11,
     "metadata": {},
     "output_type": "execute_result"
    }
   ],
   "source": [
    "from sklearn.impute import KNNImputer \n",
    "\n",
    "# imputing missing values\n",
    "kknImp = KNNImputer()\n",
    "house[X_cont_vars] =  kknImp.fit_transform(house[X_cont_vars])\n",
    "\n",
    "# checking descriptives post-imputation. Nothing radically different.\n",
    "house[['LotFrontage','MasVnrArea','GarageYrBlt']].describe()"
   ]
  },
  {
   "cell_type": "markdown",
   "metadata": {},
   "source": [
    "**Continuous variables boxplot (below)**\n",
    "\n",
    "The boxplot below shows the z-scaled distributions of the continuous variables./\n",
    "\n",
    "A small number of the continuous variables appear to have roughly normal distributions. Many of these are either ordinal variables (e.g. OverallQual or Overallcond) or interval variables (e.g. BedroomAbvrGR). \n",
    "\n",
    "An even smaller number have a slight left/negative skew. Specifically, these are YearBuilt and GarageYrBlt). This indicates that the buildings in the data set tend to be more recently constructed. \n",
    "\n",
    "The majority of the remaining variables have a strong right/positive skew. Given that the dataset is about housing, this is not particularly surprising or suspicisous. However, there are some individual records which are so far beyond the main distribution that it seems likely that these may be errors (e.g. the greatest LotArea value is almost 5 standard deviations greater than the 2nd greatest and 20 greater than the mean). These values should be removed. Because most of the right skewed variables many have values well beyond IQR * 1.5, it is not practical to use IQR outlier detection. Instead, I will remove values more than 10 stds from the mean. This value was selected as the plot indicates this should remove the most extreme outliers without impacting the main distribution of the variables. This will also leave the target variable intact.\n",
    "\n",
    "Before removing these outliers, there are some variables with unusual distributions that need individual attention. These are addressesed below."
   ]
  },
  {
   "cell_type": "code",
   "execution_count": 12,
   "metadata": {},
   "outputs": [
    {
     "data": {
      "image/png": "[encoded data removed]",
      "text/plain": [
       "<Figure size 1440x576 with 1 Axes>"
      ]
     },
     "metadata": {
      "image/png": {
       "height": 548,
       "width": 1168
      },
      "needs_background": "light"
     },
     "output_type": "display_data"
    }
   ],
   "source": [
    "# looking at the distributions of the continous variables to check for outliers\n",
    "# using standardised values for easier visualization\n",
    "from sklearn.preprocessing import StandardScaler\n",
    "sscaler = StandardScaler()\n",
    "\n",
    "fig, ax = plt.subplots(figsize=[20,8]);\n",
    "pd.DataFrame(sscaler.fit_transform(house[cont_vars]),columns=house[cont_vars].columns).boxplot();\n",
    "plt.xticks(rotation=90);\n",
    "plt.xlabel('Variable name');\n",
    "plt.ylabel('No. standard deviations');"
   ]
  },
  {
   "cell_type": "markdown",
   "metadata": {},
   "source": [
    "**LowQualFinSF** - Low quality finished square feet (all floors).\n",
    "\n",
    "Above plot shows LowQualFinSF's percentiles are all equal, but there are a number of (IQR method) outliers. Checking value counts to see why.\n",
    "\n",
    "Value counts shows there are only 22 non-zero values. As such, I will convert the column to a binary variable.\n",
    "New var is called 'HasLowQualFin'."
   ]
  },
  {
   "cell_type": "code",
   "execution_count": 13,
   "metadata": {},
   "outputs": [],
   "source": [
    "# checking value counts\n",
    "house['LowQualFinSF'].value_counts()\n",
    "\n",
    "# adding 'HasLowQualFin' to data & data dict\n",
    "house['HasLowQualFin'] = [int(not elem) for elem in house['LowQualFinSF'] == False]\n",
    "house_data_dict['HasLowQualFin'] = ['Any amount of low quality finished floors? (all floors)', 'mutable', 'cat']\n",
    "cat_vars.append('HasLowQualFin')\n",
    "\n",
    "# removing old var from data & data dict\n",
    "del house['LowQualFinSF']\n",
    "del house_data_dict['LowQualFinSF']\n",
    "cont_vars.remove('LowQualFinSF')"
   ]
  },
  {
   "cell_type": "markdown",
   "metadata": {},
   "source": [
    "**BsmtFinSF2** - Type 2 finished square feet.\n",
    "\n",
    "Similarly to LowQualFinSF, BsmtFinSF2's unusual boxplot is due to the majority of BsmtFinSF2 values being zero (the non-zero values make up 12% of the dataset). This is because most properties only have either a basement with a single finish or no basement whatsoever. \n",
    "\n",
    "Unlike LowQualFinSF, BsmtFinSF2 cannot be easily converted to a binary variable as it is likely that it's relationship with SalePrice is dependent on BsmtFinType2. E.g. a large BsmtFinSF2 value with a 'Good Living Quarters' value for BsmtFinType2 is likely to increase SalePrice, where as a large BsmtFinSF2 value with a 'Low Quality' value for BsmtFinType2 is likely to have the inverse effect. \n",
    "\n",
    "As such, I will leave these values as they are for now. Later on, I will create polynomial variables for the interactions between the two basement type variables (BsmtFinType1, BsmtFinType2) and their corresponding basement finish area variables (BsmtFinSF1, BsmtFinSF2). "
   ]
  },
  {
   "cell_type": "code",
   "execution_count": 14,
   "metadata": {},
   "outputs": [
    {
     "data": {
      "text/html": [
       "<div>\n",
       "<style scoped>\n",
       "    .dataframe tbody tr th:only-of-type {\n",
       "        vertical-align: middle;\n",
       "    }\n",
       "\n",
       "    .dataframe tbody tr th {\n",
       "        vertical-align: top;\n",
       "    }\n",
       "\n",
       "    .dataframe thead th {\n",
       "        text-align: right;\n",
       "    }\n",
       "</style>\n",
       "<table border=\"1\" class=\"dataframe\">\n",
       "  <thead>\n",
       "    <tr style=\"text-align: right;\">\n",
       "      <th></th>\n",
       "      <th></th>\n",
       "      <th>BsmtFinSF2</th>\n",
       "      <th>SalePrice</th>\n",
       "    </tr>\n",
       "    <tr>\n",
       "      <th>BsmtFinType2</th>\n",
       "      <th></th>\n",
       "      <th></th>\n",
       "      <th></th>\n",
       "    </tr>\n",
       "  </thead>\n",
       "  <tbody>\n",
       "    <tr>\n",
       "      <th rowspan=\"2\" valign=\"top\">Average Living Quarters</th>\n",
       "      <th>BsmtFinSF2</th>\n",
       "      <td>1.000000</td>\n",
       "      <td>0.031682</td>\n",
       "    </tr>\n",
       "    <tr>\n",
       "      <th>SalePrice</th>\n",
       "      <td>0.031682</td>\n",
       "      <td>1.000000</td>\n",
       "    </tr>\n",
       "    <tr>\n",
       "      <th rowspan=\"2\" valign=\"top\">Average Rec Room</th>\n",
       "      <th>BsmtFinSF2</th>\n",
       "      <td>1.000000</td>\n",
       "      <td>0.026968</td>\n",
       "    </tr>\n",
       "    <tr>\n",
       "      <th>SalePrice</th>\n",
       "      <td>0.026968</td>\n",
       "      <td>1.000000</td>\n",
       "    </tr>\n",
       "    <tr>\n",
       "      <th rowspan=\"2\" valign=\"top\">Below Average Living Quarters</th>\n",
       "      <th>BsmtFinSF2</th>\n",
       "      <td>1.000000</td>\n",
       "      <td>0.218463</td>\n",
       "    </tr>\n",
       "    <tr>\n",
       "      <th>SalePrice</th>\n",
       "      <td>0.218463</td>\n",
       "      <td>1.000000</td>\n",
       "    </tr>\n",
       "    <tr>\n",
       "      <th rowspan=\"2\" valign=\"top\">Good Living Quarters</th>\n",
       "      <th>BsmtFinSF2</th>\n",
       "      <td>1.000000</td>\n",
       "      <td>0.598744</td>\n",
       "    </tr>\n",
       "    <tr>\n",
       "      <th>SalePrice</th>\n",
       "      <td>0.598744</td>\n",
       "      <td>1.000000</td>\n",
       "    </tr>\n",
       "    <tr>\n",
       "      <th rowspan=\"2\" valign=\"top\">Low Quality</th>\n",
       "      <th>BsmtFinSF2</th>\n",
       "      <td>1.000000</td>\n",
       "      <td>0.028890</td>\n",
       "    </tr>\n",
       "    <tr>\n",
       "      <th>SalePrice</th>\n",
       "      <td>0.028890</td>\n",
       "      <td>1.000000</td>\n",
       "    </tr>\n",
       "    <tr>\n",
       "      <th rowspan=\"2\" valign=\"top\">No Basement</th>\n",
       "      <th>BsmtFinSF2</th>\n",
       "      <td>1.000000</td>\n",
       "      <td>0.707735</td>\n",
       "    </tr>\n",
       "    <tr>\n",
       "      <th>SalePrice</th>\n",
       "      <td>0.707735</td>\n",
       "      <td>1.000000</td>\n",
       "    </tr>\n",
       "    <tr>\n",
       "      <th rowspan=\"2\" valign=\"top\">Unfinshed</th>\n",
       "      <th>BsmtFinSF2</th>\n",
       "      <td>NaN</td>\n",
       "      <td>NaN</td>\n",
       "    </tr>\n",
       "    <tr>\n",
       "      <th>SalePrice</th>\n",
       "      <td>NaN</td>\n",
       "      <td>1.000000</td>\n",
       "    </tr>\n",
       "  </tbody>\n",
       "</table>\n",
       "</div>"
      ],
      "text/plain": [
       "                                          BsmtFinSF2  SalePrice\n",
       "BsmtFinType2                                                   \n",
       "Average Living Quarters       BsmtFinSF2    1.000000   0.031682\n",
       "                              SalePrice     0.031682   1.000000\n",
       "Average Rec Room              BsmtFinSF2    1.000000   0.026968\n",
       "                              SalePrice     0.026968   1.000000\n",
       "Below Average Living Quarters BsmtFinSF2    1.000000   0.218463\n",
       "                              SalePrice     0.218463   1.000000\n",
       "Good Living Quarters          BsmtFinSF2    1.000000   0.598744\n",
       "                              SalePrice     0.598744   1.000000\n",
       "Low Quality                   BsmtFinSF2    1.000000   0.028890\n",
       "                              SalePrice     0.028890   1.000000\n",
       "No Basement                   BsmtFinSF2    1.000000   0.707735\n",
       "                              SalePrice     0.707735   1.000000\n",
       "Unfinshed                     BsmtFinSF2         NaN        NaN\n",
       "                              SalePrice          NaN   1.000000"
      ]
     },
     "execution_count": 14,
     "metadata": {},
     "output_type": "execute_result"
    }
   ],
   "source": [
    "# updating BsmtFinType1 & BsmtFinType2's values for easier reading\n",
    "bsmt_fin_types = {'GLQ':'Good Living Quarters', \n",
    "                  'ALQ':'Average Living Quarters', \n",
    "                  'BLQ': 'Below Average Living Quarters',\n",
    "                  'Rec':'Average Rec Room',\n",
    "                  'LwQ':'Low Quality',\n",
    "                  'Unf':'Unfinshed',\n",
    "                  'NA':'No Basement'}\n",
    "\n",
    "house['BsmtFinType1'] = [bsmt_fin_types[i] for i in house['BsmtFinType1']]\n",
    "house['BsmtFinType2'] = [bsmt_fin_types[i] for i in house['BsmtFinType2']]\n",
    "\n",
    "# getting % of non-zero BsmtFinSF2 values in dataset\n",
    "len(house.loc[house['BsmtFinSF2'] > 0, 'BsmtFinSF1'])/len(house)\n",
    "\n",
    "# looking at range of non-zero BsmtFinSF2 values\n",
    "house.loc[house['BsmtFinSF2'] > 0, 'BsmtFinSF1'].describe()\n",
    "\n",
    "# looking at the relationship between BsmtFinSF2, BsmtFinType2 and SalePrice\n",
    "house.groupby('BsmtFinType2')[['BsmtFinSF2','SalePrice']].corr()"
   ]
  },
  {
   "cell_type": "markdown",
   "metadata": {},
   "source": [
    "**BsmtHalfBath, KitchenAbvGr**\n",
    "\n",
    "Again, the boxplots for BsmtHalfBath and KitchenAbvGr are completely flat (with some outliers) as the vast majority of the values are 0 and 1, respectively. Will investigate creating an interaction term between KitchenAbvGr and KitchenQual. Nothing else note worthy and no futher cleaning needed here."
   ]
  },
  {
   "cell_type": "code",
   "execution_count": 15,
   "metadata": {},
   "outputs": [
    {
     "data": {
      "text/plain": [
       "0.0    1304\n",
       "1.0      79\n",
       "2.0       2\n",
       "Name: BsmtHalfBath, dtype: int64"
      ]
     },
     "execution_count": 15,
     "metadata": {},
     "output_type": "execute_result"
    }
   ],
   "source": [
    "house['BsmtHalfBath'].value_counts()"
   ]
  },
  {
   "cell_type": "code",
   "execution_count": 16,
   "metadata": {},
   "outputs": [
    {
     "data": {
      "text/plain": [
       "1.0    1318\n",
       "2.0      64\n",
       "3.0       2\n",
       "0.0       1\n",
       "Name: KitchenAbvGr, dtype: int64"
      ]
     },
     "execution_count": 16,
     "metadata": {},
     "output_type": "execute_result"
    }
   ],
   "source": [
    "house['KitchenAbvGr'].value_counts()"
   ]
  },
  {
   "cell_type": "markdown",
   "metadata": {},
   "source": [
    "**PoolArea**\n",
    "\n",
    "Only 7 properties have a pool, hence the flat PoolArea boxplot. As with BsmtFinSF1/2, the contribution of PoolArea to the property's SalePrice is likely to be dependent on it's quality (PoolQC). I have looked at this relationship below, but there are too few records to draw any meaningful conclusions. As such, I will remove PoolArea and PoolQC from the dataset."
   ]
  },
  {
   "cell_type": "code",
   "execution_count": 17,
   "metadata": {},
   "outputs": [],
   "source": [
    "# checking number of non-zero PoolArea values\n",
    "len(house[house['PoolArea']!=0])\n",
    "\n",
    "# checking number of non-zero PoolArea values per PoolQC level\n",
    "house['PoolQC'].value_counts()\n",
    "\n",
    "# checking relationship between PoolQC, PoolArea & SalePrice\n",
    "house.groupby('PoolQC')[['PoolArea','SalePrice']].corr()\n",
    "\n",
    "# removing PoolArea and PoolQC from the dataset, data_dict\n",
    "house.drop(columns=['PoolArea','PoolQC'],axis=1, inplace = True)\n",
    "del house_data_dict['PoolArea']\n",
    "del house_data_dict['PoolQC']\n",
    "cont_vars.remove('PoolArea')\n",
    "cat_vars.remove('PoolQC')"
   ]
  },
  {
   "cell_type": "markdown",
   "metadata": {},
   "source": [
    "**MiscVal**\n",
    "\n",
    "MiscVal also has a flat boxplot, with many outliers. This is becuase there are only 47 properties with a MiscFeature and MiscVal. No cleaining is needed here, but I will create interaction terms between MiscFeature and MiscVal later on."
   ]
  },
  {
   "cell_type": "code",
   "execution_count": 18,
   "metadata": {},
   "outputs": [
    {
     "data": {
      "text/plain": [
       "MiscFeature\n",
       "Gar2    11900.000000\n",
       "NA          0.000000\n",
       "Othr     1750.000000\n",
       "Shed      714.468085\n",
       "TenC     2000.000000\n",
       "Name: MiscVal, dtype: float64"
      ]
     },
     "execution_count": 18,
     "metadata": {},
     "output_type": "execute_result"
    }
   ],
   "source": [
    "# checking num of MiscVal records, 47\n",
    "house.groupby('MiscFeature')['MiscVal'].count()\n",
    "\n",
    "# checking mean value associated with the MiscFeature levels\n",
    "house.groupby('MiscFeature')['MiscVal'].mean()"
   ]
  },
  {
   "cell_type": "markdown",
   "metadata": {},
   "source": [
    "**3SsnPorch, ScreenPorch**\n",
    "\n",
    "3SsnPorch and ScreenPorch are the final two continuous features with flat boxplots. Again, this is because the majority of properties do not have 3 season porches or screen porches (only 24 and 114, respectively). As before, it appears no additional cleaning is needed here. However, I have experimented with creating some new features based on the various porch variables (3SsnPorch, OpenPorchSF, ScreenPorch and EnclosedPorch). These are:\n",
    "* TotalPorchSF - the sum of all porch variables in each row (i.e. total area).\n",
    "* Has3SsnPorch, HasOpenPorchSF, HasScreenPorch, HasEnclosedPorch - binary variables encoding whether a house has any of the various types of porches (as opposed to it's area).\n",
    "* Amount3SsnPorch, AmountOpenPorchSF, AmountScreenPorch and AmountEnclosedPorch - the porportion of the overall porch area occupied by each porch type.\n",
    "\n",
    "In the cell beneath the one in which these were created, I have looked at the correlation between these variables and the target. Some of the new variables are more correlated with the target than those they were derived from. Others are less correlated. Naturally, these variables have a significant amount of colinearity. Rather than manually selecting amongst them, I will use regularization to allow the model to perform automatic feature selection."
   ]
  },
  {
   "cell_type": "code",
   "execution_count": 19,
   "metadata": {},
   "outputs": [],
   "source": [
    "len(house[house['3SsnPorch']!=0]) # 24\n",
    "\n",
    "len(house[house['ScreenPorch']!=0]) # 114\n",
    "\n",
    "# creating total porch area variable\n",
    "house['TotalPorchSF'] = house[['3SsnPorch','OpenPorchSF','ScreenPorch','EnclosedPorch']].sum(axis=1)\n",
    "\n",
    "# creating binary variables \n",
    "house['Has3SsnPorch'] = [int(not elem) for elem in house['3SsnPorch'] == False]\n",
    "house['HasOpenPorchSF'] = [int(not elem) for elem in house['OpenPorchSF'] == False]\n",
    "house['HasScreenPorch'] = [int(not elem) for elem in house['ScreenPorch'] == False]\n",
    "house['HasEnclosedPorch'] = [int(not elem) for elem in house['EnclosedPorch'] == False]\n",
    "\n",
    "# creating amount variables\n",
    "house['Amount3SsnPorch'] = house['3SsnPorch']/house['TotalPorchSF']\n",
    "house['Amount3SsnPorch'].fillna(0.0) # cleaning NaNs created by zero division\n",
    "\n",
    "house['AmountOpenPorchSF'] = house['OpenPorchSF']/house['TotalPorchSF']\n",
    "house['AmountOpenPorchSF'].fillna(0.0)\n",
    "\n",
    "house['AmountScreenPorch'] = house['ScreenPorch']/house['TotalPorchSF']\n",
    "house['AmountScreenPorch'].fillna(0.0)\n",
    "\n",
    "house['AmountEnclosedPorch'] = house['EnclosedPorch']/house['TotalPorchSF']\n",
    "house['AmountEnclosedPorch'].fillna(0.0)\n",
    "\n",
    "# adding new variables to data_dict, cont_vars, cat_vars\n",
    "house_data_dict['Has3SsnPorch'] = ['Identifies if property has a 3 season porch', 'mutable', 'cat']\n",
    "house_data_dict['Amount3SsnPorch'] = ['3 season porch amount as % of overall porch area', 'mutable', 'cont']\n",
    "house_data_dict['HasOpenPorchSF'] = ['Identifies if property has an open porch', 'mutable', 'cat']\n",
    "house_data_dict['AmountOpenPorchSF'] = ['open porch amount as % of overall porch area', 'mutable', 'cont']\n",
    "house_data_dict['HasScreenPorch'] = ['Identifies if property has a screen porch', 'mutable', 'cat']\n",
    "house_data_dict['AmountScreenPorch'] = ['screen amount as % of overall porch area', 'mutable', 'cont']\n",
    "house_data_dict['HasEnclosedPorch'] = ['Identifies if property has an enclosed porch', 'mutable', 'cat']\n",
    "house_data_dict['AmountEnclosedPorch'] = ['enclosed porch amount as % of overall porch area', 'mutable', 'cont']\n",
    "house_data_dict['TotalPorchSF'] = ['Total porch area', 'mutable', 'cont']\n",
    "\n",
    "# re-splitting vars into continuous and catergoricals\n",
    "cont_vars = []\n",
    "cat_vars = []\n",
    "for k,v in house_data_dict.items():\n",
    "    if v[2] == 'cont':\n",
    "        cont_vars.append(k)\n",
    "    elif v[2] == 'cat':\n",
    "        cat_vars.append(k)"
   ]
  },
  {
   "cell_type": "code",
   "execution_count": 20,
   "metadata": {},
   "outputs": [
    {
     "data": {
      "text/plain": [
       "TotalPorchSF           0.203290\n",
       "3SsnPorch              0.046701\n",
       "Has3SsnPorch           0.048297\n",
       "Amount3SsnPorch        0.015248\n",
       "OpenPorchSF            0.324483\n",
       "HasOpenPorchSF         0.411544\n",
       "AmountOpenPorchSF      0.261752\n",
       "ScreenPorch            0.116110\n",
       "HasScreenPorch         0.092449\n",
       "AmountScreenPorch      0.013135\n",
       "EnclosedPorch         -0.115892\n",
       "HasEnclosedPorch      -0.169703\n",
       "AmountEnclosedPorch   -0.317203\n",
       "SalePrice              1.000000\n",
       "Name: SalePrice, dtype: float64"
      ]
     },
     "execution_count": 20,
     "metadata": {},
     "output_type": "execute_result"
    },
    {
     "data": {
      "image/png": "[encoded data removed]",
      "text/plain": [
       "<Figure size 432x288 with 2 Axes>"
      ]
     },
     "metadata": {
      "image/png": {
       "height": 354,
       "width": 459
      },
      "needs_background": "light"
     },
     "output_type": "display_data"
    }
   ],
   "source": [
    "# heatmapping the correlations amongst the porch variables and with the target\n",
    "sns.heatmap(house[['TotalPorchSF',\n",
    "       '3SsnPorch', 'Has3SsnPorch', 'Amount3SsnPorch',\n",
    "       'OpenPorchSF', 'HasOpenPorchSF', 'AmountOpenPorchSF',\n",
    "       'ScreenPorch', 'HasScreenPorch', 'AmountScreenPorch',\n",
    "       'EnclosedPorch', 'HasEnclosedPorch', 'AmountEnclosedPorch',\n",
    "       'SalePrice']].corr(),cmap='Blues')\n",
    "\n",
    "# getting the correlation coefficients between the porch variables and the target \n",
    "house[['TotalPorchSF',\n",
    "       '3SsnPorch', 'Has3SsnPorch', 'Amount3SsnPorch',\n",
    "       'OpenPorchSF', 'HasOpenPorchSF', 'AmountOpenPorchSF',\n",
    "       'ScreenPorch', 'HasScreenPorch', 'AmountScreenPorch',\n",
    "       'EnclosedPorch', 'HasEnclosedPorch', 'AmountEnclosedPorch',\n",
    "       'SalePrice']].corr().iloc[-1]"
   ]
  },
  {
   "cell_type": "markdown",
   "metadata": {},
   "source": [
    "**Dropping outliers**\n",
    "\n",
    "As discussed above, I'm going to drop any values 10 stds beyond the mean. When doing this, I will exclude the variables with a flat boxplot whose mode is 0. This is because, a property with, for instace, MiscVal == 0 indicates the property has no MiscFeature. As such the 'true' ditributions would be the ditributions without the properties who dont have the feature in question. These distributions do not include values beyond 10 stds of the mean. Specifically, these are BsmtFinsf2, MiscVal 3SsnPorch and ScreenPorch."
   ]
  },
  {
   "cell_type": "code",
   "execution_count": 21,
   "metadata": {},
   "outputs": [
    {
     "name": "stdout",
     "output_type": "stream",
     "text": [
      "(1385, 88)\n",
      "(931, 88)\n"
     ]
    }
   ],
   "source": [
    "print(house.shape)\n",
    "\n",
    "# setting aside vars \n",
    "for el in ['BsmtFinSF2', 'MiscVal', '3SsnPorch', 'ScreenPorch']:\n",
    "    cont_vars.remove(el)\n",
    "\n",
    "# removing outliers\n",
    "for col in cont_vars:\n",
    "    mean = house[col].mean()\n",
    "    std = house[col].std()\n",
    "    \n",
    "    # dropping rows with values <= to mean + 10 x std\n",
    "    house = house[(house[col] <= mean+(10*std))]\n",
    "    # no need to drop rows with values below 10 stds, as no values are below 10 stds\n",
    "\n",
    "# adding set aside vars back in\n",
    "for el in ['BsmtFinSF2', 'MiscVal', '3SsnPorch', 'ScreenPorch']:\n",
    "    cont_vars.append(el)\n",
    "    \n",
    "print(house.shape) # not very happy with the number of rows this has dropped"
   ]
  },
  {
   "cell_type": "markdown",
   "metadata": {},
   "source": [
    "### Catergorical variables"
   ]
  },
  {
   "cell_type": "markdown",
   "metadata": {},
   "source": [
    "**Dtypes and missing values**"
   ]
  },
  {
   "cell_type": "code",
   "execution_count": 22,
   "metadata": {},
   "outputs": [
    {
     "data": {
      "text/plain": [
       "MSSubClass           int64\n",
       "MSZoning            object\n",
       "Street              object\n",
       "Alley               object\n",
       "LotShape            object\n",
       "LandContour         object\n",
       "Utilities           object\n",
       "LotConfig           object\n",
       "LandSlope           object\n",
       "Neighborhood        object\n",
       "Condition1          object\n",
       "Condition2          object\n",
       "BldgType            object\n",
       "HouseStyle          object\n",
       "RoofStyle           object\n",
       "RoofMatl            object\n",
       "Exterior1st         object\n",
       "Exterior2nd         object\n",
       "MasVnrType          object\n",
       "ExterQual           object\n",
       "ExterCond           object\n",
       "Foundation          object\n",
       "BsmtQual            object\n",
       "BsmtCond            object\n",
       "BsmtExposure        object\n",
       "BsmtFinType1        object\n",
       "BsmtFinType2        object\n",
       "Heating             object\n",
       "HeatingQC           object\n",
       "Electrical          object\n",
       "KitchenQual         object\n",
       "Functional          object\n",
       "FireplaceQu         object\n",
       "GarageType          object\n",
       "GarageFinish        object\n",
       "GarageQual          object\n",
       "GarageCond          object\n",
       "PavedDrive          object\n",
       "Fence               object\n",
       "MiscFeature         object\n",
       "MoSold               int64\n",
       "SaleType            object\n",
       "SaleCondition       object\n",
       "HasLowQualFin        int64\n",
       "Has3SsnPorch         int64\n",
       "HasOpenPorchSF       int64\n",
       "HasScreenPorch       int64\n",
       "HasEnclosedPorch     int64\n",
       "dtype: object"
      ]
     },
     "execution_count": 22,
     "metadata": {},
     "output_type": "execute_result"
    }
   ],
   "source": [
    "house[cat_vars].dtypes"
   ]
  },
  {
   "cell_type": "markdown",
   "metadata": {},
   "source": [
    "MSSubClass uses numerical codes to identify the type of dwelling involved in the sale. I've converted these values to the code descriptions (i.e. strs) for readability and so that it is not treated as a continuous variable."
   ]
  },
  {
   "cell_type": "code",
   "execution_count": 23,
   "metadata": {},
   "outputs": [
    {
     "data": {
      "text/plain": [
       "1-STORY 1946 & NEWER ALL STYLES                          326\n",
       "2-STORY 1946 & NEWER                                     246\n",
       "1-1/2 STORY FINISHED ALL AGES                             94\n",
       "1-STORY PUD (Planned Unit Development) - 1946 & NEWER     65\n",
       "1-STORY 1945 & OLDER                                      45\n",
       "2-STORY 1945 & OLDER                                      44\n",
       "SPLIT OR MULTI-LEVEL                                      28\n",
       "2 FAMILY CONVERSION - ALL STYLES AND AGES                 17\n",
       "2-STORY PUD - 1946 & NEWER                                17\n",
       "2-1/2 STORY ALL AGES                                      15\n",
       "DUPLEX - ALL STYLES AND AGES                              10\n",
       "SPLIT FOYER                                                9\n",
       "1-1/2 STORY - UNFINISHED ALL AGES                          8\n",
       "PUD - MULTILEVEL - INCL SPLIT LEV/FOYER                    5\n",
       "1-STORY W/FINISHED ATTIC ALL AGES                          2\n",
       "Name: MSSubClass, dtype: int64"
      ]
     },
     "execution_count": 23,
     "metadata": {},
     "output_type": "execute_result"
    }
   ],
   "source": [
    "MSSubClass_levels = {20:'1-STORY 1946 & NEWER ALL STYLES',\n",
    "        30:'1-STORY 1945 & OLDER',\n",
    "        40:'1-STORY W/FINISHED ATTIC ALL AGES',\n",
    "        45:'1-1/2 STORY - UNFINISHED ALL AGES',\n",
    "        50:'1-1/2 STORY FINISHED ALL AGES',\n",
    "        60:'2-STORY 1946 & NEWER',\n",
    "        70:'2-STORY 1945 & OLDER',\n",
    "        75:'2-1/2 STORY ALL AGES',\n",
    "        80:'SPLIT OR MULTI-LEVEL',\n",
    "        85:'SPLIT FOYER',\n",
    "        90:'DUPLEX - ALL STYLES AND AGES',\n",
    "       120:'1-STORY PUD (Planned Unit Development) - 1946 & NEWER',\n",
    "       150:'1-1/2 STORY PUD - ALL AGES',\n",
    "       160:'2-STORY PUD - 1946 & NEWER',\n",
    "       180:'PUD - MULTILEVEL - INCL SPLIT LEV/FOYER',\n",
    "       190:'2 FAMILY CONVERSION - ALL STYLES AND AGES'}\n",
    "\n",
    "house['MSSubClass'] = [MSSubClass_levels[i] for i in house['MSSubClass']]\n",
    "house['MSSubClass'].value_counts()"
   ]
  },
  {
   "cell_type": "markdown",
   "metadata": {},
   "source": [
    "MoSold (month sold) is encoded as ints, but would be better treated as a catergorical. However, both MoSold and YrSold are properties of the sale, rather than properties of the house. As such, they can't be used as predictors in any of the exercises. I will drop MoSold from the data, but need to keep year sold in order to split the data into a training and test set."
   ]
  },
  {
   "cell_type": "code",
   "execution_count": 24,
   "metadata": {},
   "outputs": [],
   "source": [
    "house.drop(columns='MoSold',axis=1, inplace= True) \n",
    "del house_data_dict['MoSold']\n",
    "cat_vars.remove('MoSold')"
   ]
  },
  {
   "cell_type": "markdown",
   "metadata": {},
   "source": [
    "All other numerically encoded catergorical variables are binary variables. No further changes to dtypes are requied.\n",
    "\n",
    "Next, finding and cleaning missing values. Throughout the dataset 'NA' is used to indicate missing values. However, in some columns, it is also used to indicate that a property does not have a particular feature (e.g. in Fence, 'NA' means the property has no fence, not that the value is missing). \n",
    "\n",
    "This means that some columns include two different kinds of information- 1) whether a property has a particular feature and 2) if it does, what the quality of that feature is. To parse this information out it will be necessary to create a new column specifying whether the property has the feature, and another specifying the quality of that feature if present. This will allow me to keep the ranked order of the quality variables, and to convert them into numerical variables. By standardising these and creating an interaction term between the two columns it will be possible to zero-out the quality variables "
   ]
  },
  {
   "cell_type": "code",
   "execution_count": 25,
   "metadata": {},
   "outputs": [
    {
     "name": "stdout",
     "output_type": "stream",
     "text": [
      "Alley has 876 NA values.\n",
      "['NA' 'Grvl' 'Pave'] \n",
      "\n",
      "MasVnrType has 5 NA values.\n",
      "['BrkFace' 'None' 'Stone' 'BrkCmn' 'NA'] \n",
      "\n",
      "BsmtQual has 11 NA values.\n",
      "['Gd' 'TA' 'Ex' 'Fa' 'NA'] \n",
      "\n",
      "BsmtCond has 11 NA values.\n",
      "['TA' 'Gd' 'Fa' 'NA'] \n",
      "\n",
      "BsmtExposure has 12 NA values.\n",
      "['No' 'Mn' 'Av' 'Gd' 'NA'] \n",
      "\n",
      "FireplaceQu has 359 NA values.\n",
      "['NA' 'TA' 'Gd' 'Fa' 'Ex' 'Po'] \n",
      "\n",
      "GarageType has 39 NA values.\n",
      "['Attchd' 'Detchd' 'BuiltIn' 'NA' 'Basment' '2Types' 'CarPort'] \n",
      "\n",
      "GarageFinish has 39 NA values.\n",
      "['RFn' 'Unf' 'Fin' 'NA'] \n",
      "\n",
      "GarageQual has 39 NA values.\n",
      "['TA' 'Fa' 'Gd' 'NA' 'Ex' 'Po'] \n",
      "\n",
      "GarageCond has 39 NA values.\n",
      "['TA' 'NA' 'Fa' 'Po' 'Ex' 'Gd'] \n",
      "\n",
      "Fence has 767 NA values.\n",
      "['NA' 'MnPrv' 'GdWo' 'GdPrv' 'MnWw'] \n",
      "\n",
      "MiscFeature has 901 NA values.\n",
      "['NA' 'Shed' 'Othr' 'Gar2' 'TenC'] \n",
      "\n"
     ]
    },
    {
     "name": "stderr",
     "output_type": "stream",
     "text": [
      "<ipython-input-25-6793f95076a8>:2: FutureWarning: elementwise comparison failed; returning scalar instead, but in the future will perform elementwise comparison\n",
      "  if 'NA' in house[var].unique():\n"
     ]
    }
   ],
   "source": [
    "for var in cat_vars:\n",
    "    if 'NA' in house[var].unique():\n",
    "        print(f'{var} has {house[var].value_counts()[\"NA\"]} NA values.')\n",
    "        print(house[var].unique(), '\\n')"
   ]
  },
  {
   "cell_type": "markdown",
   "metadata": {},
   "source": [
    "In Alley, 'NA' means no alley access. As such, Alley can simply be one hot encoded such that there are two columns specifying whether the propert has gravel alley access or paved alley access (or neither). I'll do this later when one hot encoding the rest.\n",
    "\n",
    "In MasVnrType 'None' indicates that the property does not have masonary veneer, whereas 'NA' indicates a missing value. As there are only 5 missing values, I will drop these (see below).\n",
    "\n",
    "In MiscFeature, 'NA' indicates that the property does not have a miscellaneous feature. As this is not a ranked variable it will need to be one hot encoded (rather than converted to a numeric). I'll then create interactions with MiscVal.\n",
    "\n",
    "For GarageType and GarageFinish, 'NA' indicates that the property does not have a garage. GarageType can be one hot encoded (with 0's in all columns indicating that the building does not have a garage). GarageFinish can be interpreted as a ranked variable (i.e. extent of finish - unfinished, partially finsihed, completely finished). Below, I've checked the mean and median SalePrices associated with each level, and they support this ranking. As such, I will convert this to a continuous variable. \n",
    "\n",
    "In Fence, 'NA' means that the property does not have a fence. However the other values in this column mean that it will need to be handled independently. Specifically, it has 4 other levels. 2 of these rate the amount of privacy that the fence affords. The other two describe the material that the fence is made from. This is problematic, as it means that if have property does have a fence, we can only know about its material or privacy rating. Furthermore, I do not feel that there is sufficient data to reliably impute the missing material and privacy values. For this reason, I've decided to convert this into a binary value indicating whether or not the property has a fence and otherwise to drop the original column.\n",
    "\n",
    "In the remaining variables listed above 'NA' indicates that the building does not have that feature. These will get the treament described in the previous Markdown cell."
   ]
  },
  {
   "cell_type": "code",
   "execution_count": 26,
   "metadata": {},
   "outputs": [
    {
     "name": "stdout",
     "output_type": "stream",
     "text": [
      "(931, 87)\n",
      "(926, 87)\n"
     ]
    }
   ],
   "source": [
    "# dropping 5 rows with missing values for MasVnrType\n",
    "\n",
    "print(house.shape)\n",
    "house = house[house['MasVnrType']!='NA']\n",
    "print(house.shape)"
   ]
  },
  {
   "cell_type": "code",
   "execution_count": 27,
   "metadata": {},
   "outputs": [],
   "source": [
    "# creating binary variables for basement, fireplace, garage & fence\n",
    "\n",
    "house['HasBsmt'] = [int(el == 'NA') for el in house['BsmtQual']]\n",
    "house['HasFireplace'] = [int(el == 'NA') for el in house['FireplaceQu']]\n",
    "house['HasGarage'] = [int(el == 'NA') for el in house['GarageQual']]\n",
    "house['HasFence'] = [int(el == 'NA') for el in house['Fence']]\n",
    "\n",
    "# adding new variables to data dict & cat_vars\n",
    "house_data_dict['HasBsmt'] = ['Indicates if the property has a basement', 'fixed', 'cat']\n",
    "house_data_dict['HasFireplace'] = ['Indicates if the property has a fireplace', 'fixed', 'cat']\n",
    "house_data_dict['HasGarage'] = ['Indicates if the property has a garage', 'fixed', 'cat']\n",
    "house_data_dict['HasFence'] = ['Indicates if the property has a fence', 'mutable', 'cat']\n",
    "\n",
    "cont_vars = []\n",
    "cat_vars = []\n",
    "for k,v in house_data_dict.items():\n",
    "    if v[2] == 'cont':\n",
    "        cont_vars.append(k)\n",
    "    elif v[2] == 'cat':\n",
    "        cat_vars.append(k)"
   ]
  },
  {
   "cell_type": "code",
   "execution_count": 28,
   "metadata": {},
   "outputs": [],
   "source": [
    "# dropping the fence col\n",
    "house.drop(columns='Fence', axis =1, inplace= True)\n",
    "del house_data_dict['Fence']\n",
    "\n",
    "cont_vars = []\n",
    "cat_vars = []\n",
    "for k,v in house_data_dict.items():\n",
    "    if v[2] == 'cont':\n",
    "        cont_vars.append(k)\n",
    "    elif v[2] == 'cat':\n",
    "        cat_vars.append(k)"
   ]
  },
  {
   "cell_type": "code",
   "execution_count": 29,
   "metadata": {},
   "outputs": [
    {
     "name": "stdout",
     "output_type": "stream",
     "text": [
      "BsmtExposure ['No' 'Mn' 'Av' 'Gd' 'NA']\n",
      "ExterQual ['Gd' 'TA' 'Ex' 'Fa']\n",
      "ExterCond ['TA' 'Gd' 'Fa' 'Ex']\n",
      "BsmtQual ['Gd' 'TA' 'Ex' 'Fa' 'NA']\n",
      "BsmtCond ['TA' 'Gd' 'Fa' 'NA']\n",
      "HeatingQC ['Ex' 'Gd' 'TA' 'Fa' 'Po']\n",
      "KitchenQual ['Gd' 'TA' 'Ex' 'Fa']\n",
      "FireplaceQu ['NA' 'TA' 'Gd' 'Fa' 'Ex' 'Po']\n",
      "GarageQual ['TA' 'Fa' 'Gd' 'NA' 'Ex' 'Po']\n",
      "GarageCond ['TA' 'NA' 'Fa' 'Po' 'Ex' 'Gd']\n",
      "\n",
      "BsmtExposure [1 2 3 4 0]\n",
      "ExterQual [4 3 5 2]\n",
      "ExterCond [3 4 2 5]\n",
      "BsmtQual [4 3 5 2 0]\n",
      "BsmtCond [3 4 2 0]\n",
      "HeatingQC [5 4 3 2 1]\n",
      "KitchenQual [4 3 5 2]\n",
      "FireplaceQu [0 3 4 2 5 1]\n",
      "GarageQual [3 2 4 0 5 1]\n",
      "GarageCond [3 0 2 1 5 4]\n"
     ]
    }
   ],
   "source": [
    "# converting the quality/condition variables & BsmtExposure to numerics\n",
    "quality_feats = ['ExterQual',\n",
    "                'ExterCond',\n",
    "                'BsmtQual',\n",
    "                'BsmtCond',\n",
    "                'HeatingQC',\n",
    "                'KitchenQual',\n",
    "                'FireplaceQu',\n",
    "                'GarageQual',\n",
    "                'GarageCond'\n",
    "                ]\n",
    "\n",
    "# checking values pre conversion\n",
    "print('BsmtExposure', house['BsmtExposure'].unique())\n",
    "for var in quality_feats:\n",
    "    print(var, house[var].unique())\n",
    "\n",
    "# dict to convert values\n",
    "qual_to_num = {'Ex':5,  # Excellent\n",
    "               'Gd':4,  # Good\n",
    "               'TA':3,  # Typical/Average\n",
    "               'Fa':2,  # Fair\n",
    "               'Po':1,  # Poor\n",
    "               'NA':0   # feature not present\n",
    "              }\n",
    "\n",
    "# dict to convert BsmtExposure\n",
    "BsmtExposure_levels = {'Gd':4,  # Good Exposure\n",
    "                       'Av':3,  # Average Exposure (split levels or foyers typically score average or above)\n",
    "                       'Mn':2,  # Mimimum Exposure\n",
    "                       'No':1,  # No Exposure\n",
    "                       'NA':0   # No Basement\n",
    "                      }\n",
    "\n",
    "\n",
    "# updating values & checking values post conversion\n",
    "house['BsmtExposure'] = [BsmtExposure_levels[el] for el in house['BsmtExposure']]\n",
    "print('\\nBsmtExposure', house['BsmtExposure'].unique())\n",
    "for var in quality_feats:\n",
    "    house[var] = [qual_to_num[el] for el in house[var]]\n",
    "    print(var, house[var].unique())\n",
    "    \n",
    "# updating data_dict and cont/cat_vars\n",
    "house_data_dict['BsmtExposure'] = ['Refers to walkout or garden level walls', 'fixed', 'cont']\n",
    "house_data_dict['ExterQual'] = ['Evaluates the quality of the material on the exterior', 'mutable', 'cont']\n",
    "house_data_dict['ExterCond'] = ['Evaluates the present condition of the material on the exterior', 'mutable', 'cont']\n",
    "house_data_dict['BsmtQual'] = ['Evaluates the height of the basement', 'mutable', 'cont']\n",
    "house_data_dict['BsmtCond'] = ['Evaluates the general condition of the basement', 'mutable', 'cont']\n",
    "house_data_dict['HeatingQC'] = ['Heating quality and condition', 'mutable', 'cont']\n",
    "house_data_dict['KitchenQual'] = ['Kitchen quality', 'mutable', 'cont']\n",
    "house_data_dict['FireplaceQu'] = ['Fireplace quality', 'mutable', 'cont']\n",
    "house_data_dict['GarageQual'] = ['Garage quality', 'mutable', 'cont']\n",
    "house_data_dict['GarageCond'] = ['Garage condition', 'mutable', 'cont']\n",
    "\n",
    "cont_vars = []\n",
    "cat_vars = []\n",
    "for k,v in house_data_dict.items():\n",
    "    if v[2] == 'cont':\n",
    "        cont_vars.append(k)\n",
    "    elif v[2] == 'cat':\n",
    "        cat_vars.append(k)"
   ]
  },
  {
   "cell_type": "code",
   "execution_count": 30,
   "metadata": {},
   "outputs": [],
   "source": [
    "# checking if it's appropriate to treat GarageFinish as ranked\n",
    "house.groupby('GarageFinish')['SalePrice'].mean().sort_values()\n",
    "house.groupby('GarageFinish')['SalePrice'].median().sort_values()\n",
    "\n",
    "# seems to be, so converting\n",
    "\n",
    "GarageFinish_levels = {'Fin':4,  # Finished\n",
    "                       'RFn':3,  # Rough Finished\n",
    "                       'Unf':2,  # Unfinished\n",
    "                       'NA':1    # No Garage\n",
    "                      }\n",
    "\n",
    "# updating data, data_dict & cont/cat_vars\n",
    "house['GarageFinish'] = [GarageFinish_levels[el] for el in house['GarageFinish']]\n",
    "house_data_dict['GarageFinish'] = ['Interior finish of the garage', 'mutable', 'cont']\n",
    "\n",
    "cont_vars = []\n",
    "cat_vars = []\n",
    "for k,v in house_data_dict.items():\n",
    "    if v[2] == 'cont':\n",
    "        cont_vars.append(k)\n",
    "    elif v[2] == 'cat':\n",
    "        cat_vars.append(k)"
   ]
  },
  {
   "cell_type": "markdown",
   "metadata": {},
   "source": [
    "## Creating dummy variables\n",
    "\n",
    "The remaining catergorical variables need to be one hot/dummy encoded. Where one hot encoding has created a column with 5 or fewer positive records, I have dropped these columns. This is because there are insufficient positive records for this feature to reliably estimate it's contribution to the SalePrice. I have taken this approach, rather than dropping rows, so as to preserve the data in the other columns.\n",
    "\n",
    "(I'd have created a function for this, but have run out of time. Apologies for the duplication)"
   ]
  },
  {
   "cell_type": "code",
   "execution_count": 31,
   "metadata": {},
   "outputs": [],
   "source": [
    "# splitting the data into fixed and mutable variables\n",
    "fixed_vars = []\n",
    "mutable_vars = []\n",
    "for k,v in house_data_dict.items():\n",
    "    if v[1] == 'fixed':\n",
    "        fixed_vars.append(k)\n",
    "    elif v[1] == 'mutable':\n",
    "        mutable_vars.append(k)"
   ]
  },
  {
   "cell_type": "code",
   "execution_count": 32,
   "metadata": {},
   "outputs": [
    {
     "name": "stdout",
     "output_type": "stream",
     "text": [
      "(926, 114)\n"
     ]
    },
    {
     "name": "stderr",
     "output_type": "stream",
     "text": [
      "/Users/lewis/opt/anaconda3/lib/python3.8/site-packages/pandas/core/frame.py:3990: SettingWithCopyWarning: \n",
      "A value is trying to be set on a copy of a slice from a DataFrame\n",
      "\n",
      "See the caveats in the documentation: https://pandas.pydata.org/pandas-docs/stable/user_guide/indexing.html#returning-a-view-versus-a-copy\n",
      "  return super().drop(\n"
     ]
    }
   ],
   "source": [
    "# creating the dummified data for fixed vars\n",
    "\n",
    "# getting fixed variables in house data\n",
    "data_fixed = house[fixed_vars]\n",
    "\n",
    "# removing columns relating to the sale (except the target)\n",
    "data_fixed.drop(columns=['SaleType','SaleCondition'],axis=1, inplace=True)\n",
    "\n",
    "# get the fixed variable data cont and cat vars \n",
    "data_fixed_cont_vars = []\n",
    "data_fixed_cat_vars = []\n",
    "for var in data_fixed.columns:\n",
    "    if var in cont_vars:\n",
    "        data_fixed_cont_vars.append(var)\n",
    "    elif var in cat_vars:\n",
    "        data_fixed_cat_vars.append(var)\n",
    "\n",
    "# dummifying fixed cat vars\n",
    "fixed_cat_dummies = pd.get_dummies(data_fixed[data_fixed_cat_vars])\n",
    "# dropping cols with 5 or fewer positive records\n",
    "fixed_cat_dummies = fixed_cat_dummies.loc[:, (fixed_cat_dummies.sum(axis=0) > 5)]\n",
    "\n",
    "# joining cont vars and dummified cat vars\n",
    "data_fixed_dummies = data_fixed[data_fixed_cont_vars].join(fixed_cat_dummies)\n",
    "print(data_fixed_dummies.shape)"
   ]
  },
  {
   "cell_type": "code",
   "execution_count": 33,
   "metadata": {},
   "outputs": [
    {
     "name": "stdout",
     "output_type": "stream",
     "text": [
      "(926, 88)\n"
     ]
    }
   ],
   "source": [
    "# creating the dummified data for mutable vars\n",
    "\n",
    "# getting mutable variables in house data\n",
    "data_mutable = house[mutable_vars]\n",
    "\n",
    "# get the mutable variable data cont and cat vars \n",
    "data_mutable_cont_vars = []\n",
    "data_mutable_cat_vars = []\n",
    "for var in data_mutable.columns:\n",
    "    if var in cont_vars:\n",
    "        data_mutable_cont_vars.append(var)\n",
    "    elif var in cat_vars:\n",
    "        data_mutable_cat_vars.append(var)\n",
    "\n",
    "# dummifying mutable cat vars\n",
    "mutable_cat_dummies = pd.get_dummies(data_mutable[data_mutable_cat_vars])\n",
    "# dropping cols with 5 or fewer positive records\n",
    "mutable_cat_dummies = mutable_cat_dummies.loc[:, (mutable_cat_dummies.sum(axis=0) > 5)]\n",
    "\n",
    "# joining cont vars and dummified cat vars\n",
    "data_mutable_dummies = data_mutable[data_mutable_cont_vars].join(mutable_cat_dummies)\n",
    "data_mutable_dummies.drop(columns='Utilities_AllPub',axis=1,inplace=True) # all values for this are identical\n",
    "print(data_mutable_dummies.shape)"
   ]
  },
  {
   "cell_type": "markdown",
   "metadata": {},
   "source": [
    "## Interaction terms"
   ]
  },
  {
   "cell_type": "markdown",
   "metadata": {},
   "source": [
    "**N.B. My model performance was marginally worse with the interaction terms included. As such, I havent actually added them into the dataset. I've left these cells in for completeness.**\n",
    "\n",
    "I don't want to create interaction terms (or polynomials) between all features (i.e. using sklean.PolynomialFeatures), as this will generate more features than records. Instead, I'm going to manually create interactions between the variables which I think are most relevant.\n",
    "\n",
    "There are some possible interactions which would be relevant to predicting the SalePrice, but would be interactions between fixed and mutable variables (e.g. GarageArea x GarageCond). Since the goal is to make two seperate predictions based on the fixed and mutable variables, I won't create any interactions between fixed and mutable variables."
   ]
  },
  {
   "cell_type": "code",
   "execution_count": 34,
   "metadata": {
    "scrolled": false
   },
   "outputs": [],
   "source": [
    "# creating fixed variable interactions\n",
    "data_fixed_interactions = pd.DataFrame()\n",
    "\n",
    "data_fixed_interactions['inter_LotArea*GrLivArea'] = data_fixed_dummies['LotArea']*data_fixed_dummies['GrLivArea']\n",
    "data_fixed_interactions['inter_LotArea*LotShape_IR1'] = data_fixed_dummies['LotArea']*data_fixed_dummies['LotShape_IR1']\n",
    "data_fixed_interactions['inter_LotArea*LotShape_IR2'] = data_fixed_dummies['LotArea']*data_fixed_dummies['LotShape_IR2']\n",
    "data_fixed_interactions['inter_LotArea*LotShape_IR3'] = data_fixed_dummies['LotArea']*data_fixed_dummies['LotShape_IR3']\n",
    "data_fixed_interactions['inter_LotArea*LotShape_Ref'] = data_fixed_dummies['LotArea']*data_fixed_dummies['LotShape_Reg']\n",
    "\n",
    "data_fixed_interactions['inter_MiscVal*MiscFeature_NA'] = data_fixed_dummies['MiscVal']*data_fixed_dummies['MiscFeature_NA']\n",
    "data_fixed_interactions['inter_MiscVal*MiscFeature_Shed'] = data_fixed_dummies['MiscVal']*data_fixed_dummies['MiscFeature_Shed']\n",
    "\n",
    "data_fixed_interactions['inter_GrLivArea*TotRmsAbvGrd'] = data_fixed_dummies['GrLivArea']*data_fixed_dummies['TotRmsAbvGrd']\n",
    "\n",
    "data_fixed_interactions['inter_GarageCars*GarageArea'] = data_fixed_dummies['GarageCars']*data_fixed_dummies['GarageArea']\n",
    "\n",
    "#data_fixed_dummies.join(data_fixed_interactions) "
   ]
  },
  {
   "cell_type": "code",
   "execution_count": 35,
   "metadata": {
    "scrolled": true
   },
   "outputs": [],
   "source": [
    "# creating mutable variable interactions\n",
    "data_mutable_interactions = pd.DataFrame()\n",
    "\n",
    "data_mutable_interactions['inter_MasVnrArea*MasVnrType_BrkCmn'] = data_mutable_dummies['MasVnrArea']*data_mutable_dummies['MasVnrType_BrkCmn']\n",
    "data_mutable_interactions['inter_MasVnrArea*MasVnrType_BrkFace'] = data_mutable_dummies['MasVnrArea']*data_mutable_dummies['MasVnrType_BrkFace']\n",
    "data_mutable_interactions['inter_MasVnrArea*MasVnrType_None'] = data_mutable_dummies['MasVnrArea']*data_mutable_dummies['MasVnrType_None']\n",
    "data_mutable_interactions['inter_MasVnrArea*MasVnrType_Stone'] = data_mutable_dummies['MasVnrArea']*data_mutable_dummies['MasVnrType_Stone']\n",
    "\n",
    "data_mutable_interactions['inter_KitchenQual*KitchenAbvGr'] = data_mutable_dummies['KitchenQual']*data_mutable_dummies['KitchenAbvGr']\n",
    "\n",
    "#data_mutable_dummies.join(data_mutable_interactions) "
   ]
  },
  {
   "cell_type": "markdown",
   "metadata": {},
   "source": [
    "## Building models\n",
    "\n",
    "I've created 4 different models; one standard linear regression, a ridge regessor, a LASSO regressor and an ElasticNet regressor. I've only tested the best model (LASSO) on the test set."
   ]
  },
  {
   "cell_type": "code",
   "execution_count": 36,
   "metadata": {},
   "outputs": [],
   "source": [
    "from sklearn.model_selection import cross_val_score\n",
    "\n",
    "# getting train and test sets\n",
    "train = data_fixed_dummies[data_fixed_dummies['YrSold'] < 2010]\n",
    "test = data_fixed_dummies[data_fixed_dummies['YrSold'] == 2010] \n",
    "\n",
    "# splitting into X and y\n",
    "X_train = train.drop(columns='SalePrice')\n",
    "X_test = test.drop(columns='SalePrice')\n",
    "y_train = train['SalePrice']\n",
    "y_test = test['SalePrice']"
   ]
  },
  {
   "cell_type": "code",
   "execution_count": 37,
   "metadata": {},
   "outputs": [
    {
     "name": "stdout",
     "output_type": "stream",
     "text": [
      "0.792224074133237 [0.84108359 0.71606842 0.7992658  0.79927607 0.80542649]\n"
     ]
    }
   ],
   "source": [
    "# training linear regression model\n",
    "lin_mod = LinearRegression()\n",
    "cv_scores = cross_val_score(lin_mod, X_train, y_train, cv =5)\n",
    "print(cv_scores.mean(), cv_scores)\n"
   ]
  },
  {
   "cell_type": "code",
   "execution_count": 38,
   "metadata": {},
   "outputs": [
    {
     "data": {
      "text/plain": [
       "0.858046698303048"
      ]
     },
     "execution_count": 38,
     "metadata": {},
     "output_type": "execute_result"
    }
   ],
   "source": [
    "# Ridge\n",
    "ridge_cv = RidgeCV(alphas=np.logspace(0.01,100,1000))\n",
    "ridge_cv.fit(X_train, y_train)\n",
    "ridge_cv.score(X_train, y_train)"
   ]
  },
  {
   "cell_type": "code",
   "execution_count": 39,
   "metadata": {},
   "outputs": [
    {
     "name": "stderr",
     "output_type": "stream",
     "text": [
      "/Users/lewis/opt/anaconda3/lib/python3.8/site-packages/sklearn/linear_model/_coordinate_descent.py:525: ConvergenceWarning: Objective did not converge. You might want to increase the number of iterations. Duality gap: 320541250368.9141, tolerance: 475868959.50313556\n",
      "  model = cd_fast.enet_coordinate_descent_gram(\n",
      "/Users/lewis/opt/anaconda3/lib/python3.8/site-packages/sklearn/linear_model/_coordinate_descent.py:525: ConvergenceWarning: Objective did not converge. You might want to increase the number of iterations. Duality gap: 316308898469.7969, tolerance: 475868959.50313556\n",
      "  model = cd_fast.enet_coordinate_descent_gram(\n",
      "/Users/lewis/opt/anaconda3/lib/python3.8/site-packages/sklearn/linear_model/_coordinate_descent.py:525: ConvergenceWarning: Objective did not converge. You might want to increase the number of iterations. Duality gap: 290032160553.5593, tolerance: 475868959.50313556\n",
      "  model = cd_fast.enet_coordinate_descent_gram(\n",
      "/Users/lewis/opt/anaconda3/lib/python3.8/site-packages/sklearn/linear_model/_coordinate_descent.py:525: ConvergenceWarning: Objective did not converge. You might want to increase the number of iterations. Duality gap: 110220763974.7268, tolerance: 475868959.50313556\n",
      "  model = cd_fast.enet_coordinate_descent_gram(\n",
      "/Users/lewis/opt/anaconda3/lib/python3.8/site-packages/sklearn/linear_model/_coordinate_descent.py:525: ConvergenceWarning: Objective did not converge. You might want to increase the number of iterations. Duality gap: 159042301241.87616, tolerance: 475868959.50313556\n",
      "  model = cd_fast.enet_coordinate_descent_gram(\n",
      "/Users/lewis/opt/anaconda3/lib/python3.8/site-packages/sklearn/linear_model/_coordinate_descent.py:525: ConvergenceWarning: Objective did not converge. You might want to increase the number of iterations. Duality gap: 184736610519.8407, tolerance: 475868959.50313556\n",
      "  model = cd_fast.enet_coordinate_descent_gram(\n",
      "/Users/lewis/opt/anaconda3/lib/python3.8/site-packages/sklearn/linear_model/_coordinate_descent.py:525: ConvergenceWarning: Objective did not converge. You might want to increase the number of iterations. Duality gap: 190772712214.5338, tolerance: 475868959.50313556\n",
      "  model = cd_fast.enet_coordinate_descent_gram(\n",
      "/Users/lewis/opt/anaconda3/lib/python3.8/site-packages/sklearn/linear_model/_coordinate_descent.py:525: ConvergenceWarning: Objective did not converge. You might want to increase the number of iterations. Duality gap: 193985189486.93243, tolerance: 475868959.50313556\n",
      "  model = cd_fast.enet_coordinate_descent_gram(\n",
      "/Users/lewis/opt/anaconda3/lib/python3.8/site-packages/sklearn/linear_model/_coordinate_descent.py:525: ConvergenceWarning: Objective did not converge. You might want to increase the number of iterations. Duality gap: 196756768813.44336, tolerance: 475868959.50313556\n",
      "  model = cd_fast.enet_coordinate_descent_gram(\n",
      "/Users/lewis/opt/anaconda3/lib/python3.8/site-packages/sklearn/linear_model/_coordinate_descent.py:525: ConvergenceWarning: Objective did not converge. You might want to increase the number of iterations. Duality gap: 199496817533.0489, tolerance: 475868959.50313556\n",
      "  model = cd_fast.enet_coordinate_descent_gram(\n",
      "/Users/lewis/opt/anaconda3/lib/python3.8/site-packages/sklearn/linear_model/_coordinate_descent.py:525: ConvergenceWarning: Objective did not converge. You might want to increase the number of iterations. Duality gap: 202279047704.15466, tolerance: 475868959.50313556\n",
      "  model = cd_fast.enet_coordinate_descent_gram(\n",
      "/Users/lewis/opt/anaconda3/lib/python3.8/site-packages/sklearn/linear_model/_coordinate_descent.py:525: ConvergenceWarning: Objective did not converge. You might want to increase the number of iterations. Duality gap: 205117972646.6266, tolerance: 475868959.50313556\n",
      "  model = cd_fast.enet_coordinate_descent_gram(\n",
      "/Users/lewis/opt/anaconda3/lib/python3.8/site-packages/sklearn/linear_model/_coordinate_descent.py:525: ConvergenceWarning: Objective did not converge. You might want to increase the number of iterations. Duality gap: 208017603962.0982, tolerance: 475868959.50313556\n",
      "  model = cd_fast.enet_coordinate_descent_gram(\n",
      "/Users/lewis/opt/anaconda3/lib/python3.8/site-packages/sklearn/linear_model/_coordinate_descent.py:525: ConvergenceWarning: Objective did not converge. You might want to increase the number of iterations. Duality gap: 210980106579.4405, tolerance: 475868959.50313556\n",
      "  model = cd_fast.enet_coordinate_descent_gram(\n",
      "/Users/lewis/opt/anaconda3/lib/python3.8/site-packages/sklearn/linear_model/_coordinate_descent.py:525: ConvergenceWarning: Objective did not converge. You might want to increase the number of iterations. Duality gap: 214007387429.57635, tolerance: 475868959.50313556\n",
      "  model = cd_fast.enet_coordinate_descent_gram(\n",
      "/Users/lewis/opt/anaconda3/lib/python3.8/site-packages/sklearn/linear_model/_coordinate_descent.py:525: ConvergenceWarning: Objective did not converge. You might want to increase the number of iterations. Duality gap: 217101390428.33435, tolerance: 475868959.50313556\n",
      "  model = cd_fast.enet_coordinate_descent_gram(\n",
      "/Users/lewis/opt/anaconda3/lib/python3.8/site-packages/sklearn/linear_model/_coordinate_descent.py:525: ConvergenceWarning: Objective did not converge. You might want to increase the number of iterations. Duality gap: 220264095819.76324, tolerance: 475868959.50313556\n",
      "  model = cd_fast.enet_coordinate_descent_gram(\n",
      "/Users/lewis/opt/anaconda3/lib/python3.8/site-packages/sklearn/linear_model/_coordinate_descent.py:525: ConvergenceWarning: Objective did not converge. You might want to increase the number of iterations. Duality gap: 223497539661.9436, tolerance: 475868959.50313556\n",
      "  model = cd_fast.enet_coordinate_descent_gram(\n",
      "/Users/lewis/opt/anaconda3/lib/python3.8/site-packages/sklearn/linear_model/_coordinate_descent.py:525: ConvergenceWarning: Objective did not converge. You might want to increase the number of iterations. Duality gap: 226803872288.78558, tolerance: 475868959.50313556\n",
      "  model = cd_fast.enet_coordinate_descent_gram(\n",
      "/Users/lewis/opt/anaconda3/lib/python3.8/site-packages/sklearn/linear_model/_coordinate_descent.py:525: ConvergenceWarning: Objective did not converge. You might want to increase the number of iterations. Duality gap: 230185315786.61237, tolerance: 475868959.50313556\n",
      "  model = cd_fast.enet_coordinate_descent_gram(\n",
      "/Users/lewis/opt/anaconda3/lib/python3.8/site-packages/sklearn/linear_model/_coordinate_descent.py:525: ConvergenceWarning: Objective did not converge. You might want to increase the number of iterations. Duality gap: 233644150351.20825, tolerance: 475868959.50313556\n",
      "  model = cd_fast.enet_coordinate_descent_gram(\n",
      "/Users/lewis/opt/anaconda3/lib/python3.8/site-packages/sklearn/linear_model/_coordinate_descent.py:525: ConvergenceWarning: Objective did not converge. You might want to increase the number of iterations. Duality gap: 237182763897.63568, tolerance: 475868959.50313556\n",
      "  model = cd_fast.enet_coordinate_descent_gram(\n",
      "/Users/lewis/opt/anaconda3/lib/python3.8/site-packages/sklearn/linear_model/_coordinate_descent.py:525: ConvergenceWarning: Objective did not converge. You might want to increase the number of iterations. Duality gap: 240803652370.0105, tolerance: 475868959.50313556\n",
      "  model = cd_fast.enet_coordinate_descent_gram(\n",
      "/Users/lewis/opt/anaconda3/lib/python3.8/site-packages/sklearn/linear_model/_coordinate_descent.py:525: ConvergenceWarning: Objective did not converge. You might want to increase the number of iterations. Duality gap: 244509377656.51917, tolerance: 475868959.50313556\n",
      "  model = cd_fast.enet_coordinate_descent_gram(\n",
      "/Users/lewis/opt/anaconda3/lib/python3.8/site-packages/sklearn/linear_model/_coordinate_descent.py:525: ConvergenceWarning: Objective did not converge. You might want to increase the number of iterations. Duality gap: 248302610743.16168, tolerance: 475868959.50313556\n",
      "  model = cd_fast.enet_coordinate_descent_gram(\n",
      "/Users/lewis/opt/anaconda3/lib/python3.8/site-packages/sklearn/linear_model/_coordinate_descent.py:525: ConvergenceWarning: Objective did not converge. You might want to increase the number of iterations. Duality gap: 252186147063.3537, tolerance: 475868959.50313556\n",
      "  model = cd_fast.enet_coordinate_descent_gram(\n",
      "/Users/lewis/opt/anaconda3/lib/python3.8/site-packages/sklearn/linear_model/_coordinate_descent.py:525: ConvergenceWarning: Objective did not converge. You might want to increase the number of iterations. Duality gap: 256162892565.3327, tolerance: 475868959.50313556\n",
      "  model = cd_fast.enet_coordinate_descent_gram(\n",
      "/Users/lewis/opt/anaconda3/lib/python3.8/site-packages/sklearn/linear_model/_coordinate_descent.py:525: ConvergenceWarning: Objective did not converge. You might want to increase the number of iterations. Duality gap: 260235832192.10028, tolerance: 475868959.50313556\n",
      "  model = cd_fast.enet_coordinate_descent_gram(\n",
      "/Users/lewis/opt/anaconda3/lib/python3.8/site-packages/sklearn/linear_model/_coordinate_descent.py:525: ConvergenceWarning: Objective did not converge. You might want to increase the number of iterations. Duality gap: 264408117211.19196, tolerance: 475868959.50313556\n",
      "  model = cd_fast.enet_coordinate_descent_gram(\n",
      "/Users/lewis/opt/anaconda3/lib/python3.8/site-packages/sklearn/linear_model/_coordinate_descent.py:525: ConvergenceWarning: Objective did not converge. You might want to increase the number of iterations. Duality gap: 268683017363.29352, tolerance: 475868959.50313556\n",
      "  model = cd_fast.enet_coordinate_descent_gram(\n",
      "/Users/lewis/opt/anaconda3/lib/python3.8/site-packages/sklearn/linear_model/_coordinate_descent.py:525: ConvergenceWarning: Objective did not converge. You might want to increase the number of iterations. Duality gap: 273063920058.43372, tolerance: 475868959.50313556\n",
      "  model = cd_fast.enet_coordinate_descent_gram(\n",
      "/Users/lewis/opt/anaconda3/lib/python3.8/site-packages/sklearn/linear_model/_coordinate_descent.py:525: ConvergenceWarning: Objective did not converge. You might want to increase the number of iterations. Duality gap: 277554357612.0424, tolerance: 475868959.50313556\n",
      "  model = cd_fast.enet_coordinate_descent_gram(\n",
      "/Users/lewis/opt/anaconda3/lib/python3.8/site-packages/sklearn/linear_model/_coordinate_descent.py:525: ConvergenceWarning: Objective did not converge. You might want to increase the number of iterations. Duality gap: 282158039493.5189, tolerance: 475868959.50313556\n",
      "  model = cd_fast.enet_coordinate_descent_gram(\n"
     ]
    },
    {
     "name": "stderr",
     "output_type": "stream",
     "text": [
      "/Users/lewis/opt/anaconda3/lib/python3.8/site-packages/sklearn/linear_model/_coordinate_descent.py:525: ConvergenceWarning: Objective did not converge. You might want to increase the number of iterations. Duality gap: 286878798050.9185, tolerance: 475868959.50313556\n",
      "  model = cd_fast.enet_coordinate_descent_gram(\n",
      "/Users/lewis/opt/anaconda3/lib/python3.8/site-packages/sklearn/linear_model/_coordinate_descent.py:525: ConvergenceWarning: Objective did not converge. You might want to increase the number of iterations. Duality gap: 291720639802.17566, tolerance: 475868959.50313556\n",
      "  model = cd_fast.enet_coordinate_descent_gram(\n",
      "/Users/lewis/opt/anaconda3/lib/python3.8/site-packages/sklearn/linear_model/_coordinate_descent.py:525: ConvergenceWarning: Objective did not converge. You might want to increase the number of iterations. Duality gap: 296687752713.4426, tolerance: 475868959.50313556\n",
      "  model = cd_fast.enet_coordinate_descent_gram(\n",
      "/Users/lewis/opt/anaconda3/lib/python3.8/site-packages/sklearn/linear_model/_coordinate_descent.py:525: ConvergenceWarning: Objective did not converge. You might want to increase the number of iterations. Duality gap: 301784503710.9265, tolerance: 475868959.50313556\n",
      "  model = cd_fast.enet_coordinate_descent_gram(\n",
      "/Users/lewis/opt/anaconda3/lib/python3.8/site-packages/sklearn/linear_model/_coordinate_descent.py:525: ConvergenceWarning: Objective did not converge. You might want to increase the number of iterations. Duality gap: 307015442390.6747, tolerance: 475868959.50313556\n",
      "  model = cd_fast.enet_coordinate_descent_gram(\n",
      "/Users/lewis/opt/anaconda3/lib/python3.8/site-packages/sklearn/linear_model/_coordinate_descent.py:525: ConvergenceWarning: Objective did not converge. You might want to increase the number of iterations. Duality gap: 312385328335.06287, tolerance: 475868959.50313556\n",
      "  model = cd_fast.enet_coordinate_descent_gram(\n",
      "/Users/lewis/opt/anaconda3/lib/python3.8/site-packages/sklearn/linear_model/_coordinate_descent.py:525: ConvergenceWarning: Objective did not converge. You might want to increase the number of iterations. Duality gap: 317897886214.61786, tolerance: 475868959.50313556\n",
      "  model = cd_fast.enet_coordinate_descent_gram(\n",
      "/Users/lewis/opt/anaconda3/lib/python3.8/site-packages/sklearn/linear_model/_coordinate_descent.py:525: ConvergenceWarning: Objective did not converge. You might want to increase the number of iterations. Duality gap: 262624155057.86246, tolerance: 458666941.127988\n",
      "  model = cd_fast.enet_coordinate_descent_gram(\n",
      "/Users/lewis/opt/anaconda3/lib/python3.8/site-packages/sklearn/linear_model/_coordinate_descent.py:525: ConvergenceWarning: Objective did not converge. You might want to increase the number of iterations. Duality gap: 246861372603.6767, tolerance: 458666941.127988\n",
      "  model = cd_fast.enet_coordinate_descent_gram(\n",
      "/Users/lewis/opt/anaconda3/lib/python3.8/site-packages/sklearn/linear_model/_coordinate_descent.py:525: ConvergenceWarning: Objective did not converge. You might want to increase the number of iterations. Duality gap: 90851830573.5968, tolerance: 458666941.127988\n",
      "  model = cd_fast.enet_coordinate_descent_gram(\n",
      "/Users/lewis/opt/anaconda3/lib/python3.8/site-packages/sklearn/linear_model/_coordinate_descent.py:525: ConvergenceWarning: Objective did not converge. You might want to increase the number of iterations. Duality gap: 104553789283.84851, tolerance: 458666941.127988\n",
      "  model = cd_fast.enet_coordinate_descent_gram(\n",
      "/Users/lewis/opt/anaconda3/lib/python3.8/site-packages/sklearn/linear_model/_coordinate_descent.py:525: ConvergenceWarning: Objective did not converge. You might want to increase the number of iterations. Duality gap: 107607057269.79022, tolerance: 458666941.127988\n",
      "  model = cd_fast.enet_coordinate_descent_gram(\n",
      "/Users/lewis/opt/anaconda3/lib/python3.8/site-packages/sklearn/linear_model/_coordinate_descent.py:525: ConvergenceWarning: Objective did not converge. You might want to increase the number of iterations. Duality gap: 109945961362.26721, tolerance: 458666941.127988\n",
      "  model = cd_fast.enet_coordinate_descent_gram(\n",
      "/Users/lewis/opt/anaconda3/lib/python3.8/site-packages/sklearn/linear_model/_coordinate_descent.py:525: ConvergenceWarning: Objective did not converge. You might want to increase the number of iterations. Duality gap: 112297419541.38788, tolerance: 458666941.127988\n",
      "  model = cd_fast.enet_coordinate_descent_gram(\n",
      "/Users/lewis/opt/anaconda3/lib/python3.8/site-packages/sklearn/linear_model/_coordinate_descent.py:525: ConvergenceWarning: Objective did not converge. You might want to increase the number of iterations. Duality gap: 114721345976.84753, tolerance: 458666941.127988\n",
      "  model = cd_fast.enet_coordinate_descent_gram(\n",
      "/Users/lewis/opt/anaconda3/lib/python3.8/site-packages/sklearn/linear_model/_coordinate_descent.py:525: ConvergenceWarning: Objective did not converge. You might want to increase the number of iterations. Duality gap: 117225660142.52454, tolerance: 458666941.127988\n",
      "  model = cd_fast.enet_coordinate_descent_gram(\n",
      "/Users/lewis/opt/anaconda3/lib/python3.8/site-packages/sklearn/linear_model/_coordinate_descent.py:525: ConvergenceWarning: Objective did not converge. You might want to increase the number of iterations. Duality gap: 119460370991.0332, tolerance: 458666941.127988\n",
      "  model = cd_fast.enet_coordinate_descent_gram(\n",
      "/Users/lewis/opt/anaconda3/lib/python3.8/site-packages/sklearn/linear_model/_coordinate_descent.py:525: ConvergenceWarning: Objective did not converge. You might want to increase the number of iterations. Duality gap: 122472312339.4953, tolerance: 458666941.127988\n",
      "  model = cd_fast.enet_coordinate_descent_gram(\n",
      "/Users/lewis/opt/anaconda3/lib/python3.8/site-packages/sklearn/linear_model/_coordinate_descent.py:525: ConvergenceWarning: Objective did not converge. You might want to increase the number of iterations. Duality gap: 125267780828.59692, tolerance: 458666941.127988\n",
      "  model = cd_fast.enet_coordinate_descent_gram(\n",
      "/Users/lewis/opt/anaconda3/lib/python3.8/site-packages/sklearn/linear_model/_coordinate_descent.py:525: ConvergenceWarning: Objective did not converge. You might want to increase the number of iterations. Duality gap: 128135478035.79285, tolerance: 458666941.127988\n",
      "  model = cd_fast.enet_coordinate_descent_gram(\n",
      "/Users/lewis/opt/anaconda3/lib/python3.8/site-packages/sklearn/linear_model/_coordinate_descent.py:525: ConvergenceWarning: Objective did not converge. You might want to increase the number of iterations. Duality gap: 131102343118.328, tolerance: 458666941.127988\n",
      "  model = cd_fast.enet_coordinate_descent_gram(\n",
      "/Users/lewis/opt/anaconda3/lib/python3.8/site-packages/sklearn/linear_model/_coordinate_descent.py:525: ConvergenceWarning: Objective did not converge. You might want to increase the number of iterations. Duality gap: 134174970737.8551, tolerance: 458666941.127988\n",
      "  model = cd_fast.enet_coordinate_descent_gram(\n",
      "/Users/lewis/opt/anaconda3/lib/python3.8/site-packages/sklearn/linear_model/_coordinate_descent.py:525: ConvergenceWarning: Objective did not converge. You might want to increase the number of iterations. Duality gap: 137358601391.59088, tolerance: 458666941.127988\n",
      "  model = cd_fast.enet_coordinate_descent_gram(\n",
      "/Users/lewis/opt/anaconda3/lib/python3.8/site-packages/sklearn/linear_model/_coordinate_descent.py:525: ConvergenceWarning: Objective did not converge. You might want to increase the number of iterations. Duality gap: 140608927016.98352, tolerance: 458666941.127988\n",
      "  model = cd_fast.enet_coordinate_descent_gram(\n",
      "/Users/lewis/opt/anaconda3/lib/python3.8/site-packages/sklearn/linear_model/_coordinate_descent.py:525: ConvergenceWarning: Objective did not converge. You might want to increase the number of iterations. Duality gap: 143858579275.0678, tolerance: 458666941.127988\n",
      "  model = cd_fast.enet_coordinate_descent_gram(\n",
      "/Users/lewis/opt/anaconda3/lib/python3.8/site-packages/sklearn/linear_model/_coordinate_descent.py:525: ConvergenceWarning: Objective did not converge. You might want to increase the number of iterations. Duality gap: 147077275299.9947, tolerance: 458666941.127988\n",
      "  model = cd_fast.enet_coordinate_descent_gram(\n",
      "/Users/lewis/opt/anaconda3/lib/python3.8/site-packages/sklearn/linear_model/_coordinate_descent.py:525: ConvergenceWarning: Objective did not converge. You might want to increase the number of iterations. Duality gap: 150151150406.92682, tolerance: 458666941.127988\n",
      "  model = cd_fast.enet_coordinate_descent_gram(\n",
      "/Users/lewis/opt/anaconda3/lib/python3.8/site-packages/sklearn/linear_model/_coordinate_descent.py:525: ConvergenceWarning: Objective did not converge. You might want to increase the number of iterations. Duality gap: 152360680117.1797, tolerance: 458666941.127988\n",
      "  model = cd_fast.enet_coordinate_descent_gram(\n",
      "/Users/lewis/opt/anaconda3/lib/python3.8/site-packages/sklearn/linear_model/_coordinate_descent.py:525: ConvergenceWarning: Objective did not converge. You might want to increase the number of iterations. Duality gap: 157658152801.98883, tolerance: 458666941.127988\n",
      "  model = cd_fast.enet_coordinate_descent_gram(\n",
      "/Users/lewis/opt/anaconda3/lib/python3.8/site-packages/sklearn/linear_model/_coordinate_descent.py:525: ConvergenceWarning: Objective did not converge. You might want to increase the number of iterations. Duality gap: 161983007560.18515, tolerance: 458666941.127988\n",
      "  model = cd_fast.enet_coordinate_descent_gram(\n",
      "/Users/lewis/opt/anaconda3/lib/python3.8/site-packages/sklearn/linear_model/_coordinate_descent.py:525: ConvergenceWarning: Objective did not converge. You might want to increase the number of iterations. Duality gap: 166323771208.75623, tolerance: 458666941.127988\n",
      "  model = cd_fast.enet_coordinate_descent_gram(\n"
     ]
    },
    {
     "name": "stderr",
     "output_type": "stream",
     "text": [
      "/Users/lewis/opt/anaconda3/lib/python3.8/site-packages/sklearn/linear_model/_coordinate_descent.py:525: ConvergenceWarning: Objective did not converge. You might want to increase the number of iterations. Duality gap: 170830540605.45987, tolerance: 458666941.127988\n",
      "  model = cd_fast.enet_coordinate_descent_gram(\n",
      "/Users/lewis/opt/anaconda3/lib/python3.8/site-packages/sklearn/linear_model/_coordinate_descent.py:525: ConvergenceWarning: Objective did not converge. You might want to increase the number of iterations. Duality gap: 175524243275.62653, tolerance: 458666941.127988\n",
      "  model = cd_fast.enet_coordinate_descent_gram(\n",
      "/Users/lewis/opt/anaconda3/lib/python3.8/site-packages/sklearn/linear_model/_coordinate_descent.py:525: ConvergenceWarning: Objective did not converge. You might want to increase the number of iterations. Duality gap: 180416294395.9344, tolerance: 458666941.127988\n",
      "  model = cd_fast.enet_coordinate_descent_gram(\n",
      "/Users/lewis/opt/anaconda3/lib/python3.8/site-packages/sklearn/linear_model/_coordinate_descent.py:525: ConvergenceWarning: Objective did not converge. You might want to increase the number of iterations. Duality gap: 188838563832.27393, tolerance: 458666941.127988\n",
      "  model = cd_fast.enet_coordinate_descent_gram(\n",
      "/Users/lewis/opt/anaconda3/lib/python3.8/site-packages/sklearn/linear_model/_coordinate_descent.py:525: ConvergenceWarning: Objective did not converge. You might want to increase the number of iterations. Duality gap: 196639624359.3804, tolerance: 458666941.127988\n",
      "  model = cd_fast.enet_coordinate_descent_gram(\n",
      "/Users/lewis/opt/anaconda3/lib/python3.8/site-packages/sklearn/linear_model/_coordinate_descent.py:525: ConvergenceWarning: Objective did not converge. You might want to increase the number of iterations. Duality gap: 196644773079.81393, tolerance: 458666941.127988\n",
      "  model = cd_fast.enet_coordinate_descent_gram(\n",
      "/Users/lewis/opt/anaconda3/lib/python3.8/site-packages/sklearn/linear_model/_coordinate_descent.py:525: ConvergenceWarning: Objective did not converge. You might want to increase the number of iterations. Duality gap: 201448805278.59512, tolerance: 458666941.127988\n",
      "  model = cd_fast.enet_coordinate_descent_gram(\n",
      "/Users/lewis/opt/anaconda3/lib/python3.8/site-packages/sklearn/linear_model/_coordinate_descent.py:525: ConvergenceWarning: Objective did not converge. You might want to increase the number of iterations. Duality gap: 207506465448.85382, tolerance: 458666941.127988\n",
      "  model = cd_fast.enet_coordinate_descent_gram(\n",
      "/Users/lewis/opt/anaconda3/lib/python3.8/site-packages/sklearn/linear_model/_coordinate_descent.py:525: ConvergenceWarning: Objective did not converge. You might want to increase the number of iterations. Duality gap: 213928894876.8905, tolerance: 458666941.127988\n",
      "  model = cd_fast.enet_coordinate_descent_gram(\n",
      "/Users/lewis/opt/anaconda3/lib/python3.8/site-packages/sklearn/linear_model/_coordinate_descent.py:525: ConvergenceWarning: Objective did not converge. You might want to increase the number of iterations. Duality gap: 220663409449.13184, tolerance: 458666941.127988\n",
      "  model = cd_fast.enet_coordinate_descent_gram(\n",
      "/Users/lewis/opt/anaconda3/lib/python3.8/site-packages/sklearn/linear_model/_coordinate_descent.py:525: ConvergenceWarning: Objective did not converge. You might want to increase the number of iterations. Duality gap: 227724440768.57706, tolerance: 458666941.127988\n",
      "  model = cd_fast.enet_coordinate_descent_gram(\n",
      "/Users/lewis/opt/anaconda3/lib/python3.8/site-packages/sklearn/linear_model/_coordinate_descent.py:525: ConvergenceWarning: Objective did not converge. You might want to increase the number of iterations. Duality gap: 235132987286.07538, tolerance: 458666941.127988\n",
      "  model = cd_fast.enet_coordinate_descent_gram(\n",
      "/Users/lewis/opt/anaconda3/lib/python3.8/site-packages/sklearn/linear_model/_coordinate_descent.py:525: ConvergenceWarning: Objective did not converge. You might want to increase the number of iterations. Duality gap: 242912180857.25006, tolerance: 458666941.127988\n",
      "  model = cd_fast.enet_coordinate_descent_gram(\n",
      "/Users/lewis/opt/anaconda3/lib/python3.8/site-packages/sklearn/linear_model/_coordinate_descent.py:525: ConvergenceWarning: Objective did not converge. You might want to increase the number of iterations. Duality gap: 251087158128.91376, tolerance: 458666941.127988\n",
      "  model = cd_fast.enet_coordinate_descent_gram(\n",
      "/Users/lewis/opt/anaconda3/lib/python3.8/site-packages/sklearn/linear_model/_coordinate_descent.py:525: ConvergenceWarning: Objective did not converge. You might want to increase the number of iterations. Duality gap: 259653645935.74973, tolerance: 458666941.127988\n",
      "  model = cd_fast.enet_coordinate_descent_gram(\n",
      "/Users/lewis/opt/anaconda3/lib/python3.8/site-packages/sklearn/linear_model/_coordinate_descent.py:525: ConvergenceWarning: Objective did not converge. You might want to increase the number of iterations. Duality gap: 273091260448.6482, tolerance: 432061442.90092117\n",
      "  model = cd_fast.enet_coordinate_descent_gram(\n",
      "/Users/lewis/opt/anaconda3/lib/python3.8/site-packages/sklearn/linear_model/_coordinate_descent.py:525: ConvergenceWarning: Objective did not converge. You might want to increase the number of iterations. Duality gap: 270854547829.10062, tolerance: 432061442.90092117\n",
      "  model = cd_fast.enet_coordinate_descent_gram(\n",
      "/Users/lewis/opt/anaconda3/lib/python3.8/site-packages/sklearn/linear_model/_coordinate_descent.py:525: ConvergenceWarning: Objective did not converge. You might want to increase the number of iterations. Duality gap: 257865530489.0195, tolerance: 432061442.90092117\n",
      "  model = cd_fast.enet_coordinate_descent_gram(\n",
      "/Users/lewis/opt/anaconda3/lib/python3.8/site-packages/sklearn/linear_model/_coordinate_descent.py:525: ConvergenceWarning: Objective did not converge. You might want to increase the number of iterations. Duality gap: 201213176462.1463, tolerance: 432061442.90092117\n",
      "  model = cd_fast.enet_coordinate_descent_gram(\n",
      "/Users/lewis/opt/anaconda3/lib/python3.8/site-packages/sklearn/linear_model/_coordinate_descent.py:525: ConvergenceWarning: Objective did not converge. You might want to increase the number of iterations. Duality gap: 93402350544.0484, tolerance: 432061442.90092117\n",
      "  model = cd_fast.enet_coordinate_descent_gram(\n",
      "/Users/lewis/opt/anaconda3/lib/python3.8/site-packages/sklearn/linear_model/_coordinate_descent.py:525: ConvergenceWarning: Objective did not converge. You might want to increase the number of iterations. Duality gap: 41463424633.21472, tolerance: 432061442.90092117\n",
      "  model = cd_fast.enet_coordinate_descent_gram(\n",
      "/Users/lewis/opt/anaconda3/lib/python3.8/site-packages/sklearn/linear_model/_coordinate_descent.py:525: ConvergenceWarning: Objective did not converge. You might want to increase the number of iterations. Duality gap: 32004267822.831543, tolerance: 432061442.90092117\n",
      "  model = cd_fast.enet_coordinate_descent_gram(\n",
      "/Users/lewis/opt/anaconda3/lib/python3.8/site-packages/sklearn/linear_model/_coordinate_descent.py:525: ConvergenceWarning: Objective did not converge. You might want to increase the number of iterations. Duality gap: 31368077753.94641, tolerance: 432061442.90092117\n",
      "  model = cd_fast.enet_coordinate_descent_gram(\n",
      "/Users/lewis/opt/anaconda3/lib/python3.8/site-packages/sklearn/linear_model/_coordinate_descent.py:525: ConvergenceWarning: Objective did not converge. You might want to increase the number of iterations. Duality gap: 32299073914.94641, tolerance: 432061442.90092117\n",
      "  model = cd_fast.enet_coordinate_descent_gram(\n",
      "/Users/lewis/opt/anaconda3/lib/python3.8/site-packages/sklearn/linear_model/_coordinate_descent.py:525: ConvergenceWarning: Objective did not converge. You might want to increase the number of iterations. Duality gap: 33622840146.046143, tolerance: 432061442.90092117\n",
      "  model = cd_fast.enet_coordinate_descent_gram(\n",
      "/Users/lewis/opt/anaconda3/lib/python3.8/site-packages/sklearn/linear_model/_coordinate_descent.py:525: ConvergenceWarning: Objective did not converge. You might want to increase the number of iterations. Duality gap: 35083886236.635254, tolerance: 432061442.90092117\n",
      "  model = cd_fast.enet_coordinate_descent_gram(\n",
      "/Users/lewis/opt/anaconda3/lib/python3.8/site-packages/sklearn/linear_model/_coordinate_descent.py:525: ConvergenceWarning: Objective did not converge. You might want to increase the number of iterations. Duality gap: 36652805214.393005, tolerance: 432061442.90092117\n",
      "  model = cd_fast.enet_coordinate_descent_gram(\n",
      "/Users/lewis/opt/anaconda3/lib/python3.8/site-packages/sklearn/linear_model/_coordinate_descent.py:525: ConvergenceWarning: Objective did not converge. You might want to increase the number of iterations. Duality gap: 38332583472.79907, tolerance: 432061442.90092117\n",
      "  model = cd_fast.enet_coordinate_descent_gram(\n",
      "/Users/lewis/opt/anaconda3/lib/python3.8/site-packages/sklearn/linear_model/_coordinate_descent.py:525: ConvergenceWarning: Objective did not converge. You might want to increase the number of iterations. Duality gap: 40132589296.65405, tolerance: 432061442.90092117\n",
      "  model = cd_fast.enet_coordinate_descent_gram(\n",
      "/Users/lewis/opt/anaconda3/lib/python3.8/site-packages/sklearn/linear_model/_coordinate_descent.py:525: ConvergenceWarning: Objective did not converge. You might want to increase the number of iterations. Duality gap: 42064345498.29523, tolerance: 432061442.90092117\n",
      "  model = cd_fast.enet_coordinate_descent_gram(\n",
      "/Users/lewis/opt/anaconda3/lib/python3.8/site-packages/sklearn/linear_model/_coordinate_descent.py:525: ConvergenceWarning: Objective did not converge. You might want to increase the number of iterations. Duality gap: 44140996365.135376, tolerance: 432061442.90092117\n",
      "  model = cd_fast.enet_coordinate_descent_gram(\n",
      "/Users/lewis/opt/anaconda3/lib/python3.8/site-packages/sklearn/linear_model/_coordinate_descent.py:525: ConvergenceWarning: Objective did not converge. You might want to increase the number of iterations. Duality gap: 46377407001.456726, tolerance: 432061442.90092117\n",
      "  model = cd_fast.enet_coordinate_descent_gram(\n",
      "/Users/lewis/opt/anaconda3/lib/python3.8/site-packages/sklearn/linear_model/_coordinate_descent.py:525: ConvergenceWarning: Objective did not converge. You might want to increase the number of iterations. Duality gap: 48790373819.990845, tolerance: 432061442.90092117\n",
      "  model = cd_fast.enet_coordinate_descent_gram(\n",
      "/Users/lewis/opt/anaconda3/lib/python3.8/site-packages/sklearn/linear_model/_coordinate_descent.py:525: ConvergenceWarning: Objective did not converge. You might want to increase the number of iterations. Duality gap: 51399006583.852356, tolerance: 432061442.90092117\n",
      "  model = cd_fast.enet_coordinate_descent_gram(\n",
      "/Users/lewis/opt/anaconda3/lib/python3.8/site-packages/sklearn/linear_model/_coordinate_descent.py:525: ConvergenceWarning: Objective did not converge. You might want to increase the number of iterations. Duality gap: 54225027999.1167, tolerance: 432061442.90092117\n",
      "  model = cd_fast.enet_coordinate_descent_gram(\n",
      "/Users/lewis/opt/anaconda3/lib/python3.8/site-packages/sklearn/linear_model/_coordinate_descent.py:525: ConvergenceWarning: Objective did not converge. You might want to increase the number of iterations. Duality gap: 57293294597.46411, tolerance: 432061442.90092117\n",
      "  model = cd_fast.enet_coordinate_descent_gram(\n",
      "/Users/lewis/opt/anaconda3/lib/python3.8/site-packages/sklearn/linear_model/_coordinate_descent.py:525: ConvergenceWarning: Objective did not converge. You might want to increase the number of iterations. Duality gap: 60437312160.70361, tolerance: 432061442.90092117\n",
      "  model = cd_fast.enet_coordinate_descent_gram(\n",
      "/Users/lewis/opt/anaconda3/lib/python3.8/site-packages/sklearn/linear_model/_coordinate_descent.py:525: ConvergenceWarning: Objective did not converge. You might want to increase the number of iterations. Duality gap: 64027335049.46759, tolerance: 432061442.90092117\n",
      "  model = cd_fast.enet_coordinate_descent_gram(\n",
      "/Users/lewis/opt/anaconda3/lib/python3.8/site-packages/sklearn/linear_model/_coordinate_descent.py:525: ConvergenceWarning: Objective did not converge. You might want to increase the number of iterations. Duality gap: 67995667508.81915, tolerance: 432061442.90092117\n",
      "  model = cd_fast.enet_coordinate_descent_gram(\n",
      "/Users/lewis/opt/anaconda3/lib/python3.8/site-packages/sklearn/linear_model/_coordinate_descent.py:525: ConvergenceWarning: Objective did not converge. You might want to increase the number of iterations. Duality gap: 72355843743.64331, tolerance: 432061442.90092117\n",
      "  model = cd_fast.enet_coordinate_descent_gram(\n",
      "/Users/lewis/opt/anaconda3/lib/python3.8/site-packages/sklearn/linear_model/_coordinate_descent.py:525: ConvergenceWarning: Objective did not converge. You might want to increase the number of iterations. Duality gap: 46972833032.062256, tolerance: 432061442.90092117\n",
      "  model = cd_fast.enet_coordinate_descent_gram(\n",
      "/Users/lewis/opt/anaconda3/lib/python3.8/site-packages/sklearn/linear_model/_coordinate_descent.py:525: ConvergenceWarning: Objective did not converge. You might want to increase the number of iterations. Duality gap: 42319255077.62244, tolerance: 432061442.90092117\n",
      "  model = cd_fast.enet_coordinate_descent_gram(\n"
     ]
    },
    {
     "name": "stderr",
     "output_type": "stream",
     "text": [
      "/Users/lewis/opt/anaconda3/lib/python3.8/site-packages/sklearn/linear_model/_coordinate_descent.py:525: ConvergenceWarning: Objective did not converge. You might want to increase the number of iterations. Duality gap: 44895405170.51892, tolerance: 432061442.90092117\n",
      "  model = cd_fast.enet_coordinate_descent_gram(\n",
      "/Users/lewis/opt/anaconda3/lib/python3.8/site-packages/sklearn/linear_model/_coordinate_descent.py:525: ConvergenceWarning: Objective did not converge. You might want to increase the number of iterations. Duality gap: 49288837654.932495, tolerance: 432061442.90092117\n",
      "  model = cd_fast.enet_coordinate_descent_gram(\n",
      "/Users/lewis/opt/anaconda3/lib/python3.8/site-packages/sklearn/linear_model/_coordinate_descent.py:525: ConvergenceWarning: Objective did not converge. You might want to increase the number of iterations. Duality gap: 54659863905.976685, tolerance: 432061442.90092117\n",
      "  model = cd_fast.enet_coordinate_descent_gram(\n",
      "/Users/lewis/opt/anaconda3/lib/python3.8/site-packages/sklearn/linear_model/_coordinate_descent.py:525: ConvergenceWarning: Objective did not converge. You might want to increase the number of iterations. Duality gap: 61017778325.35596, tolerance: 432061442.90092117\n",
      "  model = cd_fast.enet_coordinate_descent_gram(\n",
      "/Users/lewis/opt/anaconda3/lib/python3.8/site-packages/sklearn/linear_model/_coordinate_descent.py:525: ConvergenceWarning: Objective did not converge. You might want to increase the number of iterations. Duality gap: 90331255997.10583, tolerance: 432061442.90092117\n",
      "  model = cd_fast.enet_coordinate_descent_gram(\n",
      "/Users/lewis/opt/anaconda3/lib/python3.8/site-packages/sklearn/linear_model/_coordinate_descent.py:525: ConvergenceWarning: Objective did not converge. You might want to increase the number of iterations. Duality gap: 145696030539.6178, tolerance: 432061442.90092117\n",
      "  model = cd_fast.enet_coordinate_descent_gram(\n",
      "/Users/lewis/opt/anaconda3/lib/python3.8/site-packages/sklearn/linear_model/_coordinate_descent.py:525: ConvergenceWarning: Objective did not converge. You might want to increase the number of iterations. Duality gap: 162306760041.8228, tolerance: 432061442.90092117\n",
      "  model = cd_fast.enet_coordinate_descent_gram(\n",
      "/Users/lewis/opt/anaconda3/lib/python3.8/site-packages/sklearn/linear_model/_coordinate_descent.py:525: ConvergenceWarning: Objective did not converge. You might want to increase the number of iterations. Duality gap: 175523291189.5415, tolerance: 432061442.90092117\n",
      "  model = cd_fast.enet_coordinate_descent_gram(\n",
      "/Users/lewis/opt/anaconda3/lib/python3.8/site-packages/sklearn/linear_model/_coordinate_descent.py:525: ConvergenceWarning: Objective did not converge. You might want to increase the number of iterations. Duality gap: 189512347828.6729, tolerance: 432061442.90092117\n",
      "  model = cd_fast.enet_coordinate_descent_gram(\n",
      "/Users/lewis/opt/anaconda3/lib/python3.8/site-packages/sklearn/linear_model/_coordinate_descent.py:525: ConvergenceWarning: Objective did not converge. You might want to increase the number of iterations. Duality gap: 205108174335.33466, tolerance: 432061442.90092117\n",
      "  model = cd_fast.enet_coordinate_descent_gram(\n",
      "/Users/lewis/opt/anaconda3/lib/python3.8/site-packages/sklearn/linear_model/_coordinate_descent.py:525: ConvergenceWarning: Objective did not converge. You might want to increase the number of iterations. Duality gap: 222696945060.99646, tolerance: 432061442.90092117\n",
      "  model = cd_fast.enet_coordinate_descent_gram(\n",
      "/Users/lewis/opt/anaconda3/lib/python3.8/site-packages/sklearn/linear_model/_coordinate_descent.py:525: ConvergenceWarning: Objective did not converge. You might want to increase the number of iterations. Duality gap: 242653482145.18295, tolerance: 432061442.90092117\n",
      "  model = cd_fast.enet_coordinate_descent_gram(\n",
      "/Users/lewis/opt/anaconda3/lib/python3.8/site-packages/sklearn/linear_model/_coordinate_descent.py:525: ConvergenceWarning: Objective did not converge. You might want to increase the number of iterations. Duality gap: 265816425734.65558, tolerance: 432061442.90092117\n",
      "  model = cd_fast.enet_coordinate_descent_gram(\n",
      "/Users/lewis/opt/anaconda3/lib/python3.8/site-packages/sklearn/linear_model/_coordinate_descent.py:525: ConvergenceWarning: Objective did not converge. You might want to increase the number of iterations. Duality gap: 310413723261.2179, tolerance: 484363241.20916605\n",
      "  model = cd_fast.enet_coordinate_descent_gram(\n",
      "/Users/lewis/opt/anaconda3/lib/python3.8/site-packages/sklearn/linear_model/_coordinate_descent.py:525: ConvergenceWarning: Objective did not converge. You might want to increase the number of iterations. Duality gap: 309471177805.9541, tolerance: 484363241.20916605\n",
      "  model = cd_fast.enet_coordinate_descent_gram(\n",
      "/Users/lewis/opt/anaconda3/lib/python3.8/site-packages/sklearn/linear_model/_coordinate_descent.py:525: ConvergenceWarning: Objective did not converge. You might want to increase the number of iterations. Duality gap: 306885821664.79974, tolerance: 484363241.20916605\n",
      "  model = cd_fast.enet_coordinate_descent_gram(\n",
      "/Users/lewis/opt/anaconda3/lib/python3.8/site-packages/sklearn/linear_model/_coordinate_descent.py:525: ConvergenceWarning: Objective did not converge. You might want to increase the number of iterations. Duality gap: 300284294335.11224, tolerance: 484363241.20916605\n",
      "  model = cd_fast.enet_coordinate_descent_gram(\n",
      "/Users/lewis/opt/anaconda3/lib/python3.8/site-packages/sklearn/linear_model/_coordinate_descent.py:525: ConvergenceWarning: Objective did not converge. You might want to increase the number of iterations. Duality gap: 287831083961.3126, tolerance: 484363241.20916605\n",
      "  model = cd_fast.enet_coordinate_descent_gram(\n",
      "/Users/lewis/opt/anaconda3/lib/python3.8/site-packages/sklearn/linear_model/_coordinate_descent.py:525: ConvergenceWarning: Objective did not converge. You might want to increase the number of iterations. Duality gap: 274143535665.2797, tolerance: 484363241.20916605\n",
      "  model = cd_fast.enet_coordinate_descent_gram(\n",
      "/Users/lewis/opt/anaconda3/lib/python3.8/site-packages/sklearn/linear_model/_coordinate_descent.py:525: ConvergenceWarning: Objective did not converge. You might want to increase the number of iterations. Duality gap: 266182697562.09204, tolerance: 484363241.20916605\n",
      "  model = cd_fast.enet_coordinate_descent_gram(\n",
      "/Users/lewis/opt/anaconda3/lib/python3.8/site-packages/sklearn/linear_model/_coordinate_descent.py:525: ConvergenceWarning: Objective did not converge. You might want to increase the number of iterations. Duality gap: 263669940324.77277, tolerance: 484363241.20916605\n",
      "  model = cd_fast.enet_coordinate_descent_gram(\n",
      "/Users/lewis/opt/anaconda3/lib/python3.8/site-packages/sklearn/linear_model/_coordinate_descent.py:525: ConvergenceWarning: Objective did not converge. You might want to increase the number of iterations. Duality gap: 263243429152.20062, tolerance: 484363241.20916605\n",
      "  model = cd_fast.enet_coordinate_descent_gram(\n",
      "/Users/lewis/opt/anaconda3/lib/python3.8/site-packages/sklearn/linear_model/_coordinate_descent.py:525: ConvergenceWarning: Objective did not converge. You might want to increase the number of iterations. Duality gap: 263874658989.26343, tolerance: 484363241.20916605\n",
      "  model = cd_fast.enet_coordinate_descent_gram(\n",
      "/Users/lewis/opt/anaconda3/lib/python3.8/site-packages/sklearn/linear_model/_coordinate_descent.py:525: ConvergenceWarning: Objective did not converge. You might want to increase the number of iterations. Duality gap: 264994623757.99762, tolerance: 484363241.20916605\n",
      "  model = cd_fast.enet_coordinate_descent_gram(\n",
      "/Users/lewis/opt/anaconda3/lib/python3.8/site-packages/sklearn/linear_model/_coordinate_descent.py:525: ConvergenceWarning: Objective did not converge. You might want to increase the number of iterations. Duality gap: 266274172403.41296, tolerance: 484363241.20916605\n",
      "  model = cd_fast.enet_coordinate_descent_gram(\n",
      "/Users/lewis/opt/anaconda3/lib/python3.8/site-packages/sklearn/linear_model/_coordinate_descent.py:525: ConvergenceWarning: Objective did not converge. You might want to increase the number of iterations. Duality gap: 267609958580.3521, tolerance: 484363241.20916605\n",
      "  model = cd_fast.enet_coordinate_descent_gram(\n",
      "/Users/lewis/opt/anaconda3/lib/python3.8/site-packages/sklearn/linear_model/_coordinate_descent.py:525: ConvergenceWarning: Objective did not converge. You might want to increase the number of iterations. Duality gap: 268970347972.23132, tolerance: 484363241.20916605\n",
      "  model = cd_fast.enet_coordinate_descent_gram(\n",
      "/Users/lewis/opt/anaconda3/lib/python3.8/site-packages/sklearn/linear_model/_coordinate_descent.py:525: ConvergenceWarning: Objective did not converge. You might want to increase the number of iterations. Duality gap: 270345788877.4671, tolerance: 484363241.20916605\n",
      "  model = cd_fast.enet_coordinate_descent_gram(\n",
      "/Users/lewis/opt/anaconda3/lib/python3.8/site-packages/sklearn/linear_model/_coordinate_descent.py:525: ConvergenceWarning: Objective did not converge. You might want to increase the number of iterations. Duality gap: 271733464822.80096, tolerance: 484363241.20916605\n",
      "  model = cd_fast.enet_coordinate_descent_gram(\n",
      "/Users/lewis/opt/anaconda3/lib/python3.8/site-packages/sklearn/linear_model/_coordinate_descent.py:525: ConvergenceWarning: Objective did not converge. You might want to increase the number of iterations. Duality gap: 273132603923.60992, tolerance: 484363241.20916605\n",
      "  model = cd_fast.enet_coordinate_descent_gram(\n",
      "/Users/lewis/opt/anaconda3/lib/python3.8/site-packages/sklearn/linear_model/_coordinate_descent.py:525: ConvergenceWarning: Objective did not converge. You might want to increase the number of iterations. Duality gap: 274543056832.3239, tolerance: 484363241.20916605\n",
      "  model = cd_fast.enet_coordinate_descent_gram(\n",
      "/Users/lewis/opt/anaconda3/lib/python3.8/site-packages/sklearn/linear_model/_coordinate_descent.py:525: ConvergenceWarning: Objective did not converge. You might want to increase the number of iterations. Duality gap: 275964862964.88257, tolerance: 484363241.20916605\n",
      "  model = cd_fast.enet_coordinate_descent_gram(\n"
     ]
    },
    {
     "name": "stderr",
     "output_type": "stream",
     "text": [
      "/Users/lewis/opt/anaconda3/lib/python3.8/site-packages/sklearn/linear_model/_coordinate_descent.py:525: ConvergenceWarning: Objective did not converge. You might want to increase the number of iterations. Duality gap: 277398120211.3106, tolerance: 484363241.20916605\n",
      "  model = cd_fast.enet_coordinate_descent_gram(\n",
      "/Users/lewis/opt/anaconda3/lib/python3.8/site-packages/sklearn/linear_model/_coordinate_descent.py:525: ConvergenceWarning: Objective did not converge. You might want to increase the number of iterations. Duality gap: 278842944583.1469, tolerance: 484363241.20916605\n",
      "  model = cd_fast.enet_coordinate_descent_gram(\n",
      "/Users/lewis/opt/anaconda3/lib/python3.8/site-packages/sklearn/linear_model/_coordinate_descent.py:525: ConvergenceWarning: Objective did not converge. You might want to increase the number of iterations. Duality gap: 280299459814.76306, tolerance: 484363241.20916605\n",
      "  model = cd_fast.enet_coordinate_descent_gram(\n",
      "/Users/lewis/opt/anaconda3/lib/python3.8/site-packages/sklearn/linear_model/_coordinate_descent.py:525: ConvergenceWarning: Objective did not converge. You might want to increase the number of iterations. Duality gap: 281767792250.01227, tolerance: 484363241.20916605\n",
      "  model = cd_fast.enet_coordinate_descent_gram(\n",
      "/Users/lewis/opt/anaconda3/lib/python3.8/site-packages/sklearn/linear_model/_coordinate_descent.py:525: ConvergenceWarning: Objective did not converge. You might want to increase the number of iterations. Duality gap: 283248070696.3623, tolerance: 484363241.20916605\n",
      "  model = cd_fast.enet_coordinate_descent_gram(\n",
      "/Users/lewis/opt/anaconda3/lib/python3.8/site-packages/sklearn/linear_model/_coordinate_descent.py:525: ConvergenceWarning: Objective did not converge. You might want to increase the number of iterations. Duality gap: 284740425577.38605, tolerance: 484363241.20916605\n",
      "  model = cd_fast.enet_coordinate_descent_gram(\n",
      "/Users/lewis/opt/anaconda3/lib/python3.8/site-packages/sklearn/linear_model/_coordinate_descent.py:525: ConvergenceWarning: Objective did not converge. You might want to increase the number of iterations. Duality gap: 286244989555.11237, tolerance: 484363241.20916605\n",
      "  model = cd_fast.enet_coordinate_descent_gram(\n",
      "/Users/lewis/opt/anaconda3/lib/python3.8/site-packages/sklearn/linear_model/_coordinate_descent.py:525: ConvergenceWarning: Objective did not converge. You might want to increase the number of iterations. Duality gap: 287761896893.3386, tolerance: 484363241.20916605\n",
      "  model = cd_fast.enet_coordinate_descent_gram(\n",
      "/Users/lewis/opt/anaconda3/lib/python3.8/site-packages/sklearn/linear_model/_coordinate_descent.py:525: ConvergenceWarning: Objective did not converge. You might want to increase the number of iterations. Duality gap: 289291283709.5215, tolerance: 484363241.20916605\n",
      "  model = cd_fast.enet_coordinate_descent_gram(\n",
      "/Users/lewis/opt/anaconda3/lib/python3.8/site-packages/sklearn/linear_model/_coordinate_descent.py:525: ConvergenceWarning: Objective did not converge. You might want to increase the number of iterations. Duality gap: 290833287843.6144, tolerance: 484363241.20916605\n",
      "  model = cd_fast.enet_coordinate_descent_gram(\n",
      "/Users/lewis/opt/anaconda3/lib/python3.8/site-packages/sklearn/linear_model/_coordinate_descent.py:525: ConvergenceWarning: Objective did not converge. You might want to increase the number of iterations. Duality gap: 292388049516.7322, tolerance: 484363241.20916605\n",
      "  model = cd_fast.enet_coordinate_descent_gram(\n",
      "/Users/lewis/opt/anaconda3/lib/python3.8/site-packages/sklearn/linear_model/_coordinate_descent.py:525: ConvergenceWarning: Objective did not converge. You might want to increase the number of iterations. Duality gap: 293955710124.8349, tolerance: 484363241.20916605\n",
      "  model = cd_fast.enet_coordinate_descent_gram(\n",
      "/Users/lewis/opt/anaconda3/lib/python3.8/site-packages/sklearn/linear_model/_coordinate_descent.py:525: ConvergenceWarning: Objective did not converge. You might want to increase the number of iterations. Duality gap: 295536414023.3544, tolerance: 484363241.20916605\n",
      "  model = cd_fast.enet_coordinate_descent_gram(\n",
      "/Users/lewis/opt/anaconda3/lib/python3.8/site-packages/sklearn/linear_model/_coordinate_descent.py:525: ConvergenceWarning: Objective did not converge. You might want to increase the number of iterations. Duality gap: 297130306626.3041, tolerance: 484363241.20916605\n",
      "  model = cd_fast.enet_coordinate_descent_gram(\n",
      "/Users/lewis/opt/anaconda3/lib/python3.8/site-packages/sklearn/linear_model/_coordinate_descent.py:525: ConvergenceWarning: Objective did not converge. You might want to increase the number of iterations. Duality gap: 298737536035.6156, tolerance: 484363241.20916605\n",
      "  model = cd_fast.enet_coordinate_descent_gram(\n",
      "/Users/lewis/opt/anaconda3/lib/python3.8/site-packages/sklearn/linear_model/_coordinate_descent.py:525: ConvergenceWarning: Objective did not converge. You might want to increase the number of iterations. Duality gap: 300381368610.96747, tolerance: 484363241.20916605\n",
      "  model = cd_fast.enet_coordinate_descent_gram(\n",
      "/Users/lewis/opt/anaconda3/lib/python3.8/site-packages/sklearn/linear_model/_coordinate_descent.py:525: ConvergenceWarning: Objective did not converge. You might want to increase the number of iterations. Duality gap: 302039944013.8215, tolerance: 484363241.20916605\n",
      "  model = cd_fast.enet_coordinate_descent_gram(\n",
      "/Users/lewis/opt/anaconda3/lib/python3.8/site-packages/sklearn/linear_model/_coordinate_descent.py:525: ConvergenceWarning: Objective did not converge. You might want to increase the number of iterations. Duality gap: 303641810837.41754, tolerance: 484363241.20916605\n",
      "  model = cd_fast.enet_coordinate_descent_gram(\n",
      "/Users/lewis/opt/anaconda3/lib/python3.8/site-packages/sklearn/linear_model/_coordinate_descent.py:525: ConvergenceWarning: Objective did not converge. You might want to increase the number of iterations. Duality gap: 305295713088.53375, tolerance: 484363241.20916605\n",
      "  model = cd_fast.enet_coordinate_descent_gram(\n",
      "/Users/lewis/opt/anaconda3/lib/python3.8/site-packages/sklearn/linear_model/_coordinate_descent.py:525: ConvergenceWarning: Objective did not converge. You might want to increase the number of iterations. Duality gap: 306896042480.16693, tolerance: 484363241.20916605\n",
      "  model = cd_fast.enet_coordinate_descent_gram(\n",
      "/Users/lewis/opt/anaconda3/lib/python3.8/site-packages/sklearn/linear_model/_coordinate_descent.py:525: ConvergenceWarning: Objective did not converge. You might want to increase the number of iterations. Duality gap: 308670228032.88605, tolerance: 484363241.20916605\n",
      "  model = cd_fast.enet_coordinate_descent_gram(\n",
      "/Users/lewis/opt/anaconda3/lib/python3.8/site-packages/sklearn/linear_model/_coordinate_descent.py:525: ConvergenceWarning: Objective did not converge. You might want to increase the number of iterations. Duality gap: 295005572720.3531, tolerance: 468985887.0084762\n",
      "  model = cd_fast.enet_coordinate_descent_gram(\n",
      "/Users/lewis/opt/anaconda3/lib/python3.8/site-packages/sklearn/linear_model/_coordinate_descent.py:525: ConvergenceWarning: Objective did not converge. You might want to increase the number of iterations. Duality gap: 247978046775.3083, tolerance: 468985887.0084762\n",
      "  model = cd_fast.enet_coordinate_descent_gram(\n",
      "/Users/lewis/opt/anaconda3/lib/python3.8/site-packages/sklearn/linear_model/_coordinate_descent.py:525: ConvergenceWarning: Objective did not converge. You might want to increase the number of iterations. Duality gap: 141799876558.2212, tolerance: 468985887.0084762\n",
      "  model = cd_fast.enet_coordinate_descent_gram(\n",
      "/Users/lewis/opt/anaconda3/lib/python3.8/site-packages/sklearn/linear_model/_coordinate_descent.py:525: ConvergenceWarning: Objective did not converge. You might want to increase the number of iterations. Duality gap: 100835833619.77466, tolerance: 468985887.0084762\n",
      "  model = cd_fast.enet_coordinate_descent_gram(\n",
      "/Users/lewis/opt/anaconda3/lib/python3.8/site-packages/sklearn/linear_model/_coordinate_descent.py:525: ConvergenceWarning: Objective did not converge. You might want to increase the number of iterations. Duality gap: 97040189751.22308, tolerance: 468985887.0084762\n",
      "  model = cd_fast.enet_coordinate_descent_gram(\n",
      "/Users/lewis/opt/anaconda3/lib/python3.8/site-packages/sklearn/linear_model/_coordinate_descent.py:525: ConvergenceWarning: Objective did not converge. You might want to increase the number of iterations. Duality gap: 98740153693.19165, tolerance: 468985887.0084762\n",
      "  model = cd_fast.enet_coordinate_descent_gram(\n",
      "/Users/lewis/opt/anaconda3/lib/python3.8/site-packages/sklearn/linear_model/_coordinate_descent.py:525: ConvergenceWarning: Objective did not converge. You might want to increase the number of iterations. Duality gap: 68637648295.06879, tolerance: 468985887.0084762\n",
      "  model = cd_fast.enet_coordinate_descent_gram(\n",
      "/Users/lewis/opt/anaconda3/lib/python3.8/site-packages/sklearn/linear_model/_coordinate_descent.py:525: ConvergenceWarning: Objective did not converge. You might want to increase the number of iterations. Duality gap: 56362001690.95953, tolerance: 468985887.0084762\n",
      "  model = cd_fast.enet_coordinate_descent_gram(\n",
      "/Users/lewis/opt/anaconda3/lib/python3.8/site-packages/sklearn/linear_model/_coordinate_descent.py:525: ConvergenceWarning: Objective did not converge. You might want to increase the number of iterations. Duality gap: 56593044822.02014, tolerance: 468985887.0084762\n",
      "  model = cd_fast.enet_coordinate_descent_gram(\n",
      "/Users/lewis/opt/anaconda3/lib/python3.8/site-packages/sklearn/linear_model/_coordinate_descent.py:525: ConvergenceWarning: Objective did not converge. You might want to increase the number of iterations. Duality gap: 58470651311.47241, tolerance: 468985887.0084762\n",
      "  model = cd_fast.enet_coordinate_descent_gram(\n",
      "/Users/lewis/opt/anaconda3/lib/python3.8/site-packages/sklearn/linear_model/_coordinate_descent.py:525: ConvergenceWarning: Objective did not converge. You might want to increase the number of iterations. Duality gap: 60650686273.56, tolerance: 468985887.0084762\n",
      "  model = cd_fast.enet_coordinate_descent_gram(\n",
      "/Users/lewis/opt/anaconda3/lib/python3.8/site-packages/sklearn/linear_model/_coordinate_descent.py:525: ConvergenceWarning: Objective did not converge. You might want to increase the number of iterations. Duality gap: 62981219813.26599, tolerance: 468985887.0084762\n",
      "  model = cd_fast.enet_coordinate_descent_gram(\n"
     ]
    },
    {
     "name": "stderr",
     "output_type": "stream",
     "text": [
      "/Users/lewis/opt/anaconda3/lib/python3.8/site-packages/sklearn/linear_model/_coordinate_descent.py:525: ConvergenceWarning: Objective did not converge. You might want to increase the number of iterations. Duality gap: 65453353436.62024, tolerance: 468985887.0084762\n",
      "  model = cd_fast.enet_coordinate_descent_gram(\n",
      "/Users/lewis/opt/anaconda3/lib/python3.8/site-packages/sklearn/linear_model/_coordinate_descent.py:525: ConvergenceWarning: Objective did not converge. You might want to increase the number of iterations. Duality gap: 68076085557.13837, tolerance: 468985887.0084762\n",
      "  model = cd_fast.enet_coordinate_descent_gram(\n",
      "/Users/lewis/opt/anaconda3/lib/python3.8/site-packages/sklearn/linear_model/_coordinate_descent.py:525: ConvergenceWarning: Objective did not converge. You might want to increase the number of iterations. Duality gap: 70861574669.45776, tolerance: 468985887.0084762\n",
      "  model = cd_fast.enet_coordinate_descent_gram(\n",
      "/Users/lewis/opt/anaconda3/lib/python3.8/site-packages/sklearn/linear_model/_coordinate_descent.py:525: ConvergenceWarning: Objective did not converge. You might want to increase the number of iterations. Duality gap: 73823533685.19965, tolerance: 468985887.0084762\n",
      "  model = cd_fast.enet_coordinate_descent_gram(\n",
      "/Users/lewis/opt/anaconda3/lib/python3.8/site-packages/sklearn/linear_model/_coordinate_descent.py:525: ConvergenceWarning: Objective did not converge. You might want to increase the number of iterations. Duality gap: 76977187975.80945, tolerance: 468985887.0084762\n",
      "  model = cd_fast.enet_coordinate_descent_gram(\n",
      "/Users/lewis/opt/anaconda3/lib/python3.8/site-packages/sklearn/linear_model/_coordinate_descent.py:525: ConvergenceWarning: Objective did not converge. You might want to increase the number of iterations. Duality gap: 80339436447.27484, tolerance: 468985887.0084762\n",
      "  model = cd_fast.enet_coordinate_descent_gram(\n",
      "/Users/lewis/opt/anaconda3/lib/python3.8/site-packages/sklearn/linear_model/_coordinate_descent.py:525: ConvergenceWarning: Objective did not converge. You might want to increase the number of iterations. Duality gap: 83929080579.6222, tolerance: 468985887.0084762\n",
      "  model = cd_fast.enet_coordinate_descent_gram(\n",
      "/Users/lewis/opt/anaconda3/lib/python3.8/site-packages/sklearn/linear_model/_coordinate_descent.py:525: ConvergenceWarning: Objective did not converge. You might want to increase the number of iterations. Duality gap: 87767107110.61877, tolerance: 468985887.0084762\n",
      "  model = cd_fast.enet_coordinate_descent_gram(\n",
      "/Users/lewis/opt/anaconda3/lib/python3.8/site-packages/sklearn/linear_model/_coordinate_descent.py:525: ConvergenceWarning: Objective did not converge. You might want to increase the number of iterations. Duality gap: 91876952085.13293, tolerance: 468985887.0084762\n",
      "  model = cd_fast.enet_coordinate_descent_gram(\n",
      "/Users/lewis/opt/anaconda3/lib/python3.8/site-packages/sklearn/linear_model/_coordinate_descent.py:525: ConvergenceWarning: Objective did not converge. You might want to increase the number of iterations. Duality gap: 96284910053.54004, tolerance: 468985887.0084762\n",
      "  model = cd_fast.enet_coordinate_descent_gram(\n",
      "/Users/lewis/opt/anaconda3/lib/python3.8/site-packages/sklearn/linear_model/_coordinate_descent.py:525: ConvergenceWarning: Objective did not converge. You might want to increase the number of iterations. Duality gap: 101020506037.85992, tolerance: 468985887.0084762\n",
      "  model = cd_fast.enet_coordinate_descent_gram(\n",
      "/Users/lewis/opt/anaconda3/lib/python3.8/site-packages/sklearn/linear_model/_coordinate_descent.py:525: ConvergenceWarning: Objective did not converge. You might want to increase the number of iterations. Duality gap: 106117038374.33014, tolerance: 468985887.0084762\n",
      "  model = cd_fast.enet_coordinate_descent_gram(\n",
      "/Users/lewis/opt/anaconda3/lib/python3.8/site-packages/sklearn/linear_model/_coordinate_descent.py:525: ConvergenceWarning: Objective did not converge. You might want to increase the number of iterations. Duality gap: 115264061388.71759, tolerance: 468985887.0084762\n",
      "  model = cd_fast.enet_coordinate_descent_gram(\n",
      "/Users/lewis/opt/anaconda3/lib/python3.8/site-packages/sklearn/linear_model/_coordinate_descent.py:525: ConvergenceWarning: Objective did not converge. You might want to increase the number of iterations. Duality gap: 122302100652.62122, tolerance: 468985887.0084762\n",
      "  model = cd_fast.enet_coordinate_descent_gram(\n",
      "/Users/lewis/opt/anaconda3/lib/python3.8/site-packages/sklearn/linear_model/_coordinate_descent.py:525: ConvergenceWarning: Objective did not converge. You might want to increase the number of iterations. Duality gap: 128880551378.06323, tolerance: 468985887.0084762\n",
      "  model = cd_fast.enet_coordinate_descent_gram(\n",
      "/Users/lewis/opt/anaconda3/lib/python3.8/site-packages/sklearn/linear_model/_coordinate_descent.py:525: ConvergenceWarning: Objective did not converge. You might want to increase the number of iterations. Duality gap: 135878096605.97485, tolerance: 468985887.0084762\n",
      "  model = cd_fast.enet_coordinate_descent_gram(\n",
      "/Users/lewis/opt/anaconda3/lib/python3.8/site-packages/sklearn/linear_model/_coordinate_descent.py:525: ConvergenceWarning: Objective did not converge. You might want to increase the number of iterations. Duality gap: 143449744903.2495, tolerance: 468985887.0084762\n",
      "  model = cd_fast.enet_coordinate_descent_gram(\n",
      "/Users/lewis/opt/anaconda3/lib/python3.8/site-packages/sklearn/linear_model/_coordinate_descent.py:525: ConvergenceWarning: Objective did not converge. You might want to increase the number of iterations. Duality gap: 151674273105.00366, tolerance: 468985887.0084762\n",
      "  model = cd_fast.enet_coordinate_descent_gram(\n",
      "/Users/lewis/opt/anaconda3/lib/python3.8/site-packages/sklearn/linear_model/_coordinate_descent.py:525: ConvergenceWarning: Objective did not converge. You might want to increase the number of iterations. Duality gap: 160630599177.78394, tolerance: 468985887.0084762\n",
      "  model = cd_fast.enet_coordinate_descent_gram(\n",
      "/Users/lewis/opt/anaconda3/lib/python3.8/site-packages/sklearn/linear_model/_coordinate_descent.py:525: ConvergenceWarning: Objective did not converge. You might want to increase the number of iterations. Duality gap: 202658688549.07593, tolerance: 468985887.0084762\n",
      "  model = cd_fast.enet_coordinate_descent_gram(\n",
      "/Users/lewis/opt/anaconda3/lib/python3.8/site-packages/sklearn/linear_model/_coordinate_descent.py:525: ConvergenceWarning: Objective did not converge. You might want to increase the number of iterations. Duality gap: 223952583914.3156, tolerance: 468985887.0084762\n",
      "  model = cd_fast.enet_coordinate_descent_gram(\n",
      "/Users/lewis/opt/anaconda3/lib/python3.8/site-packages/sklearn/linear_model/_coordinate_descent.py:525: ConvergenceWarning: Objective did not converge. You might want to increase the number of iterations. Duality gap: 231130106891.10193, tolerance: 468985887.0084762\n",
      "  model = cd_fast.enet_coordinate_descent_gram(\n",
      "/Users/lewis/opt/anaconda3/lib/python3.8/site-packages/sklearn/linear_model/_coordinate_descent.py:525: ConvergenceWarning: Objective did not converge. You might want to increase the number of iterations. Duality gap: 240401335075.21478, tolerance: 468985887.0084762\n",
      "  model = cd_fast.enet_coordinate_descent_gram(\n",
      "/Users/lewis/opt/anaconda3/lib/python3.8/site-packages/sklearn/linear_model/_coordinate_descent.py:525: ConvergenceWarning: Objective did not converge. You might want to increase the number of iterations. Duality gap: 250457354756.3911, tolerance: 468985887.0084762\n",
      "  model = cd_fast.enet_coordinate_descent_gram(\n",
      "/Users/lewis/opt/anaconda3/lib/python3.8/site-packages/sklearn/linear_model/_coordinate_descent.py:525: ConvergenceWarning: Objective did not converge. You might want to increase the number of iterations. Duality gap: 261184799287.64526, tolerance: 468985887.0084762\n",
      "  model = cd_fast.enet_coordinate_descent_gram(\n",
      "/Users/lewis/opt/anaconda3/lib/python3.8/site-packages/sklearn/linear_model/_coordinate_descent.py:525: ConvergenceWarning: Objective did not converge. You might want to increase the number of iterations. Duality gap: 272622448058.1042, tolerance: 468985887.0084762\n",
      "  model = cd_fast.enet_coordinate_descent_gram(\n",
      "/Users/lewis/opt/anaconda3/lib/python3.8/site-packages/sklearn/linear_model/_coordinate_descent.py:525: ConvergenceWarning: Objective did not converge. You might want to increase the number of iterations. Duality gap: 284831986998.52374, tolerance: 468985887.0084762\n",
      "  model = cd_fast.enet_coordinate_descent_gram(\n",
      "/Users/lewis/opt/anaconda3/lib/python3.8/site-packages/sklearn/linear_model/_coordinate_descent.py:525: ConvergenceWarning: Objective did not converge. You might want to increase the number of iterations. Duality gap: 297884258490.8327, tolerance: 468985887.0084762\n",
      "  model = cd_fast.enet_coordinate_descent_gram(\n"
     ]
    },
    {
     "name": "stderr",
     "output_type": "stream",
     "text": [
      "/Users/lewis/opt/anaconda3/lib/python3.8/site-packages/sklearn/linear_model/_coordinate_descent.py:529: ConvergenceWarning: Objective did not converge. You might want to increase the number of iterations. Duality gap: 383456907813.99207, tolerance: 580186934.2232984\n",
      "  model = cd_fast.enet_coordinate_descent(\n"
     ]
    },
    {
     "data": {
      "text/plain": [
       "0.8670912353970139"
      ]
     },
     "execution_count": 39,
     "metadata": {},
     "output_type": "execute_result"
    }
   ],
   "source": [
    "# Lasso\n",
    "lasso_cv = LassoCV(alphas=np.linspace(0.01,1.5,40))\n",
    "lasso_cv.fit(X_train, y_train)\n",
    "lasso_cv.score(X_train, y_train)"
   ]
  },
  {
   "cell_type": "code",
   "execution_count": 40,
   "metadata": {},
   "outputs": [
    {
     "name": "stderr",
     "output_type": "stream",
     "text": [
      "[Parallel(n_jobs=8)]: Using backend ThreadingBackend with 8 concurrent workers.\n",
      "..........................................................................................................................................................................................................................................................................................................................................................................................................................................................................................................................................................................................................................................................................................................................................................................................................................................................................................................................................................................................................................................................................................................................................................................................................................................................................................................................................................................................................................................................................................................................................................................................................................................................................................................................................................................................................................................................................................................................................................................................................................................................................................................................................................................................................................................................................................................................................................................................................................................................................................................................................................................................................................................................................................................................................................................................................................................................................................................................................................................................................................................................................................................................................................................................................................................................................................................................................................................................................................................................................................................................................................................................................................................................................................................................................................................................................................................................................................................................................................................................................................................................................................[Parallel(n_jobs=8)]: Done  34 tasks      | elapsed:    2.2s\n"
     ]
    },
    {
     "name": "stderr",
     "output_type": "stream",
     "text": [
      "..........................................................................................................................................................................................................................................................................................................................................................................................................................................................................................................................................................................................................................................................................................................................................................................................................................................................................................................................................................................................................................................................................................................................................................................................................................................................................................................................................................................................................................................................................................................................................................................................................................................................................................................................................................................................................................................................................................................................................................................................................................................................................................................................................................................................................................................................................................................................................................................................................................................................................................................................................................................................................................................................................................................................................................................................................................................................................................................................................................................................................................................................................................................................................................................................................................................................................................................................................................................................................................................................................................................................................................................................................................................................................................................................................................................................................................................................................................................................................................................................................................................................................................................................................................................................................................................................................................................................................................................................................................................................................................................................................................................................................................................................................................................................................................................................................................................................................................................................................................................................................................................................................................................................................................................................................................................................................................................................................................................................................................................................................................................................................................................................................................................................................................................................................................................................................................................................................................................................................................................................................................................................................................................................................................................................................................................................................................................................................................................................................................................................................................................................................................................................................................................................................................................................................................................................................................................................................................................................................................................................................................................................................................................................................................................................................................................................................................................................................................................................................................................................................................................................................................................................................................................................................................................................................................................................................................................................................................................................................................................................................................................................................................................................................................................................................................................................................................................................................................................................................................................................................................................................................................................................................................................................................................................................................................................................................................................................................................................................[Parallel(n_jobs=8)]: Done 125 out of 125 | elapsed:    7.5s finished\n"
     ]
    },
    {
     "data": {
      "text/plain": [
       "0.7647448443803323"
      ]
     },
     "execution_count": 40,
     "metadata": {},
     "output_type": "execute_result"
    }
   ],
   "source": [
    "# ElasticNet\n",
    "elastic_cv = ElasticNetCV(l1_ratio=np.linspace(0.01, 1.0, 25), n_alphas=100, cv=5,verbose=1, n_jobs=8)\n",
    "elastic_cv.fit(X_train, y_train)\n",
    "elastic_cv.score(X_train, y_train)"
   ]
  },
  {
   "cell_type": "markdown",
   "metadata": {},
   "source": [
    "## Evaluating the model\n",
    "\n",
    "The model which performs best on the training set is lasso_cv (with ridge regeression in a close 2nd). The model performs also performs well on the test set, accounting for ~87% of the variance in SalePrice. Given the large number of predictor variables, and LASSO's ability to output a sparse model with automatic feature selection, this is perhaps unsurprising. It is likely that the other models were unable to perform as effective regularisation."
   ]
  },
  {
   "cell_type": "code",
   "execution_count": 41,
   "metadata": {},
   "outputs": [
    {
     "name": "stdout",
     "output_type": "stream",
     "text": [
      "Lasso test set R2: 0.8675565582269229\n"
     ]
    }
   ],
   "source": [
    "print(f'Lasso test set R2:',lasso_cv.score(X_test,y_test))"
   ]
  },
  {
   "cell_type": "markdown",
   "metadata": {},
   "source": [
    "The 20 best estimates of price are listed below. 11 of these, including the one with the largest coefficient (Neighborhood_ClearCr - i.e. Clear Creek) refer to specific neighbourhoods. This suggests that overall, the Neighborhood which a property is in is the best fixed variable for estimating it's price. \n",
    "\n",
    "The top 5 fixed variables which contribute most the the model's estimate of price are GarageType_NA, LotConfig_CulDSac, HasBsmt, GarageType_Detchd and MSSubClass_DUPLEX - ALL STYLES AND AGES. Of these variables, only the latter contributes negatively to the estimate of price. This is surprising, as GarageType_NA indicates that a house has no garage. Generally, I would expect this to contribute negatively to the overall price, and especially so in a Midwestern US state.\n",
    "\n",
    "Overall, the model performs reasonably well, but some of the coefficients (such as GarageType_NA) need sense checking. Where they contribute to the model's estimate in a counter-intuitive manner, futher analysis of the final training sets would be advisable. In addition to this, further data collection could help to indicate whether these patterns are artefacts of this particular dataset, or actual trends."
   ]
  },
  {
   "cell_type": "code",
   "execution_count": 42,
   "metadata": {},
   "outputs": [
    {
     "data": {
      "text/html": [
       "<div>\n",
       "<style scoped>\n",
       "    .dataframe tbody tr th:only-of-type {\n",
       "        vertical-align: middle;\n",
       "    }\n",
       "\n",
       "    .dataframe tbody tr th {\n",
       "        vertical-align: top;\n",
       "    }\n",
       "\n",
       "    .dataframe thead th {\n",
       "        text-align: right;\n",
       "    }\n",
       "</style>\n",
       "<table border=\"1\" class=\"dataframe\">\n",
       "  <thead>\n",
       "    <tr style=\"text-align: right;\">\n",
       "      <th></th>\n",
       "      <th>variable</th>\n",
       "      <th>coef</th>\n",
       "      <th>abs_coef</th>\n",
       "    </tr>\n",
       "  </thead>\n",
       "  <tbody>\n",
       "    <tr>\n",
       "      <th>59</th>\n",
       "      <td>Neighborhood_ClearCr</td>\n",
       "      <td>-48222.203497</td>\n",
       "      <td>48222.203497</td>\n",
       "    </tr>\n",
       "    <tr>\n",
       "      <th>110</th>\n",
       "      <td>GarageType_NA</td>\n",
       "      <td>47284.638724</td>\n",
       "      <td>47284.638724</td>\n",
       "    </tr>\n",
       "    <tr>\n",
       "      <th>66</th>\n",
       "      <td>Neighborhood_Mitchel</td>\n",
       "      <td>-45494.177864</td>\n",
       "      <td>45494.177864</td>\n",
       "    </tr>\n",
       "    <tr>\n",
       "      <th>52</th>\n",
       "      <td>LotConfig_CulDSac</td>\n",
       "      <td>38919.883368</td>\n",
       "      <td>38919.883368</td>\n",
       "    </tr>\n",
       "    <tr>\n",
       "      <th>24</th>\n",
       "      <td>HasBsmt</td>\n",
       "      <td>38778.394571</td>\n",
       "      <td>38778.394571</td>\n",
       "    </tr>\n",
       "    <tr>\n",
       "      <th>76</th>\n",
       "      <td>Neighborhood_StoneBr</td>\n",
       "      <td>37676.884913</td>\n",
       "      <td>37676.884913</td>\n",
       "    </tr>\n",
       "    <tr>\n",
       "      <th>65</th>\n",
       "      <td>Neighborhood_MeadowV</td>\n",
       "      <td>-37603.515487</td>\n",
       "      <td>37603.515487</td>\n",
       "    </tr>\n",
       "    <tr>\n",
       "      <th>109</th>\n",
       "      <td>GarageType_Detchd</td>\n",
       "      <td>35817.526302</td>\n",
       "      <td>35817.526302</td>\n",
       "    </tr>\n",
       "    <tr>\n",
       "      <th>37</th>\n",
       "      <td>MSSubClass_DUPLEX - ALL STYLES AND AGES</td>\n",
       "      <td>-35815.868834</td>\n",
       "      <td>35815.868834</td>\n",
       "    </tr>\n",
       "    <tr>\n",
       "      <th>82</th>\n",
       "      <td>Condition1_PosN</td>\n",
       "      <td>-35281.181554</td>\n",
       "      <td>35281.181554</td>\n",
       "    </tr>\n",
       "    <tr>\n",
       "      <th>106</th>\n",
       "      <td>GarageType_Attchd</td>\n",
       "      <td>34156.849858</td>\n",
       "      <td>34156.849858</td>\n",
       "    </tr>\n",
       "    <tr>\n",
       "      <th>62</th>\n",
       "      <td>Neighborhood_Edwards</td>\n",
       "      <td>-33521.417858</td>\n",
       "      <td>33521.417858</td>\n",
       "    </tr>\n",
       "    <tr>\n",
       "      <th>72</th>\n",
       "      <td>Neighborhood_SWISU</td>\n",
       "      <td>-33450.777866</td>\n",
       "      <td>33450.777866</td>\n",
       "    </tr>\n",
       "    <tr>\n",
       "      <th>85</th>\n",
       "      <td>Condition2_Norm</td>\n",
       "      <td>32793.817312</td>\n",
       "      <td>32793.817312</td>\n",
       "    </tr>\n",
       "    <tr>\n",
       "      <th>108</th>\n",
       "      <td>GarageType_BuiltIn</td>\n",
       "      <td>32745.880622</td>\n",
       "      <td>32745.880622</td>\n",
       "    </tr>\n",
       "    <tr>\n",
       "      <th>73</th>\n",
       "      <td>Neighborhood_Sawyer</td>\n",
       "      <td>-32633.774584</td>\n",
       "      <td>32633.774584</td>\n",
       "    </tr>\n",
       "    <tr>\n",
       "      <th>68</th>\n",
       "      <td>Neighborhood_NWAmes</td>\n",
       "      <td>-32177.337058</td>\n",
       "      <td>32177.337058</td>\n",
       "    </tr>\n",
       "    <tr>\n",
       "      <th>77</th>\n",
       "      <td>Neighborhood_Timber</td>\n",
       "      <td>-31755.065735</td>\n",
       "      <td>31755.065735</td>\n",
       "    </tr>\n",
       "    <tr>\n",
       "      <th>67</th>\n",
       "      <td>Neighborhood_NAmes</td>\n",
       "      <td>-30899.416973</td>\n",
       "      <td>30899.416973</td>\n",
       "    </tr>\n",
       "    <tr>\n",
       "      <th>63</th>\n",
       "      <td>Neighborhood_Gilbert</td>\n",
       "      <td>-28813.992454</td>\n",
       "      <td>28813.992454</td>\n",
       "    </tr>\n",
       "  </tbody>\n",
       "</table>\n",
       "</div>"
      ],
      "text/plain": [
       "                                    variable          coef      abs_coef\n",
       "59                      Neighborhood_ClearCr -48222.203497  48222.203497\n",
       "110                            GarageType_NA  47284.638724  47284.638724\n",
       "66                      Neighborhood_Mitchel -45494.177864  45494.177864\n",
       "52                         LotConfig_CulDSac  38919.883368  38919.883368\n",
       "24                                   HasBsmt  38778.394571  38778.394571\n",
       "76                      Neighborhood_StoneBr  37676.884913  37676.884913\n",
       "65                      Neighborhood_MeadowV -37603.515487  37603.515487\n",
       "109                        GarageType_Detchd  35817.526302  35817.526302\n",
       "37   MSSubClass_DUPLEX - ALL STYLES AND AGES -35815.868834  35815.868834\n",
       "82                           Condition1_PosN -35281.181554  35281.181554\n",
       "106                        GarageType_Attchd  34156.849858  34156.849858\n",
       "62                      Neighborhood_Edwards -33521.417858  33521.417858\n",
       "72                        Neighborhood_SWISU -33450.777866  33450.777866\n",
       "85                           Condition2_Norm  32793.817312  32793.817312\n",
       "108                       GarageType_BuiltIn  32745.880622  32745.880622\n",
       "73                       Neighborhood_Sawyer -32633.774584  32633.774584\n",
       "68                       Neighborhood_NWAmes -32177.337058  32177.337058\n",
       "77                       Neighborhood_Timber -31755.065735  31755.065735\n",
       "67                        Neighborhood_NAmes -30899.416973  30899.416973\n",
       "63                      Neighborhood_Gilbert -28813.992454  28813.992454"
      ]
     },
     "execution_count": 42,
     "metadata": {},
     "output_type": "execute_result"
    }
   ],
   "source": [
    "lasso_coefs = pd.DataFrame({'variable': X_train.columns,\n",
    "                            'coef': lasso_cv.coef_,\n",
    "                            'abs_coef': np.abs(lasso_cv.coef_)})\n",
    "\n",
    "lasso_coefs.sort_values('abs_coef', inplace=True, ascending=False)\n",
    "\n",
    "lasso_coefs.head(20)"
   ]
  },
  {
   "cell_type": "markdown",
   "metadata": {},
   "source": [
    "<img src=\"http://imgur.com/l5NasQj.png\" style=\"float: left; margin: 25px 15px 0px 0px; height: 25px\">\n",
    "\n",
    "## 2. Determine any value of *changeable* property characteristics unexplained by the *fixed* ones.\n",
    "\n",
    "---\n",
    "\n",
    "Now that you have a model that estimates the price of a house based on its static characteristics, we can move forward with part 2 and 3 of the plan: what are the costs/benefits of quality, condition, and renovations?\n",
    "\n",
    "---\n",
    "\n",
    "**Your goals:**\n",
    "1. Evaluate the effect in dollars of the renovatable features. \n",
    "- How would your company use this second model and its coefficients to determine whether they should buy a property or not? Explain how the company can use the two models you have built to determine if they can make money. \n",
    "- Investigate how much of the variance in price remaining is explained by these features.\n",
    "- Do you trust your model? Should it be used to evaluate which properties to buy and fix up?"
   ]
  },
  {
   "cell_type": "markdown",
   "metadata": {},
   "source": [
    "As above, I've created 4 models. Again, the LASSO model performs best on the training set, with an R2 of 0.8."
   ]
  },
  {
   "cell_type": "code",
   "execution_count": 43,
   "metadata": {},
   "outputs": [],
   "source": [
    "# getting X_train and X_test sets - y_train & y_test are the same\n",
    "X_train = data_mutable_dummies[data_fixed_dummies['YrSold'] < 2010]\n",
    "X_test = data_mutable_dummies[data_fixed_dummies['YrSold'] == 2010] "
   ]
  },
  {
   "cell_type": "code",
   "execution_count": 44,
   "metadata": {},
   "outputs": [
    {
     "name": "stdout",
     "output_type": "stream",
     "text": [
      "0.7288658760848308 [0.77395679 0.71434463 0.74781352 0.70748496 0.70072948]\n"
     ]
    }
   ],
   "source": [
    "# training linear regression model\n",
    "lin_mod = LinearRegression()\n",
    "cv_scores = cross_val_score(lin_mod, X_train, y_train, cv =5)\n",
    "print(cv_scores.mean(), cv_scores)"
   ]
  },
  {
   "cell_type": "code",
   "execution_count": 45,
   "metadata": {},
   "outputs": [
    {
     "data": {
      "text/plain": [
       "0.789436470629445"
      ]
     },
     "execution_count": 45,
     "metadata": {},
     "output_type": "execute_result"
    }
   ],
   "source": [
    "# Ridge\n",
    "ridge_cv = RidgeCV(alphas=np.logspace(0.01,100,1000))\n",
    "ridge_cv.fit(X_train, y_train)\n",
    "ridge_cv.score(X_train, y_train)"
   ]
  },
  {
   "cell_type": "code",
   "execution_count": 46,
   "metadata": {},
   "outputs": [
    {
     "name": "stderr",
     "output_type": "stream",
     "text": [
      "/Users/lewis/opt/anaconda3/lib/python3.8/site-packages/sklearn/linear_model/_coordinate_descent.py:525: ConvergenceWarning: Objective did not converge. You might want to increase the number of iterations. Duality gap: 115621418347.07935, tolerance: 475868959.50313556\n",
      "  model = cd_fast.enet_coordinate_descent_gram(\n",
      "/Users/lewis/opt/anaconda3/lib/python3.8/site-packages/sklearn/linear_model/_coordinate_descent.py:525: ConvergenceWarning: Objective did not converge. You might want to increase the number of iterations. Duality gap: 573135976.7563477, tolerance: 475868959.50313556\n",
      "  model = cd_fast.enet_coordinate_descent_gram(\n",
      "/Users/lewis/opt/anaconda3/lib/python3.8/site-packages/sklearn/linear_model/_coordinate_descent.py:525: ConvergenceWarning: Objective did not converge. You might want to increase the number of iterations. Duality gap: 854038525.8535156, tolerance: 475868959.50313556\n",
      "  model = cd_fast.enet_coordinate_descent_gram(\n",
      "/Users/lewis/opt/anaconda3/lib/python3.8/site-packages/sklearn/linear_model/_coordinate_descent.py:525: ConvergenceWarning: Objective did not converge. You might want to increase the number of iterations. Duality gap: 1414572358.5178223, tolerance: 475868959.50313556\n",
      "  model = cd_fast.enet_coordinate_descent_gram(\n",
      "/Users/lewis/opt/anaconda3/lib/python3.8/site-packages/sklearn/linear_model/_coordinate_descent.py:525: ConvergenceWarning: Objective did not converge. You might want to increase the number of iterations. Duality gap: 2795345986.331543, tolerance: 475868959.50313556\n",
      "  model = cd_fast.enet_coordinate_descent_gram(\n",
      "/Users/lewis/opt/anaconda3/lib/python3.8/site-packages/sklearn/linear_model/_coordinate_descent.py:525: ConvergenceWarning: Objective did not converge. You might want to increase the number of iterations. Duality gap: 7959605450.072632, tolerance: 475868959.50313556\n",
      "  model = cd_fast.enet_coordinate_descent_gram(\n",
      "/Users/lewis/opt/anaconda3/lib/python3.8/site-packages/sklearn/linear_model/_coordinate_descent.py:525: ConvergenceWarning: Objective did not converge. You might want to increase the number of iterations. Duality gap: 82293588809.93042, tolerance: 475868959.50313556\n",
      "  model = cd_fast.enet_coordinate_descent_gram(\n",
      "/Users/lewis/opt/anaconda3/lib/python3.8/site-packages/sklearn/linear_model/_coordinate_descent.py:525: ConvergenceWarning: Objective did not converge. You might want to increase the number of iterations. Duality gap: 139852536010.24445, tolerance: 458666941.127988\n",
      "  model = cd_fast.enet_coordinate_descent_gram(\n",
      "/Users/lewis/opt/anaconda3/lib/python3.8/site-packages/sklearn/linear_model/_coordinate_descent.py:525: ConvergenceWarning: Objective did not converge. You might want to increase the number of iterations. Duality gap: 480813450.3640137, tolerance: 458666941.127988\n",
      "  model = cd_fast.enet_coordinate_descent_gram(\n",
      "/Users/lewis/opt/anaconda3/lib/python3.8/site-packages/sklearn/linear_model/_coordinate_descent.py:525: ConvergenceWarning: Objective did not converge. You might want to increase the number of iterations. Duality gap: 666818899.8260498, tolerance: 458666941.127988\n",
      "  model = cd_fast.enet_coordinate_descent_gram(\n",
      "/Users/lewis/opt/anaconda3/lib/python3.8/site-packages/sklearn/linear_model/_coordinate_descent.py:525: ConvergenceWarning: Objective did not converge. You might want to increase the number of iterations. Duality gap: 992308595.9240723, tolerance: 458666941.127988\n",
      "  model = cd_fast.enet_coordinate_descent_gram(\n",
      "/Users/lewis/opt/anaconda3/lib/python3.8/site-packages/sklearn/linear_model/_coordinate_descent.py:525: ConvergenceWarning: Objective did not converge. You might want to increase the number of iterations. Duality gap: 1637561947.9020996, tolerance: 458666941.127988\n",
      "  model = cd_fast.enet_coordinate_descent_gram(\n",
      "/Users/lewis/opt/anaconda3/lib/python3.8/site-packages/sklearn/linear_model/_coordinate_descent.py:525: ConvergenceWarning: Objective did not converge. You might want to increase the number of iterations. Duality gap: 3214934442.963623, tolerance: 458666941.127988\n",
      "  model = cd_fast.enet_coordinate_descent_gram(\n",
      "/Users/lewis/opt/anaconda3/lib/python3.8/site-packages/sklearn/linear_model/_coordinate_descent.py:525: ConvergenceWarning: Objective did not converge. You might want to increase the number of iterations. Duality gap: 9015685051.519531, tolerance: 458666941.127988\n",
      "  model = cd_fast.enet_coordinate_descent_gram(\n",
      "/Users/lewis/opt/anaconda3/lib/python3.8/site-packages/sklearn/linear_model/_coordinate_descent.py:525: ConvergenceWarning: Objective did not converge. You might want to increase the number of iterations. Duality gap: 86024597136.33917, tolerance: 458666941.127988\n",
      "  model = cd_fast.enet_coordinate_descent_gram(\n",
      "/Users/lewis/opt/anaconda3/lib/python3.8/site-packages/sklearn/linear_model/_coordinate_descent.py:525: ConvergenceWarning: Objective did not converge. You might want to increase the number of iterations. Duality gap: 104625540268.08319, tolerance: 432061442.90092117\n",
      "  model = cd_fast.enet_coordinate_descent_gram(\n",
      "/Users/lewis/opt/anaconda3/lib/python3.8/site-packages/sklearn/linear_model/_coordinate_descent.py:525: ConvergenceWarning: Objective did not converge. You might want to increase the number of iterations. Duality gap: 27096550101.660767, tolerance: 432061442.90092117\n",
      "  model = cd_fast.enet_coordinate_descent_gram(\n",
      "/Users/lewis/opt/anaconda3/lib/python3.8/site-packages/sklearn/linear_model/_coordinate_descent.py:525: ConvergenceWarning: Objective did not converge. You might want to increase the number of iterations. Duality gap: 2004910852.8833008, tolerance: 432061442.90092117\n",
      "  model = cd_fast.enet_coordinate_descent_gram(\n",
      "/Users/lewis/opt/anaconda3/lib/python3.8/site-packages/sklearn/linear_model/_coordinate_descent.py:525: ConvergenceWarning: Objective did not converge. You might want to increase the number of iterations. Duality gap: 508781544.8918457, tolerance: 432061442.90092117\n",
      "  model = cd_fast.enet_coordinate_descent_gram(\n",
      "/Users/lewis/opt/anaconda3/lib/python3.8/site-packages/sklearn/linear_model/_coordinate_descent.py:525: ConvergenceWarning: Objective did not converge. You might want to increase the number of iterations. Duality gap: 628612908.8273926, tolerance: 432061442.90092117\n",
      "  model = cd_fast.enet_coordinate_descent_gram(\n",
      "/Users/lewis/opt/anaconda3/lib/python3.8/site-packages/sklearn/linear_model/_coordinate_descent.py:525: ConvergenceWarning: Objective did not converge. You might want to increase the number of iterations. Duality gap: 814845288.2139893, tolerance: 432061442.90092117\n",
      "  model = cd_fast.enet_coordinate_descent_gram(\n",
      "/Users/lewis/opt/anaconda3/lib/python3.8/site-packages/sklearn/linear_model/_coordinate_descent.py:525: ConvergenceWarning: Objective did not converge. You might want to increase the number of iterations. Duality gap: 1100682859.6640625, tolerance: 432061442.90092117\n",
      "  model = cd_fast.enet_coordinate_descent_gram(\n",
      "/Users/lewis/opt/anaconda3/lib/python3.8/site-packages/sklearn/linear_model/_coordinate_descent.py:525: ConvergenceWarning: Objective did not converge. You might want to increase the number of iterations. Duality gap: 1526693103.3931885, tolerance: 432061442.90092117\n",
      "  model = cd_fast.enet_coordinate_descent_gram(\n",
      "/Users/lewis/opt/anaconda3/lib/python3.8/site-packages/sklearn/linear_model/_coordinate_descent.py:525: ConvergenceWarning: Objective did not converge. You might want to increase the number of iterations. Duality gap: 2256268684.119629, tolerance: 432061442.90092117\n",
      "  model = cd_fast.enet_coordinate_descent_gram(\n",
      "/Users/lewis/opt/anaconda3/lib/python3.8/site-packages/sklearn/linear_model/_coordinate_descent.py:525: ConvergenceWarning: Objective did not converge. You might want to increase the number of iterations. Duality gap: 3675767076.812744, tolerance: 432061442.90092117\n",
      "  model = cd_fast.enet_coordinate_descent_gram(\n",
      "/Users/lewis/opt/anaconda3/lib/python3.8/site-packages/sklearn/linear_model/_coordinate_descent.py:525: ConvergenceWarning: Objective did not converge. You might want to increase the number of iterations. Duality gap: 7038799931.973633, tolerance: 432061442.90092117\n",
      "  model = cd_fast.enet_coordinate_descent_gram(\n",
      "/Users/lewis/opt/anaconda3/lib/python3.8/site-packages/sklearn/linear_model/_coordinate_descent.py:525: ConvergenceWarning: Objective did not converge. You might want to increase the number of iterations. Duality gap: 18597853394.422607, tolerance: 432061442.90092117\n",
      "  model = cd_fast.enet_coordinate_descent_gram(\n",
      "/Users/lewis/opt/anaconda3/lib/python3.8/site-packages/sklearn/linear_model/_coordinate_descent.py:525: ConvergenceWarning: Objective did not converge. You might want to increase the number of iterations. Duality gap: 133245124375.7561, tolerance: 432061442.90092117\n",
      "  model = cd_fast.enet_coordinate_descent_gram(\n",
      "/Users/lewis/opt/anaconda3/lib/python3.8/site-packages/sklearn/linear_model/_coordinate_descent.py:525: ConvergenceWarning: Objective did not converge. You might want to increase the number of iterations. Duality gap: 231330940558.88983, tolerance: 484363241.20916605\n",
      "  model = cd_fast.enet_coordinate_descent_gram(\n",
      "/Users/lewis/opt/anaconda3/lib/python3.8/site-packages/sklearn/linear_model/_coordinate_descent.py:525: ConvergenceWarning: Objective did not converge. You might want to increase the number of iterations. Duality gap: 3182322106.664551, tolerance: 484363241.20916605\n",
      "  model = cd_fast.enet_coordinate_descent_gram(\n"
     ]
    },
    {
     "name": "stderr",
     "output_type": "stream",
     "text": [
      "/Users/lewis/opt/anaconda3/lib/python3.8/site-packages/sklearn/linear_model/_coordinate_descent.py:525: ConvergenceWarning: Objective did not converge. You might want to increase the number of iterations. Duality gap: 611452263.7371826, tolerance: 484363241.20916605\n",
      "  model = cd_fast.enet_coordinate_descent_gram(\n",
      "/Users/lewis/opt/anaconda3/lib/python3.8/site-packages/sklearn/linear_model/_coordinate_descent.py:525: ConvergenceWarning: Objective did not converge. You might want to increase the number of iterations. Duality gap: 694046814.6625977, tolerance: 484363241.20916605\n",
      "  model = cd_fast.enet_coordinate_descent_gram(\n",
      "/Users/lewis/opt/anaconda3/lib/python3.8/site-packages/sklearn/linear_model/_coordinate_descent.py:525: ConvergenceWarning: Objective did not converge. You might want to increase the number of iterations. Duality gap: 793787645.5823975, tolerance: 484363241.20916605\n",
      "  model = cd_fast.enet_coordinate_descent_gram(\n",
      "/Users/lewis/opt/anaconda3/lib/python3.8/site-packages/sklearn/linear_model/_coordinate_descent.py:525: ConvergenceWarning: Objective did not converge. You might want to increase the number of iterations. Duality gap: 917693654.8232422, tolerance: 484363241.20916605\n",
      "  model = cd_fast.enet_coordinate_descent_gram(\n",
      "/Users/lewis/opt/anaconda3/lib/python3.8/site-packages/sklearn/linear_model/_coordinate_descent.py:525: ConvergenceWarning: Objective did not converge. You might want to increase the number of iterations. Duality gap: 1074327508.522461, tolerance: 484363241.20916605\n",
      "  model = cd_fast.enet_coordinate_descent_gram(\n",
      "/Users/lewis/opt/anaconda3/lib/python3.8/site-packages/sklearn/linear_model/_coordinate_descent.py:525: ConvergenceWarning: Objective did not converge. You might want to increase the number of iterations. Duality gap: 1276326082.5551758, tolerance: 484363241.20916605\n",
      "  model = cd_fast.enet_coordinate_descent_gram(\n",
      "/Users/lewis/opt/anaconda3/lib/python3.8/site-packages/sklearn/linear_model/_coordinate_descent.py:525: ConvergenceWarning: Objective did not converge. You might want to increase the number of iterations. Duality gap: 1543069008.6900635, tolerance: 484363241.20916605\n",
      "  model = cd_fast.enet_coordinate_descent_gram(\n",
      "/Users/lewis/opt/anaconda3/lib/python3.8/site-packages/sklearn/linear_model/_coordinate_descent.py:525: ConvergenceWarning: Objective did not converge. You might want to increase the number of iterations. Duality gap: 1905507751.4003906, tolerance: 484363241.20916605\n",
      "  model = cd_fast.enet_coordinate_descent_gram(\n",
      "/Users/lewis/opt/anaconda3/lib/python3.8/site-packages/sklearn/linear_model/_coordinate_descent.py:525: ConvergenceWarning: Objective did not converge. You might want to increase the number of iterations. Duality gap: 2415565574.191162, tolerance: 484363241.20916605\n",
      "  model = cd_fast.enet_coordinate_descent_gram(\n",
      "/Users/lewis/opt/anaconda3/lib/python3.8/site-packages/sklearn/linear_model/_coordinate_descent.py:525: ConvergenceWarning: Objective did not converge. You might want to increase the number of iterations. Duality gap: 3165826323.125366, tolerance: 484363241.20916605\n",
      "  model = cd_fast.enet_coordinate_descent_gram(\n",
      "/Users/lewis/opt/anaconda3/lib/python3.8/site-packages/sklearn/linear_model/_coordinate_descent.py:525: ConvergenceWarning: Objective did not converge. You might want to increase the number of iterations. Duality gap: 4334714496.185791, tolerance: 484363241.20916605\n",
      "  model = cd_fast.enet_coordinate_descent_gram(\n",
      "/Users/lewis/opt/anaconda3/lib/python3.8/site-packages/sklearn/linear_model/_coordinate_descent.py:525: ConvergenceWarning: Objective did not converge. You might want to increase the number of iterations. Duality gap: 6303268722.709473, tolerance: 484363241.20916605\n",
      "  model = cd_fast.enet_coordinate_descent_gram(\n",
      "/Users/lewis/opt/anaconda3/lib/python3.8/site-packages/sklearn/linear_model/_coordinate_descent.py:525: ConvergenceWarning: Objective did not converge. You might want to increase the number of iterations. Duality gap: 10010055879.738892, tolerance: 484363241.20916605\n",
      "  model = cd_fast.enet_coordinate_descent_gram(\n",
      "/Users/lewis/opt/anaconda3/lib/python3.8/site-packages/sklearn/linear_model/_coordinate_descent.py:525: ConvergenceWarning: Objective did not converge. You might want to increase the number of iterations. Duality gap: 18318385751.891968, tolerance: 484363241.20916605\n",
      "  model = cd_fast.enet_coordinate_descent_gram(\n",
      "/Users/lewis/opt/anaconda3/lib/python3.8/site-packages/sklearn/linear_model/_coordinate_descent.py:525: ConvergenceWarning: Objective did not converge. You might want to increase the number of iterations. Duality gap: 43808605390.10486, tolerance: 484363241.20916605\n",
      "  model = cd_fast.enet_coordinate_descent_gram(\n",
      "/Users/lewis/opt/anaconda3/lib/python3.8/site-packages/sklearn/linear_model/_coordinate_descent.py:525: ConvergenceWarning: Objective did not converge. You might want to increase the number of iterations. Duality gap: 213294954683.60278, tolerance: 484363241.20916605\n",
      "  model = cd_fast.enet_coordinate_descent_gram(\n",
      "/Users/lewis/opt/anaconda3/lib/python3.8/site-packages/sklearn/linear_model/_coordinate_descent.py:525: ConvergenceWarning: Objective did not converge. You might want to increase the number of iterations. Duality gap: 143798893218.95966, tolerance: 468985887.0084762\n",
      "  model = cd_fast.enet_coordinate_descent_gram(\n",
      "/Users/lewis/opt/anaconda3/lib/python3.8/site-packages/sklearn/linear_model/_coordinate_descent.py:525: ConvergenceWarning: Objective did not converge. You might want to increase the number of iterations. Duality gap: 1745323141.251831, tolerance: 468985887.0084762\n",
      "  model = cd_fast.enet_coordinate_descent_gram(\n",
      "/Users/lewis/opt/anaconda3/lib/python3.8/site-packages/sklearn/linear_model/_coordinate_descent.py:525: ConvergenceWarning: Objective did not converge. You might want to increase the number of iterations. Duality gap: 509669855.8647461, tolerance: 468985887.0084762\n",
      "  model = cd_fast.enet_coordinate_descent_gram(\n",
      "/Users/lewis/opt/anaconda3/lib/python3.8/site-packages/sklearn/linear_model/_coordinate_descent.py:525: ConvergenceWarning: Objective did not converge. You might want to increase the number of iterations. Duality gap: 596149506.7491455, tolerance: 468985887.0084762\n",
      "  model = cd_fast.enet_coordinate_descent_gram(\n",
      "/Users/lewis/opt/anaconda3/lib/python3.8/site-packages/sklearn/linear_model/_coordinate_descent.py:525: ConvergenceWarning: Objective did not converge. You might want to increase the number of iterations. Duality gap: 709585756.47229, tolerance: 468985887.0084762\n",
      "  model = cd_fast.enet_coordinate_descent_gram(\n",
      "/Users/lewis/opt/anaconda3/lib/python3.8/site-packages/sklearn/linear_model/_coordinate_descent.py:525: ConvergenceWarning: Objective did not converge. You might want to increase the number of iterations. Duality gap: 860016511.6533203, tolerance: 468985887.0084762\n",
      "  model = cd_fast.enet_coordinate_descent_gram(\n",
      "/Users/lewis/opt/anaconda3/lib/python3.8/site-packages/sklearn/linear_model/_coordinate_descent.py:525: ConvergenceWarning: Objective did not converge. You might want to increase the number of iterations. Duality gap: 1065350434.5771484, tolerance: 468985887.0084762\n",
      "  model = cd_fast.enet_coordinate_descent_gram(\n",
      "/Users/lewis/opt/anaconda3/lib/python3.8/site-packages/sklearn/linear_model/_coordinate_descent.py:525: ConvergenceWarning: Objective did not converge. You might want to increase the number of iterations. Duality gap: 7889538850.960449, tolerance: 468985887.0084762\n",
      "  model = cd_fast.enet_coordinate_descent_gram(\n",
      "/Users/lewis/opt/anaconda3/lib/python3.8/site-packages/sklearn/linear_model/_coordinate_descent.py:525: ConvergenceWarning: Objective did not converge. You might want to increase the number of iterations. Duality gap: 16958308302.653809, tolerance: 468985887.0084762\n",
      "  model = cd_fast.enet_coordinate_descent_gram(\n",
      "/Users/lewis/opt/anaconda3/lib/python3.8/site-packages/sklearn/linear_model/_coordinate_descent.py:525: ConvergenceWarning: Objective did not converge. You might want to increase the number of iterations. Duality gap: 20827061691.371826, tolerance: 468985887.0084762\n",
      "  model = cd_fast.enet_coordinate_descent_gram(\n",
      "/Users/lewis/opt/anaconda3/lib/python3.8/site-packages/sklearn/linear_model/_coordinate_descent.py:525: ConvergenceWarning: Objective did not converge. You might want to increase the number of iterations. Duality gap: 226983423761.7328, tolerance: 468985887.0084762\n",
      "  model = cd_fast.enet_coordinate_descent_gram(\n",
      "/Users/lewis/opt/anaconda3/lib/python3.8/site-packages/sklearn/linear_model/_coordinate_descent.py:529: ConvergenceWarning: Objective did not converge. You might want to increase the number of iterations. Duality gap: 132208943334.11707, tolerance: 580186934.2232984\n",
      "  model = cd_fast.enet_coordinate_descent(\n"
     ]
    },
    {
     "data": {
      "text/plain": [
       "0.8029474034797098"
      ]
     },
     "execution_count": 46,
     "metadata": {},
     "output_type": "execute_result"
    }
   ],
   "source": [
    "# Lasso\n",
    "lasso_cv = LassoCV(alphas=np.linspace(0.01,1.5,40))\n",
    "lasso_cv.fit(X_train, y_train)\n",
    "lasso_cv.score(X_train, y_train)"
   ]
  },
  {
   "cell_type": "code",
   "execution_count": 47,
   "metadata": {},
   "outputs": [
    {
     "name": "stderr",
     "output_type": "stream",
     "text": [
      "[Parallel(n_jobs=8)]: Using backend ThreadingBackend with 8 concurrent workers.\n",
      "......................................................................................................................................................................................................................................................................................................................................................................................................................................................................................................................................................................................................................................................................................................................................................................................................................................................................................................................................................................................................................................................................................................................................................................................................................................................................................................................................................................................................................................................................................................................................................................................................................................................................................................................................................................................................................................................................................................................................................................................................................................................................................................................................................................................................................................................................................................................................................................................................................................................................................................................................................................................................................................................................................................................................................................................................................................................................................................................................................................................................................................................................................................................................................................................................................................................................................................................................................................................................................................................................................................................................................................................................................................................................................................................................................................................................................................................................................................................................................................................[Parallel(n_jobs=8)]: Done  34 tasks      | elapsed:    2.2s\n"
     ]
    },
    {
     "name": "stderr",
     "output_type": "stream",
     "text": [
      "..............................................................................................................................................................................................................................................................................................................................................................................................................................................................................................................................................................................................................................................................................................................................................................................................................................................................................................................................................................................................................................................................................................................................................................................................................................................................................................................................................................................................................................................................................................................................................................................................................................................................................................................................................................................................................................................................................................................................................................................................................................................................................................................................................................................................................................................................................................................................................................................................................................................................................................................................................................................................................................................................................................................................................................................................................................................................................................................................................................................................................................................................................................................................................................................................................................................................................................................................................................................................................................................................................................................................................................................................................................................................................................................................................................................................................................................................................................................................................................................................................................................................................................................................................................................................................................................................................................................................................................................................................................................................................................................................................................................................................................................................................................................................................................................................................................................................................................................................................................................................................................................................................................................................................................................................................................................................................................................................................................................................................................................................................................................................................................................................................................................................................................................................................................................................................................................................................................................................................................................................................................................................................................................................................................................................................................................................................................................................................................................................................................................................................................................................................................................................................................................................................................................................................................................................................................................................................................................................................................................................................................................................................................................................................................................................................................................................................................................................................................................................................................................................................................................................................................................................................................................................................................................................................................................................................................................................................................................................................................................................................................................................................................................................................................................................................................................................................................................................................................................................................................................................................................................................................................................................................................................................................................................................................................................................................................................................................................................................................................................................................................[Parallel(n_jobs=8)]: Done 125 out of 125 | elapsed:    8.0s finished\n"
     ]
    },
    {
     "data": {
      "text/plain": [
       "0.6852086056598765"
      ]
     },
     "execution_count": 47,
     "metadata": {},
     "output_type": "execute_result"
    }
   ],
   "source": [
    "# ElasticNet\n",
    "elastic_cv = ElasticNetCV(l1_ratio=np.linspace(0.01, 1.0, 25), n_alphas=100, cv=5,verbose=1, n_jobs=8)\n",
    "elastic_cv.fit(X_train, y_train)\n",
    "elastic_cv.score(X_train, y_train)"
   ]
  },
  {
   "cell_type": "markdown",
   "metadata": {},
   "source": []
  },
  {
   "cell_type": "code",
   "execution_count": 53,
   "metadata": {},
   "outputs": [
    {
     "name": "stdout",
     "output_type": "stream",
     "text": [
      "Lasso test set R2: 0.7493143849889305\n"
     ]
    }
   ],
   "source": [
    "print(f'Lasso test set R2:',lasso_cv.score(X_test,y_test))"
   ]
  },
  {
   "cell_type": "markdown",
   "metadata": {},
   "source": [
    "**Evaluate the effect in dollars of the renovatable features.** \n",
    "\n",
    "The table below shows lasso_cv's 20 largest coefficients for the mutable features. 13 of these relate to a property's exterior material (i.e. those who's names begin with Exterior2nd or Exterior1st), including the largest coefficient, for Exterior2nd_MetalSd (metal siding). 2 relate to the roof material. 3 relate to the functionality of the property (i.e. whether any deductions are warranted). \n",
    "\n",
    "To determine the effect in dollars of renovatable features, we can look at the size of the coefficients. For any continuously valued variables, the coefficients indicate dollar value change in SalePrice associated with increasing or decreasing that variable by 1 unit. For the catergorical variables, the coefficients indicate the dollar value change associated with being in that catergory. Thus, by moving a property out of that catergory (by renovations), we would expect the property's SalePrice to increase or decrease by the inverse of that amount. For instance, changing the metal siding on a building is predicted to be associated with increasing that property's value by $83,564."
   ]
  },
  {
   "cell_type": "code",
   "execution_count": 52,
   "metadata": {},
   "outputs": [
    {
     "data": {
      "text/html": [
       "<div>\n",
       "<style scoped>\n",
       "    .dataframe tbody tr th:only-of-type {\n",
       "        vertical-align: middle;\n",
       "    }\n",
       "\n",
       "    .dataframe tbody tr th {\n",
       "        vertical-align: top;\n",
       "    }\n",
       "\n",
       "    .dataframe thead th {\n",
       "        text-align: right;\n",
       "    }\n",
       "</style>\n",
       "<table border=\"1\" class=\"dataframe\">\n",
       "  <thead>\n",
       "    <tr style=\"text-align: right;\">\n",
       "      <th></th>\n",
       "      <th>variable</th>\n",
       "      <th>coef</th>\n",
       "      <th>abs_coef</th>\n",
       "    </tr>\n",
       "  </thead>\n",
       "  <tbody>\n",
       "    <tr>\n",
       "      <th>51</th>\n",
       "      <td>Exterior2nd_MetalSd</td>\n",
       "      <td>-83564.113003</td>\n",
       "      <td>83564.113003</td>\n",
       "    </tr>\n",
       "    <tr>\n",
       "      <th>56</th>\n",
       "      <td>Exterior2nd_Wd Shng</td>\n",
       "      <td>-80333.350459</td>\n",
       "      <td>80333.350459</td>\n",
       "    </tr>\n",
       "    <tr>\n",
       "      <th>34</th>\n",
       "      <td>RoofMatl_CompShg</td>\n",
       "      <td>-78601.167648</td>\n",
       "      <td>78601.167648</td>\n",
       "    </tr>\n",
       "    <tr>\n",
       "      <th>55</th>\n",
       "      <td>Exterior2nd_Wd Sdng</td>\n",
       "      <td>-72063.432196</td>\n",
       "      <td>72063.432196</td>\n",
       "    </tr>\n",
       "    <tr>\n",
       "      <th>47</th>\n",
       "      <td>Exterior2nd_BrkFace</td>\n",
       "      <td>-71757.708573</td>\n",
       "      <td>71757.708573</td>\n",
       "    </tr>\n",
       "    <tr>\n",
       "      <th>49</th>\n",
       "      <td>Exterior2nd_HdBoard</td>\n",
       "      <td>-70880.614439</td>\n",
       "      <td>70880.614439</td>\n",
       "    </tr>\n",
       "    <tr>\n",
       "      <th>52</th>\n",
       "      <td>Exterior2nd_Plywood</td>\n",
       "      <td>-64664.106109</td>\n",
       "      <td>64664.106109</td>\n",
       "    </tr>\n",
       "    <tr>\n",
       "      <th>35</th>\n",
       "      <td>RoofMatl_Tar&amp;Grv</td>\n",
       "      <td>-59909.956923</td>\n",
       "      <td>59909.956923</td>\n",
       "    </tr>\n",
       "    <tr>\n",
       "      <th>37</th>\n",
       "      <td>Exterior1st_BrkFace</td>\n",
       "      <td>57763.122008</td>\n",
       "      <td>57763.122008</td>\n",
       "    </tr>\n",
       "    <tr>\n",
       "      <th>66</th>\n",
       "      <td>BsmtFinType1_No Basement</td>\n",
       "      <td>54583.456209</td>\n",
       "      <td>54583.456209</td>\n",
       "    </tr>\n",
       "    <tr>\n",
       "      <th>53</th>\n",
       "      <td>Exterior2nd_Stucco</td>\n",
       "      <td>-51390.057849</td>\n",
       "      <td>51390.057849</td>\n",
       "    </tr>\n",
       "    <tr>\n",
       "      <th>54</th>\n",
       "      <td>Exterior2nd_VinylSd</td>\n",
       "      <td>-50956.778561</td>\n",
       "      <td>50956.778561</td>\n",
       "    </tr>\n",
       "    <tr>\n",
       "      <th>81</th>\n",
       "      <td>Functional_Min1</td>\n",
       "      <td>46809.597962</td>\n",
       "      <td>46809.597962</td>\n",
       "    </tr>\n",
       "    <tr>\n",
       "      <th>40</th>\n",
       "      <td>Exterior1st_MetalSd</td>\n",
       "      <td>46658.674581</td>\n",
       "      <td>46658.674581</td>\n",
       "    </tr>\n",
       "    <tr>\n",
       "      <th>83</th>\n",
       "      <td>Functional_Mod</td>\n",
       "      <td>45961.893517</td>\n",
       "      <td>45961.893517</td>\n",
       "    </tr>\n",
       "    <tr>\n",
       "      <th>38</th>\n",
       "      <td>Exterior1st_CemntBd</td>\n",
       "      <td>-44958.601963</td>\n",
       "      <td>44958.601963</td>\n",
       "    </tr>\n",
       "    <tr>\n",
       "      <th>82</th>\n",
       "      <td>Functional_Min2</td>\n",
       "      <td>42944.245113</td>\n",
       "      <td>42944.245113</td>\n",
       "    </tr>\n",
       "    <tr>\n",
       "      <th>46</th>\n",
       "      <td>Exterior2nd_AsbShng</td>\n",
       "      <td>-40984.506877</td>\n",
       "      <td>40984.506877</td>\n",
       "    </tr>\n",
       "    <tr>\n",
       "      <th>78</th>\n",
       "      <td>Electrical_FuseF</td>\n",
       "      <td>-39798.374741</td>\n",
       "      <td>39798.374741</td>\n",
       "    </tr>\n",
       "    <tr>\n",
       "      <th>44</th>\n",
       "      <td>Exterior1st_Wd Sdng</td>\n",
       "      <td>37059.736824</td>\n",
       "      <td>37059.736824</td>\n",
       "    </tr>\n",
       "  </tbody>\n",
       "</table>\n",
       "</div>"
      ],
      "text/plain": [
       "                    variable          coef      abs_coef\n",
       "51       Exterior2nd_MetalSd -83564.113003  83564.113003\n",
       "56       Exterior2nd_Wd Shng -80333.350459  80333.350459\n",
       "34          RoofMatl_CompShg -78601.167648  78601.167648\n",
       "55       Exterior2nd_Wd Sdng -72063.432196  72063.432196\n",
       "47       Exterior2nd_BrkFace -71757.708573  71757.708573\n",
       "49       Exterior2nd_HdBoard -70880.614439  70880.614439\n",
       "52       Exterior2nd_Plywood -64664.106109  64664.106109\n",
       "35          RoofMatl_Tar&Grv -59909.956923  59909.956923\n",
       "37       Exterior1st_BrkFace  57763.122008  57763.122008\n",
       "66  BsmtFinType1_No Basement  54583.456209  54583.456209\n",
       "53        Exterior2nd_Stucco -51390.057849  51390.057849\n",
       "54       Exterior2nd_VinylSd -50956.778561  50956.778561\n",
       "81           Functional_Min1  46809.597962  46809.597962\n",
       "40       Exterior1st_MetalSd  46658.674581  46658.674581\n",
       "83            Functional_Mod  45961.893517  45961.893517\n",
       "38       Exterior1st_CemntBd -44958.601963  44958.601963\n",
       "82           Functional_Min2  42944.245113  42944.245113\n",
       "46       Exterior2nd_AsbShng -40984.506877  40984.506877\n",
       "78          Electrical_FuseF -39798.374741  39798.374741\n",
       "44       Exterior1st_Wd Sdng  37059.736824  37059.736824"
      ]
     },
     "execution_count": 52,
     "metadata": {},
     "output_type": "execute_result"
    }
   ],
   "source": [
    "lasso_cv_coefs = pd.DataFrame({'variable': X_train.columns,\n",
    "              'coef':lasso_cv.coef_,\n",
    "              'abs_coef': np.abs(lasso_cv.coef_)})\n",
    "\n",
    "lasso_cv_coefs.sort_values('abs_coef', inplace=True, ascending=False)\n",
    "\n",
    "lasso_cv_coefs.head(20)"
   ]
  },
  {
   "cell_type": "markdown",
   "metadata": {},
   "source": [
    "**How would your company use this second model and its coefficients to determine whether they should buy a property or not?** \n",
    "\n",
    "In order to use this second model to determine whether you should by a property, it is necessary to know the potential cost of all possible renovations you might be able to carry out on the property. Assuming this is known, this model can be used to identify the properties with renovatable features which have the greatest negative impact on their price, but which can be renovated with the smallest investment. You should never buy a property who's predicted increase in value following renovations is less that the cost of those renovations, this model can be used to check whether this is the case. Better still, by balancing the cost of renovations against the predicted increase in value associated with those renovations, this model can be used to help estimate the overall profit which can be made on a particular property.\n",
    "\n",
    "**Explain how the company can use the two models you have built to determine if they can make money.**\n",
    "\n",
    "The first model can be used to estimate the base price of a property. The 2nd model can be used to estiamte by how much that base price can be increased by renovations. By comparing the estimated base price to the offered price (on the market), the company can determine which properties are undervalued (pre-renovations). Furthermore the 2nd model can be used to compare the cost of renovations to the impact they could have on the overall price. These two observations can be used by the company can estimate if and how much money they could expect to make on a particular property.\n",
    "\n",
    "****Investigate how much of the variance in price remaining is explained by these features. Do you trust your model? Should it be used to evaluate which properties to buy and fix up?**\n",
    "\n",
    "The two models perform reasonably well. The model based on fixed features can account for a larger amount of the variance in the target variable (87%) than the model based on the mutable features (75%). However, these are both fairly high R2 scores.\n",
    "\n",
    "There are some reasons not to trust these models. Firstly, the dataset on which they have been trained is quite small (<1000 records). To have greater trust in them, I would like to train them on an expanded training set. Further more, the training set on which they were trained spans one of the most historically distruptive periods in the US housing market (the 2007/08 financial crash). As such, I have some doubts about the generalizability of these models to other time periods. Again, this could be addressesed by further data collection (spanning a larger time period). I would also like to try modelling this data with some other methods to compare against these models before considering them trust worthy.\n",
    "\n",
    "Ultimately, whether or not these models should be used to evaluate which properties should be bought and renovated depends upon the buyer's tolerance for risk. Most of the time, these models should be able to fairly accurate predictions. However, they are not perfect and so any decisions made with them need to take account for a margin of error."
   ]
  },
  {
   "cell_type": "markdown",
   "metadata": {},
   "source": [
    "**Investigate how much of the variance in price remaining is explained by these features.**\n"
   ]
  },
  {
   "cell_type": "markdown",
   "metadata": {},
   "source": [
    "<img src=\"http://imgur.com/GCAf1UX.png\" style=\"float: left; margin: 25px 15px 0px 0px; height: 25px\">\n",
    "\n",
    "## 3. What property characteristics predict an \"abnormal\" sale?\n",
    "\n",
    "---\n",
    "\n",
    "The `SaleCondition` feature indicates the circumstances of the house sale. From the data file, we can see that the possibilities are:\n",
    "\n",
    "       Normal\tNormal Sale\n",
    "       Abnorml\tAbnormal Sale -  trade, foreclosure, short sale\n",
    "       AdjLand\tAdjoining Land Purchase\n",
    "       Alloca\tAllocation - two linked properties with separate deeds, typically condo with a garage unit\t\n",
    "       Family\tSale between family members\n",
    "       Partial\tHome was not completed when last assessed (associated with New Homes)\n",
    "       \n",
    "One of the executives at your company has an \"in\" with higher-ups at the major regional bank. His friends at the bank have made him a proposal: if he can reliably indicate what features, if any, predict \"abnormal\" sales (foreclosures, short sales, etc.), then in return the bank will give him first dibs on the pre-auction purchase of those properties (at a dirt-cheap price).\n",
    "\n",
    "He has tasked you with determining (and adequately validating) which features of a property predict this type of sale. \n",
    "\n",
    "---\n",
    "\n",
    "**Your task:**\n",
    "1. Determine which features predict the `Abnorml` category in the `SaleCondition` feature.\n",
    "- Justify your results.\n",
    "\n",
    "This is a challenging task that tests your ability to perform classification analysis in the face of severe class imbalance. You may find that simply running a classifier on the full dataset to predict the category ends up useless: when there is bad class imbalance classifiers often tend to simply guess the majority class.\n",
    "\n",
    "It is up to you to determine how you will tackle this problem. It is recommended to do some research to find out how others have dealt with the problem in the past. Make sure to justify your solution. Don't worry about it being \"the best\" solution, but be rigorous.\n",
    "\n",
    "Be sure to indicate which features are predictive (if any) and whether they are positive or negative predictors of abnormal sales."
   ]
  },
  {
   "cell_type": "code",
   "execution_count": null,
   "metadata": {},
   "outputs": [],
   "source": [
    "# A:"
   ]
  },
  {
   "cell_type": "code",
   "execution_count": null,
   "metadata": {},
   "outputs": [],
   "source": []
  },
  {
   "cell_type": "markdown",
   "metadata": {},
   "source": [
    "Out of time, but my approach would be:\n",
    "* build a binary classifier (e.g. logistic regression) to predicit whether a property's SaleCondition is 'Abnorml' or not.\n",
    "* evaluate it's performance on both precision and recall (possibly F1 score). Precision is most important, as false positives are worse than false negatives in this instance.\n",
    "* begin experimenting with methods to address the class imbalance, including:\n",
    "    * undersampling the negative class, trying various amounts to see how much data can be preserved whilst still producing a viable model\n",
    "    * generating synthetic samples for the positive class \n",
    "    * random forest classifier with stratified sampling (such that each tree has a balanced, but distinct sample)"
   ]
  }
 ],
 "metadata": {
  "kernelspec": {
   "display_name": "Python 3 (ipykernel)",
   "language": "python",
   "name": "python3"
  },
  "language_info": {
   "codemirror_mode": {
    "name": "ipython",
    "version": 3
   },
   "file_extension": ".py",
   "mimetype": "text/x-python",
   "name": "python",
   "nbconvert_exporter": "python",
   "pygments_lexer": "ipython3",
   "version": "3.9.13"
  },
  "toc": {
   "base_numbering": 1,
   "nav_menu": {},
   "number_sections": false,
   "sideBar": true,
   "skip_h1_title": true,
   "title_cell": "Table of Contents",
   "title_sidebar": "Contents",
   "toc_cell": false,
   "toc_position": {},
   "toc_section_display": "block",
   "toc_window_display": false
  }
 },
 "nbformat": 4,
 "nbformat_minor": 2
}
